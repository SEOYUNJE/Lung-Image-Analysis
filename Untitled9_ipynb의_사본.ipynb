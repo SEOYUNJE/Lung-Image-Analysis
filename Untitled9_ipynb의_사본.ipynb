{
  "nbformat": 4,
  "nbformat_minor": 0,
  "metadata": {
    "colab": {
      "provenance": [],
      "authorship_tag": "ABX9TyOZYfzGISpX4C5MNlXc9WYS",
      "include_colab_link": true
    },
    "kernelspec": {
      "name": "python3",
      "display_name": "Python 3"
    },
    "language_info": {
      "name": "python"
    }
  },
  "cells": [
    {
      "cell_type": "markdown",
      "metadata": {
        "id": "view-in-github",
        "colab_type": "text"
      },
      "source": [
        "<a href=\"https://colab.research.google.com/github/SEOYUNJE/Lung-Image-Analysis/blob/main/Untitled9_ipynb%EC%9D%98_%EC%82%AC%EB%B3%B8.ipynb\" target=\"_parent\"><img src=\"https://colab.research.google.com/assets/colab-badge.svg\" alt=\"Open In Colab\"/></a>"
      ]
    },
    {
      "cell_type": "code",
      "execution_count": null,
      "metadata": {
        "id": "-GG2AhaMNUjm"
      },
      "outputs": [],
      "source": [
        "import tensorflow as tf"
      ]
    },
    {
      "cell_type": "code",
      "source": [
        "class ExponentialGate(tf.keras.layers.Layer):\n",
        "    def __init__(self, units):\n",
        "        super(ExponentialGate, self).__init__()\n",
        "        self.units = units\n",
        "        self.dense = tf.keras.layers.Dense(units)\n",
        "\n",
        "    def call(self, inputs):\n",
        "        return tf.exp(self.dense(inputs))"
      ],
      "metadata": {
        "id": "SMqhhFPJNdUP"
      },
      "execution_count": null,
      "outputs": []
    },
    {
      "cell_type": "code",
      "source": [
        "class mLSTMCell(tf.keras.layers.Layer):\n",
        "    def __init__(self, units):\n",
        "        super(mLSTMCell, self).__init__()\n",
        "        self.units = units\n",
        "\n",
        "        self.key_transform = tf.keras.layers.Dense(units)\n",
        "        self.value_transform = tf.keras.layers.Dense(units)\n",
        "        self.query_transform = tf.keras.layers.Dense(units)\n",
        "\n",
        "        self.input_gate = ExponentialGate(units)\n",
        "        self.forget_gate = ExponentialGate(units)\n",
        "        self.output_gate = tf.keras.layers.Dense(units)\n",
        "\n",
        "    def call(self, inputs, states):\n",
        "        h_prev, c_prev = states\n",
        "        k_t = self.key_transform(inputs)\n",
        "        v_t = self.value_transform(inputs)\n",
        "        q_t = self.query_transform(inputs)\n",
        "\n",
        "        i_t = self.input_gate(inputs)\n",
        "        f_t = tf.sigmoid(self.forget_gate(inputs))\n",
        "        o_t = tf.sigmoid(self.output_gate(inputs))\n",
        "\n",
        "        c_t = tf.matmul(tf.expand_dims(v_t, axis=2), tf.expand_dims(k_t, axis=1))\n",
        "        h_t = tf.matmul(c_t, tf.expand_dims(q_t, axis=2))\n",
        "        h_t = tf.squeeze(h_t, axis=-1)\n",
        "\n",
        "        return h_t, [h_t, c_t]\n",
        "\n",
        "    def compute_output_shape(self, input_shape):\n",
        "        return (input_shape[0], self.units)"
      ],
      "metadata": {
        "id": "SLDoPUG9NeVF"
      },
      "execution_count": null,
      "outputs": []
    },
    {
      "cell_type": "code",
      "source": [
        "class sLSTMCell(tf.keras.layers.Layer):\n",
        "    def __init__(self, units):\n",
        "        super(sLSTMCell, self).__init__()\n",
        "        self.units = units\n",
        "\n",
        "        self.input_gate = ExponentialGate(units)\n",
        "        self.forget_gate = ExponentialGate(units)\n",
        "        self.output_gate = tf.keras.layers.Dense(units)\n",
        "\n",
        "        self.input_transform = tf.keras.layers.Dense(units)\n",
        "        self.hidden_transform = tf.keras.layers.Dense(units)\n",
        "\n",
        "    def call(self, inputs, states):\n",
        "        h_prev, c_prev = states\n",
        "        i_t = self.input_gate(inputs)\n",
        "        f_t = tf.sigmoid(self.forget_gate(inputs))\n",
        "        o_t = tf.sigmoid(self.output_gate(inputs))\n",
        "\n",
        "        c_t = f_t * c_prev + i_t * tf.tanh(self.input_transform(inputs))\n",
        "        h_t = o_t * tf.tanh(c_t)\n",
        "        return h_t, [h_t, c_t]"
      ],
      "metadata": {
        "id": "62HTTRziN5Kt"
      },
      "execution_count": null,
      "outputs": []
    },
    {
      "cell_type": "code",
      "source": [
        "class xLSTMBlock(tf.keras.layers.Layer):\n",
        "    def __init__(self, units, block_type='sLSTM'):\n",
        "        super(xLSTMBlock, self).__init__()\n",
        "        self.block_type = block_type\n",
        "\n",
        "        if block_type == 'sLSTM':\n",
        "            self.cell = sLSTMCell(units)\n",
        "        elif block_type == 'mLSTM':\n",
        "            self.cell = mLSTMCell(units)\n",
        "        else:\n",
        "            raise ValueError(\"block_type must be 'sLSTM' or 'mLSTM'\")\n",
        "\n",
        "    def call(self, inputs, states):\n",
        "        return self.cell(inputs, states)"
      ],
      "metadata": {
        "id": "2UPV2pztOJ-6"
      },
      "execution_count": null,
      "outputs": []
    },
    {
      "cell_type": "code",
      "source": [
        "class xLSTMLayer(tf.keras.layers.Layer):\n",
        "    def __init__(self, hidden_dim, num_layers, block_types):\n",
        "        super(xLSTMLayer, self).__init__(name='lstm_layer')\n",
        "        self.hidden_dim = hidden_dim\n",
        "        self.num_layers = num_layers\n",
        "\n",
        "        self.blocks = [xLSTMBlock(hidden_dim, block_types[i]) for i in range(num_layers)]\n",
        "\n",
        "    def call(self, inputs, training=False):\n",
        "        batch_size = tf.shape(inputs)[0]\n",
        "        seq_len = tf.shape(inputs)[1]\n",
        "\n",
        "        h = [tf.zeros((batch_size, self.hidden_dim)) for _ in range(self.num_layers)]\n",
        "        c = [tf.zeros((batch_size, self.hidden_dim)) for _ in range(self.num_layers)]\n",
        "\n",
        "        ta = tf.TensorArray(dtype=tf.float32, size=seq_len)\n",
        "\n",
        "        for t in tf.range(seq_len):\n",
        "            xt = inputs[:, t, :]\n",
        "            for i in range(self.num_layers):\n",
        "                h[i], [h[i], c[i]] = self.blocks[i](xt, [h[i], c[i]])\n",
        "                xt = h[i]\n",
        "            ta = ta.write(t, h[-1])\n",
        "\n",
        "        hidden_states = ta.stack()\n",
        "        hidden_states = tf.transpose(hidden_states, [1, 0, 2])\n",
        "\n",
        "        out = hidden_states[:, -1, :]\n",
        "        return out\n"
      ],
      "metadata": {
        "id": "cdaV5l8C0eQ6"
      },
      "execution_count": null,
      "outputs": []
    }
  ]
}