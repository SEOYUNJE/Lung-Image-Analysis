{
  "nbformat": 4,
  "nbformat_minor": 0,
  "metadata": {
    "colab": {
      "provenance": [],
      "authorship_tag": "ABX9TyNDzGAd3KQJ1gL7dsAJpjky",
      "include_colab_link": true
    },
    "kernelspec": {
      "name": "python3",
      "display_name": "Python 3"
    },
    "language_info": {
      "name": "python"
    }
  },
  "cells": [
    {
      "cell_type": "markdown",
      "metadata": {
        "id": "view-in-github",
        "colab_type": "text"
      },
      "source": [
        "<a href=\"https://colab.research.google.com/github/SEOYUNJE/Lung-Image-Analysis/blob/main/Untitled2.ipynb\" target=\"_parent\"><img src=\"https://colab.research.google.com/assets/colab-badge.svg\" alt=\"Open In Colab\"/></a>"
      ]
    },
    {
      "cell_type": "markdown",
      "source": [
        "## Import Library"
      ],
      "metadata": {
        "id": "f31CeCDbrHW2"
      }
    },
    {
      "cell_type": "code",
      "source": [
        "import os\n",
        "from glob import glob\n",
        "\n",
        "import pandas as pd, numpy as np\n",
        "import matplotlib.pyplot as plt\n",
        "import seaborn as sns\n",
        "from sklearn.model_selection import train_test_split"
      ],
      "metadata": {
        "id": "BZflHQcZrIkW"
      },
      "execution_count": 14,
      "outputs": []
    },
    {
      "cell_type": "markdown",
      "source": [
        "## Road and Read Data"
      ],
      "metadata": {
        "id": "q_S-mR6PrZ1c"
      }
    },
    {
      "cell_type": "code",
      "source": [
        "!pip install -q opendatasets\n",
        "import opendatasets as od\n",
        "# Covid19\n",
        "od.download('https://www.kaggle.com/datasets/jtiptj/chest-xray-pneumoniacovid19tuberculosis')\n",
        "# Pneumonia\n",
        "od.download('https://www.kaggle.com/datasets/paultimothymooney/chest-xray-pneumonia')\n",
        "# Tuberculosis\n",
        "od.download('https://www.kaggle.com/datasets/tawsifurrahman/tuberculosis-tb-chest-xray-dataset')\n",
        "# NIH Datasets(8 Lung Diseases & No Finding)\n",
        "od.download('https://www.kaggle.com/datasets/nih-chest-xrays/data')"
      ],
      "metadata": {
        "colab": {
          "base_uri": "https://localhost:8080/"
        },
        "id": "IrH74uKMrdFs",
        "outputId": "5ad87f1d-6516-4094-b381-2c4a9e0ab15d"
      },
      "execution_count": 3,
      "outputs": [
        {
          "output_type": "stream",
          "name": "stdout",
          "text": [
            "Please provide your Kaggle credentials to download this dataset. Learn more: http://bit.ly/kaggle-creds\n",
            "Your Kaggle username: seoyunje\n",
            "Your Kaggle Key: ··········\n",
            "Dataset URL: https://www.kaggle.com/datasets/jtiptj/chest-xray-pneumoniacovid19tuberculosis\n",
            "Downloading chest-xray-pneumoniacovid19tuberculosis.zip to ./chest-xray-pneumoniacovid19tuberculosis\n"
          ]
        },
        {
          "output_type": "stream",
          "name": "stderr",
          "text": [
            "100%|██████████| 1.74G/1.74G [01:23<00:00, 22.4MB/s]\n"
          ]
        },
        {
          "output_type": "stream",
          "name": "stdout",
          "text": [
            "\n",
            "Please provide your Kaggle credentials to download this dataset. Learn more: http://bit.ly/kaggle-creds\n",
            "Your Kaggle username: seoyunje\n",
            "Your Kaggle Key: ··········\n",
            "Dataset URL: https://www.kaggle.com/datasets/paultimothymooney/chest-xray-pneumonia\n",
            "Downloading chest-xray-pneumonia.zip to ./chest-xray-pneumonia\n"
          ]
        },
        {
          "output_type": "stream",
          "name": "stderr",
          "text": [
            "100%|██████████| 2.29G/2.29G [01:42<00:00, 23.9MB/s]\n"
          ]
        },
        {
          "output_type": "stream",
          "name": "stdout",
          "text": [
            "\n",
            "Please provide your Kaggle credentials to download this dataset. Learn more: http://bit.ly/kaggle-creds\n",
            "Your Kaggle username: seoyunje\n",
            "Your Kaggle Key: ··········\n",
            "Dataset URL: https://www.kaggle.com/datasets/tawsifurrahman/tuberculosis-tb-chest-xray-dataset\n",
            "Downloading tuberculosis-tb-chest-xray-dataset.zip to ./tuberculosis-tb-chest-xray-dataset\n"
          ]
        },
        {
          "output_type": "stream",
          "name": "stderr",
          "text": [
            "100%|██████████| 663M/663M [00:26<00:00, 26.4MB/s]\n"
          ]
        },
        {
          "output_type": "stream",
          "name": "stdout",
          "text": [
            "\n",
            "Please provide your Kaggle credentials to download this dataset. Learn more: http://bit.ly/kaggle-creds\n",
            "Your Kaggle username: seoyunje\n",
            "Your Kaggle Key: ··········\n",
            "Dataset URL: https://www.kaggle.com/datasets/nih-chest-xrays/data\n",
            "Downloading data.zip to ./data\n"
          ]
        },
        {
          "output_type": "stream",
          "name": "stderr",
          "text": [
            "100%|██████████| 42.0G/42.0G [33:31<00:00, 22.4MB/s]\n"
          ]
        },
        {
          "output_type": "stream",
          "name": "stdout",
          "text": [
            "\n"
          ]
        }
      ]
    },
    {
      "cell_type": "markdown",
      "source": [
        "#### Loading NIH Datasets(8 Lung Diseases & No Finding)\n",
        "\n",
        "If you want to see EDA for this dataset, Click below notebook\n",
        "\n",
        "-> https://www.kaggle.com/code/seoyunje/nih-chest-x-ray-eda-baseline-starter"
      ],
      "metadata": {
        "id": "UTCVQhiHsVRy"
      }
    },
    {
      "cell_type": "markdown",
      "source": [
        "📌 All Images Size are `1024x1024`\n",
        "\n",
        "📌 Image format: `Png`"
      ],
      "metadata": {
        "id": "P0jM5sFluPOY"
      }
    },
    {
      "cell_type": "code",
      "source": [
        "df = pd.read_csv('/content/data/Data_Entry_2017.csv')\n",
        "df = df.drop(columns='Unnamed: 11')\n",
        "print(f'Shape of DataFrame: {df.shape}')\n",
        "df.head()"
      ],
      "metadata": {
        "colab": {
          "base_uri": "https://localhost:8080/",
          "height": 261
        },
        "id": "jzje8xHBsNGr",
        "outputId": "fab8c810-b606-4260-bca0-d971bbd0e393"
      },
      "execution_count": 4,
      "outputs": [
        {
          "output_type": "stream",
          "name": "stdout",
          "text": [
            "Shape of DataFrame: (112120, 11)\n"
          ]
        },
        {
          "output_type": "execute_result",
          "data": {
            "text/plain": [
              "        Image Index          Finding Labels  Follow-up #  Patient ID  \\\n",
              "0  00000001_000.png            Cardiomegaly            0           1   \n",
              "1  00000001_001.png  Cardiomegaly|Emphysema            1           1   \n",
              "2  00000001_002.png   Cardiomegaly|Effusion            2           1   \n",
              "3  00000002_000.png              No Finding            0           2   \n",
              "4  00000003_000.png                  Hernia            0           3   \n",
              "\n",
              "   Patient Age Patient Gender View Position  OriginalImage[Width  Height]  \\\n",
              "0           58              M            PA                 2682     2749   \n",
              "1           58              M            PA                 2894     2729   \n",
              "2           58              M            PA                 2500     2048   \n",
              "3           81              M            PA                 2500     2048   \n",
              "4           81              F            PA                 2582     2991   \n",
              "\n",
              "   OriginalImagePixelSpacing[x     y]  \n",
              "0                        0.143  0.143  \n",
              "1                        0.143  0.143  \n",
              "2                        0.168  0.168  \n",
              "3                        0.171  0.171  \n",
              "4                        0.143  0.143  "
            ],
            "text/html": [
              "\n",
              "  <div id=\"df-e6a2cfc8-9e43-4cd0-808d-5ae996dd5d63\" class=\"colab-df-container\">\n",
              "    <div>\n",
              "<style scoped>\n",
              "    .dataframe tbody tr th:only-of-type {\n",
              "        vertical-align: middle;\n",
              "    }\n",
              "\n",
              "    .dataframe tbody tr th {\n",
              "        vertical-align: top;\n",
              "    }\n",
              "\n",
              "    .dataframe thead th {\n",
              "        text-align: right;\n",
              "    }\n",
              "</style>\n",
              "<table border=\"1\" class=\"dataframe\">\n",
              "  <thead>\n",
              "    <tr style=\"text-align: right;\">\n",
              "      <th></th>\n",
              "      <th>Image Index</th>\n",
              "      <th>Finding Labels</th>\n",
              "      <th>Follow-up #</th>\n",
              "      <th>Patient ID</th>\n",
              "      <th>Patient Age</th>\n",
              "      <th>Patient Gender</th>\n",
              "      <th>View Position</th>\n",
              "      <th>OriginalImage[Width</th>\n",
              "      <th>Height]</th>\n",
              "      <th>OriginalImagePixelSpacing[x</th>\n",
              "      <th>y]</th>\n",
              "    </tr>\n",
              "  </thead>\n",
              "  <tbody>\n",
              "    <tr>\n",
              "      <th>0</th>\n",
              "      <td>00000001_000.png</td>\n",
              "      <td>Cardiomegaly</td>\n",
              "      <td>0</td>\n",
              "      <td>1</td>\n",
              "      <td>58</td>\n",
              "      <td>M</td>\n",
              "      <td>PA</td>\n",
              "      <td>2682</td>\n",
              "      <td>2749</td>\n",
              "      <td>0.143</td>\n",
              "      <td>0.143</td>\n",
              "    </tr>\n",
              "    <tr>\n",
              "      <th>1</th>\n",
              "      <td>00000001_001.png</td>\n",
              "      <td>Cardiomegaly|Emphysema</td>\n",
              "      <td>1</td>\n",
              "      <td>1</td>\n",
              "      <td>58</td>\n",
              "      <td>M</td>\n",
              "      <td>PA</td>\n",
              "      <td>2894</td>\n",
              "      <td>2729</td>\n",
              "      <td>0.143</td>\n",
              "      <td>0.143</td>\n",
              "    </tr>\n",
              "    <tr>\n",
              "      <th>2</th>\n",
              "      <td>00000001_002.png</td>\n",
              "      <td>Cardiomegaly|Effusion</td>\n",
              "      <td>2</td>\n",
              "      <td>1</td>\n",
              "      <td>58</td>\n",
              "      <td>M</td>\n",
              "      <td>PA</td>\n",
              "      <td>2500</td>\n",
              "      <td>2048</td>\n",
              "      <td>0.168</td>\n",
              "      <td>0.168</td>\n",
              "    </tr>\n",
              "    <tr>\n",
              "      <th>3</th>\n",
              "      <td>00000002_000.png</td>\n",
              "      <td>No Finding</td>\n",
              "      <td>0</td>\n",
              "      <td>2</td>\n",
              "      <td>81</td>\n",
              "      <td>M</td>\n",
              "      <td>PA</td>\n",
              "      <td>2500</td>\n",
              "      <td>2048</td>\n",
              "      <td>0.171</td>\n",
              "      <td>0.171</td>\n",
              "    </tr>\n",
              "    <tr>\n",
              "      <th>4</th>\n",
              "      <td>00000003_000.png</td>\n",
              "      <td>Hernia</td>\n",
              "      <td>0</td>\n",
              "      <td>3</td>\n",
              "      <td>81</td>\n",
              "      <td>F</td>\n",
              "      <td>PA</td>\n",
              "      <td>2582</td>\n",
              "      <td>2991</td>\n",
              "      <td>0.143</td>\n",
              "      <td>0.143</td>\n",
              "    </tr>\n",
              "  </tbody>\n",
              "</table>\n",
              "</div>\n",
              "    <div class=\"colab-df-buttons\">\n",
              "\n",
              "  <div class=\"colab-df-container\">\n",
              "    <button class=\"colab-df-convert\" onclick=\"convertToInteractive('df-e6a2cfc8-9e43-4cd0-808d-5ae996dd5d63')\"\n",
              "            title=\"Convert this dataframe to an interactive table.\"\n",
              "            style=\"display:none;\">\n",
              "\n",
              "  <svg xmlns=\"http://www.w3.org/2000/svg\" height=\"24px\" viewBox=\"0 -960 960 960\">\n",
              "    <path d=\"M120-120v-720h720v720H120Zm60-500h600v-160H180v160Zm220 220h160v-160H400v160Zm0 220h160v-160H400v160ZM180-400h160v-160H180v160Zm440 0h160v-160H620v160ZM180-180h160v-160H180v160Zm440 0h160v-160H620v160Z\"/>\n",
              "  </svg>\n",
              "    </button>\n",
              "\n",
              "  <style>\n",
              "    .colab-df-container {\n",
              "      display:flex;\n",
              "      gap: 12px;\n",
              "    }\n",
              "\n",
              "    .colab-df-convert {\n",
              "      background-color: #E8F0FE;\n",
              "      border: none;\n",
              "      border-radius: 50%;\n",
              "      cursor: pointer;\n",
              "      display: none;\n",
              "      fill: #1967D2;\n",
              "      height: 32px;\n",
              "      padding: 0 0 0 0;\n",
              "      width: 32px;\n",
              "    }\n",
              "\n",
              "    .colab-df-convert:hover {\n",
              "      background-color: #E2EBFA;\n",
              "      box-shadow: 0px 1px 2px rgba(60, 64, 67, 0.3), 0px 1px 3px 1px rgba(60, 64, 67, 0.15);\n",
              "      fill: #174EA6;\n",
              "    }\n",
              "\n",
              "    .colab-df-buttons div {\n",
              "      margin-bottom: 4px;\n",
              "    }\n",
              "\n",
              "    [theme=dark] .colab-df-convert {\n",
              "      background-color: #3B4455;\n",
              "      fill: #D2E3FC;\n",
              "    }\n",
              "\n",
              "    [theme=dark] .colab-df-convert:hover {\n",
              "      background-color: #434B5C;\n",
              "      box-shadow: 0px 1px 3px 1px rgba(0, 0, 0, 0.15);\n",
              "      filter: drop-shadow(0px 1px 2px rgba(0, 0, 0, 0.3));\n",
              "      fill: #FFFFFF;\n",
              "    }\n",
              "  </style>\n",
              "\n",
              "    <script>\n",
              "      const buttonEl =\n",
              "        document.querySelector('#df-e6a2cfc8-9e43-4cd0-808d-5ae996dd5d63 button.colab-df-convert');\n",
              "      buttonEl.style.display =\n",
              "        google.colab.kernel.accessAllowed ? 'block' : 'none';\n",
              "\n",
              "      async function convertToInteractive(key) {\n",
              "        const element = document.querySelector('#df-e6a2cfc8-9e43-4cd0-808d-5ae996dd5d63');\n",
              "        const dataTable =\n",
              "          await google.colab.kernel.invokeFunction('convertToInteractive',\n",
              "                                                    [key], {});\n",
              "        if (!dataTable) return;\n",
              "\n",
              "        const docLinkHtml = 'Like what you see? Visit the ' +\n",
              "          '<a target=\"_blank\" href=https://colab.research.google.com/notebooks/data_table.ipynb>data table notebook</a>'\n",
              "          + ' to learn more about interactive tables.';\n",
              "        element.innerHTML = '';\n",
              "        dataTable['output_type'] = 'display_data';\n",
              "        await google.colab.output.renderOutput(dataTable, element);\n",
              "        const docLink = document.createElement('div');\n",
              "        docLink.innerHTML = docLinkHtml;\n",
              "        element.appendChild(docLink);\n",
              "      }\n",
              "    </script>\n",
              "  </div>\n",
              "\n",
              "\n",
              "<div id=\"df-928d185b-13c1-47ba-a315-27fda5a9aa9a\">\n",
              "  <button class=\"colab-df-quickchart\" onclick=\"quickchart('df-928d185b-13c1-47ba-a315-27fda5a9aa9a')\"\n",
              "            title=\"Suggest charts\"\n",
              "            style=\"display:none;\">\n",
              "\n",
              "<svg xmlns=\"http://www.w3.org/2000/svg\" height=\"24px\"viewBox=\"0 0 24 24\"\n",
              "     width=\"24px\">\n",
              "    <g>\n",
              "        <path d=\"M19 3H5c-1.1 0-2 .9-2 2v14c0 1.1.9 2 2 2h14c1.1 0 2-.9 2-2V5c0-1.1-.9-2-2-2zM9 17H7v-7h2v7zm4 0h-2V7h2v10zm4 0h-2v-4h2v4z\"/>\n",
              "    </g>\n",
              "</svg>\n",
              "  </button>\n",
              "\n",
              "<style>\n",
              "  .colab-df-quickchart {\n",
              "      --bg-color: #E8F0FE;\n",
              "      --fill-color: #1967D2;\n",
              "      --hover-bg-color: #E2EBFA;\n",
              "      --hover-fill-color: #174EA6;\n",
              "      --disabled-fill-color: #AAA;\n",
              "      --disabled-bg-color: #DDD;\n",
              "  }\n",
              "\n",
              "  [theme=dark] .colab-df-quickchart {\n",
              "      --bg-color: #3B4455;\n",
              "      --fill-color: #D2E3FC;\n",
              "      --hover-bg-color: #434B5C;\n",
              "      --hover-fill-color: #FFFFFF;\n",
              "      --disabled-bg-color: #3B4455;\n",
              "      --disabled-fill-color: #666;\n",
              "  }\n",
              "\n",
              "  .colab-df-quickchart {\n",
              "    background-color: var(--bg-color);\n",
              "    border: none;\n",
              "    border-radius: 50%;\n",
              "    cursor: pointer;\n",
              "    display: none;\n",
              "    fill: var(--fill-color);\n",
              "    height: 32px;\n",
              "    padding: 0;\n",
              "    width: 32px;\n",
              "  }\n",
              "\n",
              "  .colab-df-quickchart:hover {\n",
              "    background-color: var(--hover-bg-color);\n",
              "    box-shadow: 0 1px 2px rgba(60, 64, 67, 0.3), 0 1px 3px 1px rgba(60, 64, 67, 0.15);\n",
              "    fill: var(--button-hover-fill-color);\n",
              "  }\n",
              "\n",
              "  .colab-df-quickchart-complete:disabled,\n",
              "  .colab-df-quickchart-complete:disabled:hover {\n",
              "    background-color: var(--disabled-bg-color);\n",
              "    fill: var(--disabled-fill-color);\n",
              "    box-shadow: none;\n",
              "  }\n",
              "\n",
              "  .colab-df-spinner {\n",
              "    border: 2px solid var(--fill-color);\n",
              "    border-color: transparent;\n",
              "    border-bottom-color: var(--fill-color);\n",
              "    animation:\n",
              "      spin 1s steps(1) infinite;\n",
              "  }\n",
              "\n",
              "  @keyframes spin {\n",
              "    0% {\n",
              "      border-color: transparent;\n",
              "      border-bottom-color: var(--fill-color);\n",
              "      border-left-color: var(--fill-color);\n",
              "    }\n",
              "    20% {\n",
              "      border-color: transparent;\n",
              "      border-left-color: var(--fill-color);\n",
              "      border-top-color: var(--fill-color);\n",
              "    }\n",
              "    30% {\n",
              "      border-color: transparent;\n",
              "      border-left-color: var(--fill-color);\n",
              "      border-top-color: var(--fill-color);\n",
              "      border-right-color: var(--fill-color);\n",
              "    }\n",
              "    40% {\n",
              "      border-color: transparent;\n",
              "      border-right-color: var(--fill-color);\n",
              "      border-top-color: var(--fill-color);\n",
              "    }\n",
              "    60% {\n",
              "      border-color: transparent;\n",
              "      border-right-color: var(--fill-color);\n",
              "    }\n",
              "    80% {\n",
              "      border-color: transparent;\n",
              "      border-right-color: var(--fill-color);\n",
              "      border-bottom-color: var(--fill-color);\n",
              "    }\n",
              "    90% {\n",
              "      border-color: transparent;\n",
              "      border-bottom-color: var(--fill-color);\n",
              "    }\n",
              "  }\n",
              "</style>\n",
              "\n",
              "  <script>\n",
              "    async function quickchart(key) {\n",
              "      const quickchartButtonEl =\n",
              "        document.querySelector('#' + key + ' button');\n",
              "      quickchartButtonEl.disabled = true;  // To prevent multiple clicks.\n",
              "      quickchartButtonEl.classList.add('colab-df-spinner');\n",
              "      try {\n",
              "        const charts = await google.colab.kernel.invokeFunction(\n",
              "            'suggestCharts', [key], {});\n",
              "      } catch (error) {\n",
              "        console.error('Error during call to suggestCharts:', error);\n",
              "      }\n",
              "      quickchartButtonEl.classList.remove('colab-df-spinner');\n",
              "      quickchartButtonEl.classList.add('colab-df-quickchart-complete');\n",
              "    }\n",
              "    (() => {\n",
              "      let quickchartButtonEl =\n",
              "        document.querySelector('#df-928d185b-13c1-47ba-a315-27fda5a9aa9a button');\n",
              "      quickchartButtonEl.style.display =\n",
              "        google.colab.kernel.accessAllowed ? 'block' : 'none';\n",
              "    })();\n",
              "  </script>\n",
              "</div>\n",
              "\n",
              "    </div>\n",
              "  </div>\n"
            ],
            "application/vnd.google.colaboratory.intrinsic+json": {
              "type": "dataframe",
              "variable_name": "df"
            }
          },
          "metadata": {},
          "execution_count": 4
        }
      ]
    },
    {
      "cell_type": "code",
      "source": [
        "## Make Image Path\n",
        "\n",
        "%%time\n",
        "tmp = {os.path.basename(x): x for x in glob(os.path.join('/content', '*','*','images', '*.png'))}\n",
        "\n",
        "df['path'] = df['Image Index'].map(tmp)"
      ],
      "metadata": {
        "colab": {
          "base_uri": "https://localhost:8080/"
        },
        "id": "8HtBt18Ts6tG",
        "outputId": "baf2dbf6-c9a7-4ad7-9fe5-4abbb2427c06"
      },
      "execution_count": 5,
      "outputs": [
        {
          "output_type": "stream",
          "name": "stdout",
          "text": [
            "CPU times: user 703 ms, sys: 61.8 ms, total: 765 ms\n",
            "Wall time: 1.04 s\n"
          ]
        }
      ]
    },
    {
      "cell_type": "code",
      "source": [
        "## There are Multi Class in datasets\n",
        "## But I decide to use only Distinct Diseases, So I don't use include '|'\n",
        "\n",
        "df = df[~df['Finding Labels'].str.contains('\\|')]"
      ],
      "metadata": {
        "id": "_fTfaFYus-mq"
      },
      "execution_count": 6,
      "outputs": []
    },
    {
      "cell_type": "markdown",
      "source": [
        "#### Loading Pneumonia\n",
        "\n",
        "📌 Average of Width: `1200`\n",
        "\n",
        "📌 Average of Height: `825`\n",
        "\n",
        "📌 Image Format: `Jpeg`"
      ],
      "metadata": {
        "id": "6zkHuXphuoV9"
      }
    },
    {
      "cell_type": "code",
      "source": [
        "df_pneumonia = pd.DataFrame()\n",
        "df_pneumonia['Image Index'] = os.listdir('/content/chest-xray-pneumonia/chest_xray/train/PNEUMONIA/')\n",
        "df_pneumonia['Finding Labels'] = 'Pneumonia'\n",
        "\n",
        "tmp = {os.path.basename(x): x for x in glob(os.path.join('/content', '*','*','train','*','*.jpeg'))}\n",
        "df_pneumonia['path'] = df_pneumonia['Image Index'].map(tmp)\n",
        "\n",
        "df = pd.concat([df, df_pneumonia])\n",
        "df = df.reset_index(drop=True)"
      ],
      "metadata": {
        "id": "dt92lbyOtKjI"
      },
      "execution_count": 7,
      "outputs": []
    },
    {
      "cell_type": "markdown",
      "source": [
        "#### Loading Tuberculosis\n",
        "\n",
        "📌 Average of Width: `512`\n",
        "\n",
        "📌 Average of Height: `512`\n",
        "\n",
        "📌 Image Format: `png`"
      ],
      "metadata": {
        "id": "osDXZorlvE-9"
      }
    },
    {
      "cell_type": "code",
      "source": [
        "df_tuberculosis = pd.DataFrame()\n",
        "df_tuberculosis['Image Index'] = os.listdir('/content/tuberculosis-tb-chest-xray-dataset/TB_Chest_Radiography_Database/Tuberculosis/')\n",
        "df_tuberculosis['Finding Labels'] = 'Tuberculosis'\n",
        "\n",
        "tmp = {os.path.basename(x): x for x in glob(os.path.join('/content', '*','*','*','*.png'))}\n",
        "df_tuberculosis['path'] = df_tuberculosis['Image Index'].map(tmp)\n",
        "\n",
        "df = pd.concat([df, df_tuberculosis])\n",
        "df = df.reset_index(drop=True)"
      ],
      "metadata": {
        "id": "kmzHjHqpvRkB"
      },
      "execution_count": 8,
      "outputs": []
    },
    {
      "cell_type": "markdown",
      "source": [
        "#### Loading Covid-19\n",
        "\n",
        "📌 Average of Width: `1200`\n",
        "\n",
        "📌 Average of Height: `825`\n",
        "\n",
        "📌 Image Format: `jpg`"
      ],
      "metadata": {
        "id": "MV_NuAquvWnO"
      }
    },
    {
      "cell_type": "code",
      "source": [
        "train_covid = pd.DataFrame()\n",
        "train_covid['Image Index'] = os.listdir('/content/chest-xray-pneumoniacovid19tuberculosis/train/COVID19/')\n",
        "test_covid = pd.DataFrame()\n",
        "test_covid['Image Index'] = os.listdir('/content/chest-xray-pneumoniacovid19tuberculosis/test/COVID19/')\n",
        "df_covid = pd.concat([train_covid, test_covid])\n",
        "df_covid['Finding Labels'] = 'Covid'\n",
        "\n",
        "tmp = {os.path.basename(x): x for x in glob(os.path.join('/content', '*','*','*','*.jpg'))}\n",
        "df_covid['path'] = df_covid['Image Index'].map(tmp)\n",
        "\n",
        "df = pd.concat([df, df_covid])\n",
        "df = df.reset_index(drop=True)\n",
        "df['Label'] = df['Finding Labels'].copy()\n",
        "df = df[['Image Index','Finding Labels', 'path', 'Label']]"
      ],
      "metadata": {
        "id": "7UyLXOI5vmpb"
      },
      "execution_count": 9,
      "outputs": []
    },
    {
      "cell_type": "code",
      "source": [
        "## In this time, I did use StratifiedKFold\n",
        "## But, We can use GroupKFold with making new columns 'patient id'"
      ],
      "metadata": {
        "id": "z6Vf0c8BvuxT"
      },
      "execution_count": 10,
      "outputs": []
    },
    {
      "cell_type": "code",
      "source": [
        "## For avoding Class Imbalance, For Speeding up\n",
        "## I just select 500images for each label\n",
        "\n",
        "df_1 = pd.concat([df[df['Label'] == 'Edema'].sample(500, random_state=42)])\n",
        "df_2 = pd.concat([df[df['Label'] == 'No Finding'].sample(500, random_state=42)])\n",
        "df_3 = pd.concat([df[df['Label'] == 'Pneumonia'].sample(500, random_state=42)])\n",
        "df_4 = pd.concat([df[df['Label'] == 'Tuberculosis'].sample(500, random_state=42)])\n",
        "df_5 = pd.concat([df[df['Label'] == 'Cardiomegaly'].sample(500, random_state=42)])\n",
        "df_6 = pd.concat([df[df['Label'] == 'Emphysema'].sample(500, random_state=42)])\n",
        "df_7 = pd.concat([df[df['Label'] == 'Covid'].sample(500, random_state=42)])\n",
        "df_8 = pd.concat([df[df['Label'] == 'Effusion'].sample(500, random_state=42)])\n",
        "df_9 = pd.concat([df[df['Label'] == 'Atelectasis'].sample(500, random_state=42)])\n",
        "\n",
        "\n",
        "df = pd.concat([df_1,df_2,df_3,df_4,df_5,df_6,df_7,df_8,df_9])\n",
        "df = df.reset_index(drop=True)"
      ],
      "metadata": {
        "id": "nCmGq-6XwEiO"
      },
      "execution_count": 11,
      "outputs": []
    },
    {
      "cell_type": "code",
      "source": [
        "label_counts = df['Finding Labels'].value_counts()\n",
        "\n",
        "plt.style.use('Solarize_Light2')\n",
        "\n",
        "plt.figure(figsize=(12,6))\n",
        "plt.subplot(1,2,1)\n",
        "plt.pie(df['Finding Labels'].value_counts(), labels=label_counts.index, autopct='%.1f%%')\n",
        "# plt.legend()\n",
        "plt.subplot(1,2,2)\n",
        "sns.countplot(x=df['Finding Labels'], order= label_counts.index)\n",
        "plt.xticks(rotation=90)\n",
        "\n",
        "plt.tight_layout()\n",
        "plt.show()"
      ],
      "metadata": {
        "colab": {
          "base_uri": "https://localhost:8080/",
          "height": 453
        },
        "id": "c1RMJ902wbvn",
        "outputId": "1618b772-4e9c-49ed-dacc-2adfdbe13ca8"
      },
      "execution_count": 12,
      "outputs": [
        {
          "output_type": "display_data",
          "data": {
            "text/plain": [
              "<Figure size 1200x600 with 2 Axes>"
            ],
            "image/png": "[encoded data removed]"
          },
          "metadata": {}
        }
      ]
    },
    {
      "cell_type": "markdown",
      "source": [
        "**Train & Test Split**"
      ],
      "metadata": {
        "id": "aBYn-xq0wesu"
      }
    },
    {
      "cell_type": "code",
      "source": [
        "df_train, df_test = train_test_split(df, test_size=0.2, shuffle=True, random_state=42)\n",
        "df_train = df_train.reset_index(drop=True)\n",
        "df_test = df_test.reset_index(drop=True)"
      ],
      "metadata": {
        "id": "vwOWxB2Lwh_E"
      },
      "execution_count": 15,
      "outputs": []
    },
    {
      "cell_type": "markdown",
      "source": [
        "**One Hot Encoding**"
      ],
      "metadata": {
        "id": "aTUodz7Ywiby"
      }
    },
    {
      "cell_type": "code",
      "source": [
        "for col in df['Finding Labels'].unique():\n",
        "    df_test[col] = np.where(df_test['Finding Labels'].str.contains(col), 0.9,0.1/8).astype('float32')\n",
        "    df_train[col] = np.where(df_train['Finding Labels'].str.contains(col), 0.9,0.1/8).astype('float32')\n",
        "TARGET = df_train.columns[-9:].tolist()"
      ],
      "metadata": {
        "id": "bSXY6YSFwl2t"
      },
      "execution_count": 16,
      "outputs": []
    },
    {
      "cell_type": "code",
      "source": [
        "TARGET"
      ],
      "metadata": {
        "colab": {
          "base_uri": "https://localhost:8080/"
        },
        "id": "lILR9jq4wnCF",
        "outputId": "7befcda1-6803-4e8d-e035-157e9fc53e52"
      },
      "execution_count": 17,
      "outputs": [
        {
          "output_type": "execute_result",
          "data": {
            "text/plain": [
              "['Edema',\n",
              " 'No Finding',\n",
              " 'Pneumonia',\n",
              " 'Tuberculosis',\n",
              " 'Cardiomegaly',\n",
              " 'Emphysema',\n",
              " 'Covid',\n",
              " 'Effusion',\n",
              " 'Atelectasis']"
            ]
          },
          "metadata": {},
          "execution_count": 17
        }
      ]
    },
    {
      "cell_type": "code",
      "source": [],
      "metadata": {
        "id": "BvTnAIy-3Jqi"
      },
      "execution_count": null,
      "outputs": []
    }
  ]
}