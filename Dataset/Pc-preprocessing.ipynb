{
 "cells": [
  {
   "cell_type": "code",
   "execution_count": 1,
   "id": "0ccb4b8a",
   "metadata": {
    "execution": {
     "iopub.execute_input": "2024-09-30T05:46:10.550577Z",
     "iopub.status.busy": "2024-09-30T05:46:10.549970Z",
     "iopub.status.idle": "2024-09-30T05:46:13.575391Z",
     "shell.execute_reply": "2024-09-30T05:46:13.574065Z"
    },
    "papermill": {
     "duration": 3.041551,
     "end_time": "2024-09-30T05:46:13.579331",
     "exception": false,
     "start_time": "2024-09-30T05:46:10.537780",
     "status": "completed"
    },
    "tags": []
   },
   "outputs": [],
   "source": [
    "import numpy as np\n",
    "import pandas as pd\n",
    "import matplotlib.pyplot as plt\n",
    "import seaborn as sns\n",
    "import ast\n",
    "from glob import glob\n",
    "import os \n",
    "from tqdm import tqdm\n",
    "import shutil"
   ]
  },
  {
   "cell_type": "code",
   "execution_count": 2,
   "id": "7582a06d",
   "metadata": {
    "execution": {
     "iopub.execute_input": "2024-09-30T05:46:13.605151Z",
     "iopub.status.busy": "2024-09-30T05:46:13.604065Z",
     "iopub.status.idle": "2024-09-30T05:46:32.001725Z",
     "shell.execute_reply": "2024-09-30T05:46:31.999824Z"
    },
    "papermill": {
     "duration": 18.413548,
     "end_time": "2024-09-30T05:46:32.005432",
     "exception": false,
     "start_time": "2024-09-30T05:46:13.591884",
     "status": "completed"
    },
    "tags": []
   },
   "outputs": [],
   "source": [
    "!pip install -q torchxrayvision"
   ]
  },
  {
   "cell_type": "code",
   "execution_count": 3,
   "id": "fd07dc65",
   "metadata": {
    "execution": {
     "iopub.execute_input": "2024-09-30T05:46:32.024073Z",
     "iopub.status.busy": "2024-09-30T05:46:32.023602Z",
     "iopub.status.idle": "2024-09-30T05:46:38.688432Z",
     "shell.execute_reply": "2024-09-30T05:46:38.686991Z"
    },
    "papermill": {
     "duration": 6.678175,
     "end_time": "2024-09-30T05:46:38.691930",
     "exception": false,
     "start_time": "2024-09-30T05:46:32.013755",
     "status": "completed"
    },
    "tags": []
   },
   "outputs": [
    {
     "name": "stderr",
     "output_type": "stream",
     "text": [
      "/opt/conda/lib/python3.10/site-packages/torchxrayvision/utils.py:11: TqdmExperimentalWarning: Using `tqdm.autonotebook.tqdm` in notebook mode. Use `tqdm.tqdm` instead to force console mode (e.g. in jupyter console)\n",
      "  from tqdm.autonotebook import tqdm\n"
     ]
    }
   ],
   "source": [
    "import torchxrayvision as xrv"
   ]
  },
  {
   "cell_type": "code",
   "execution_count": 4,
   "id": "66aec1ad",
   "metadata": {
    "execution": {
     "iopub.execute_input": "2024-09-30T05:46:38.711992Z",
     "iopub.status.busy": "2024-09-30T05:46:38.711286Z",
     "iopub.status.idle": "2024-09-30T05:46:41.985173Z",
     "shell.execute_reply": "2024-09-30T05:46:41.983938Z"
    },
    "papermill": {
     "duration": 3.287258,
     "end_time": "2024-09-30T05:46:41.988095",
     "exception": false,
     "start_time": "2024-09-30T05:46:38.700837",
     "status": "completed"
    },
    "tags": []
   },
   "outputs": [],
   "source": [
    "meta_df = pd.read_csv('/kaggle/input/padchest-small-dataset/PC/PADCHEST_chest_x_ray_images_labels_160K_01.02.19.csv')"
   ]
  },
  {
   "cell_type": "code",
   "execution_count": 5,
   "id": "c2c7320c",
   "metadata": {
    "execution": {
     "iopub.execute_input": "2024-09-30T05:46:42.007232Z",
     "iopub.status.busy": "2024-09-30T05:46:42.006805Z",
     "iopub.status.idle": "2024-09-30T05:46:42.059052Z",
     "shell.execute_reply": "2024-09-30T05:46:42.057901Z"
    },
    "papermill": {
     "duration": 0.064619,
     "end_time": "2024-09-30T05:46:42.061589",
     "exception": false,
     "start_time": "2024-09-30T05:46:41.996970",
     "status": "completed"
    },
    "tags": []
   },
   "outputs": [
    {
     "data": {
      "text/plain": [
       "Projection\n",
       "PA               91728\n",
       "L                49579\n",
       "AP_horizontal    14346\n",
       "AP                4559\n",
       "COSTAL             630\n",
       "EXCLUDE             11\n",
       "UNK                  8\n",
       "Name: count, dtype: int64"
      ]
     },
     "execution_count": 5,
     "metadata": {},
     "output_type": "execute_result"
    }
   ],
   "source": [
    "meta_df['Projection'].value_counts()"
   ]
  },
  {
   "cell_type": "code",
   "execution_count": 6,
   "id": "58867658",
   "metadata": {
    "execution": {
     "iopub.execute_input": "2024-09-30T05:46:42.080464Z",
     "iopub.status.busy": "2024-09-30T05:46:42.079955Z",
     "iopub.status.idle": "2024-09-30T05:46:42.111450Z",
     "shell.execute_reply": "2024-09-30T05:46:42.110283Z"
    },
    "papermill": {
     "duration": 0.044052,
     "end_time": "2024-09-30T05:46:42.114007",
     "exception": false,
     "start_time": "2024-09-30T05:46:42.069955",
     "status": "completed"
    },
    "tags": []
   },
   "outputs": [
    {
     "data": {
      "text/plain": [
       "ViewPosition_DICOM\n",
       "POSTEROANTERIOR    54869\n",
       "LATERAL            24527\n",
       "PA                  8506\n",
       "LL                  3383\n",
       "ANTEROPOSTERIOR      369\n",
       "AP                   104\n",
       "OBLICUA               11\n",
       "RL                     5\n",
       "LLD                    1\n",
       "GENERICA               1\n",
       "Name: count, dtype: int64"
      ]
     },
     "execution_count": 6,
     "metadata": {},
     "output_type": "execute_result"
    }
   ],
   "source": [
    "meta_df['ViewPosition_DICOM'].value_counts()"
   ]
  },
  {
   "cell_type": "code",
   "execution_count": 7,
   "id": "1cbdcbe5",
   "metadata": {
    "execution": {
     "iopub.execute_input": "2024-09-30T05:46:42.133020Z",
     "iopub.status.busy": "2024-09-30T05:46:42.132566Z",
     "iopub.status.idle": "2024-09-30T05:46:47.446655Z",
     "shell.execute_reply": "2024-09-30T05:46:47.445325Z"
    },
    "papermill": {
     "duration": 5.326694,
     "end_time": "2024-09-30T05:46:47.449345",
     "exception": false,
     "start_time": "2024-09-30T05:46:42.122651",
     "status": "completed"
    },
    "tags": []
   },
   "outputs": [],
   "source": [
    "df_pc = xrv.datasets.PC_Dataset(imgpath='/kaggle/input/padchest-small-dataset/PC/images-224/images-224/',\n",
    "                                csvpath='/kaggle/input/padchest-small-dataset/PC/PADCHEST_chest_x_ray_images_labels_160K_01.02.19.csv',\n",
    "                                views=[\"PA\",\"AP\"], unique_patients=False)"
   ]
  },
  {
   "cell_type": "code",
   "execution_count": 8,
   "id": "965e8541",
   "metadata": {
    "execution": {
     "iopub.execute_input": "2024-09-30T05:46:47.469961Z",
     "iopub.status.busy": "2024-09-30T05:46:47.469512Z",
     "iopub.status.idle": "2024-09-30T05:46:47.591729Z",
     "shell.execute_reply": "2024-09-30T05:46:47.590508Z"
    },
    "papermill": {
     "duration": 0.136423,
     "end_time": "2024-09-30T05:46:47.595235",
     "exception": false,
     "start_time": "2024-09-30T05:46:47.458812",
     "status": "completed"
    },
    "tags": []
   },
   "outputs": [],
   "source": [
    "df = df_pc.csv\n",
    "df = df.reset_index(drop=True)"
   ]
  },
  {
   "cell_type": "code",
   "execution_count": 9,
   "id": "c74723d5",
   "metadata": {
    "execution": {
     "iopub.execute_input": "2024-09-30T05:46:47.614277Z",
     "iopub.status.busy": "2024-09-30T05:46:47.613836Z",
     "iopub.status.idle": "2024-09-30T05:46:49.357791Z",
     "shell.execute_reply": "2024-09-30T05:46:49.356261Z"
    },
    "papermill": {
     "duration": 1.756887,
     "end_time": "2024-09-30T05:46:49.360775",
     "exception": false,
     "start_time": "2024-09-30T05:46:47.603888",
     "status": "completed"
    },
    "tags": []
   },
   "outputs": [],
   "source": [
    "df['Labels'] = df['Labels'].apply(ast.literal_eval)\n",
    "df['Labels'] = df['Labels'].apply(lambda x: [label.strip() for label in x])"
   ]
  },
  {
   "cell_type": "code",
   "execution_count": 10,
   "id": "d18039d0",
   "metadata": {
    "execution": {
     "iopub.execute_input": "2024-09-30T05:46:49.379661Z",
     "iopub.status.busy": "2024-09-30T05:46:49.379164Z",
     "iopub.status.idle": "2024-09-30T05:46:49.474110Z",
     "shell.execute_reply": "2024-09-30T05:46:49.472740Z"
    },
    "papermill": {
     "duration": 0.107583,
     "end_time": "2024-09-30T05:46:49.476902",
     "exception": false,
     "start_time": "2024-09-30T05:46:49.369319",
     "status": "completed"
    },
    "tags": []
   },
   "outputs": [
    {
     "data": {
      "text/plain": [
       "Labels\n",
       "[normal]                                                                                                             34562\n",
       "[cardiomegaly, normal]                                                                                                  11\n",
       "[infiltrates, normal]                                                                                                    8\n",
       "[cardiomegaly, normal, aortic elongation]                                                                                3\n",
       "[nodule, normal]                                                                                                         3\n",
       "                                                                                                                     ...  \n",
       "[COPD signs, normal, kyphosis, vertebral anterior compression]                                                           1\n",
       "[normal, unchanged, alveolar pattern, cardiomegaly, costophrenic angle blunting, interstitial pattern, pneumonia]        1\n",
       "[COPD signs, normal, hiatal hernia]                                                                                      1\n",
       "[NSG tube, normal, atelectasis, costophrenic angle blunting]                                                             1\n",
       "[aortic elongation, calcified granuloma, normal]                                                                         1\n",
       "Name: count, Length: 86, dtype: int64"
      ]
     },
     "execution_count": 10,
     "metadata": {},
     "output_type": "execute_result"
    }
   ],
   "source": [
    "df[df['Labels'].apply(lambda x: 'normal' in x)]['Labels'].value_counts()"
   ]
  },
  {
   "cell_type": "code",
   "execution_count": 11,
   "id": "3787e187",
   "metadata": {
    "execution": {
     "iopub.execute_input": "2024-09-30T05:46:49.496064Z",
     "iopub.status.busy": "2024-09-30T05:46:49.495579Z",
     "iopub.status.idle": "2024-09-30T05:46:49.501940Z",
     "shell.execute_reply": "2024-09-30T05:46:49.500755Z"
    },
    "papermill": {
     "duration": 0.0187,
     "end_time": "2024-09-30T05:46:49.504366",
     "exception": false,
     "start_time": "2024-09-30T05:46:49.485666",
     "status": "completed"
    },
    "tags": []
   },
   "outputs": [],
   "source": [
    "allowed_labels = ['normal',\n",
    "                  'pleural effusion', 'loculated pleural effusion', 'pericardial effusion', 'loculated fissural effusion',\n",
    "                  'pneumothorax', 'hydropneumothorax',\n",
    "                  'consolidation',\n",
    "                  'pulmonary fibrosis', \n",
    "                  'emphysema', 'subcutaneous emphysema',\n",
    "                  'pulmonary edema', \n",
    "                  'atelectasis', 'laminar atelectasis','lobar atelectasis','segmental atelectasis',\n",
    "                  'cardiomegaly',\n",
    "                  'pneumonia','atypical pneumonia',]"
   ]
  },
  {
   "cell_type": "code",
   "execution_count": 12,
   "id": "0c835010",
   "metadata": {
    "execution": {
     "iopub.execute_input": "2024-09-30T05:46:49.523546Z",
     "iopub.status.busy": "2024-09-30T05:46:49.523032Z",
     "iopub.status.idle": "2024-09-30T05:46:51.235819Z",
     "shell.execute_reply": "2024-09-30T05:46:51.234507Z"
    },
    "papermill": {
     "duration": 1.725922,
     "end_time": "2024-09-30T05:46:51.239003",
     "exception": false,
     "start_time": "2024-09-30T05:46:49.513081",
     "status": "completed"
    },
    "tags": []
   },
   "outputs": [],
   "source": [
    "tmp = df['Labels'].explode()\n",
    "\n",
    "filtered_tmp = tmp.apply(lambda x: x if x in allowed_labels else None).dropna()\n",
    "filtered_tmp = filtered_tmp.groupby(filtered_tmp.index).agg('|'.join)\n",
    "\n",
    "df = df.loc[filtered_tmp.index]\n",
    "df['Labels'] = filtered_tmp"
   ]
  },
  {
   "cell_type": "code",
   "execution_count": 13,
   "id": "ca4fbafd",
   "metadata": {
    "execution": {
     "iopub.execute_input": "2024-09-30T05:46:51.258630Z",
     "iopub.status.busy": "2024-09-30T05:46:51.258118Z",
     "iopub.status.idle": "2024-09-30T05:46:51.267343Z",
     "shell.execute_reply": "2024-09-30T05:46:51.265968Z"
    },
    "papermill": {
     "duration": 0.022222,
     "end_time": "2024-09-30T05:46:51.270024",
     "exception": false,
     "start_time": "2024-09-30T05:46:51.247802",
     "status": "completed"
    },
    "tags": []
   },
   "outputs": [],
   "source": [
    "def label_concat(row):\n",
    "    if row in ['normal']:\n",
    "        return 'No Finding'\n",
    "    elif row in ['pleural effusion', 'loculated pleural effusion', 'pericardial effusion', 'loculated fissural effusion']:\n",
    "        return 'Effusion'\n",
    "    elif row in ['pneumothorax', 'hydropneumothorax']:\n",
    "        return 'Pneumothorax'\n",
    "    elif row in ['consolidation']:\n",
    "        return 'Consolidation'\n",
    "    elif row in ['pulmonary fibrosis']:\n",
    "        return 'Fibrosis'\n",
    "    elif row in ['emphysema', 'subcutaneous emphysema']:\n",
    "        return 'Emphysema'\n",
    "    elif row in ['pulmonary edema']:\n",
    "        return 'Edema'\n",
    "    elif row in ['atelectasis', 'laminar atelectasis','lobar atelectasis','segmental atelectasis']:\n",
    "        return 'Atelectasis'\n",
    "    elif row in ['cardiomegaly']:\n",
    "        return 'Cardiomegaly'\n",
    "    elif row in ['pneumonia','atypical pneumonia']:\n",
    "        return 'Pneumonia'"
   ]
  },
  {
   "cell_type": "code",
   "execution_count": 14,
   "id": "73eea4cd",
   "metadata": {
    "execution": {
     "iopub.execute_input": "2024-09-30T05:46:51.290112Z",
     "iopub.status.busy": "2024-09-30T05:46:51.289672Z",
     "iopub.status.idle": "2024-09-30T05:46:52.935888Z",
     "shell.execute_reply": "2024-09-30T05:46:52.934684Z"
    },
    "papermill": {
     "duration": 1.660028,
     "end_time": "2024-09-30T05:46:52.938807",
     "exception": false,
     "start_time": "2024-09-30T05:46:51.278779",
     "status": "completed"
    },
    "tags": []
   },
   "outputs": [],
   "source": [
    "tmp = df['Labels'].str.split('|').explode()\n",
    "\n",
    "df['Labels'] = tmp.apply(lambda x: label_concat(x)).groupby(tmp.index).agg('|'.join)"
   ]
  },
  {
   "cell_type": "code",
   "execution_count": 15,
   "id": "fc16db1c",
   "metadata": {
    "execution": {
     "iopub.execute_input": "2024-09-30T05:46:52.959427Z",
     "iopub.status.busy": "2024-09-30T05:46:52.958958Z",
     "iopub.status.idle": "2024-09-30T05:46:53.013602Z",
     "shell.execute_reply": "2024-09-30T05:46:53.012484Z"
    },
    "papermill": {
     "duration": 0.068086,
     "end_time": "2024-09-30T05:46:53.016520",
     "exception": false,
     "start_time": "2024-09-30T05:46:52.948434",
     "status": "completed"
    },
    "tags": []
   },
   "outputs": [],
   "source": [
    "df = df.reset_index(drop=True)"
   ]
  },
  {
   "cell_type": "code",
   "execution_count": 16,
   "id": "82eeb846",
   "metadata": {
    "execution": {
     "iopub.execute_input": "2024-09-30T05:46:53.036336Z",
     "iopub.status.busy": "2024-09-30T05:46:53.035870Z",
     "iopub.status.idle": "2024-09-30T05:46:53.056316Z",
     "shell.execute_reply": "2024-09-30T05:46:53.055142Z"
    },
    "papermill": {
     "duration": 0.033549,
     "end_time": "2024-09-30T05:46:53.059320",
     "exception": false,
     "start_time": "2024-09-30T05:46:53.025771",
     "status": "completed"
    },
    "tags": []
   },
   "outputs": [],
   "source": [
    "df = df[['ImageID','PatientID','Labels','view']]"
   ]
  },
  {
   "cell_type": "code",
   "execution_count": 17,
   "id": "733439cd",
   "metadata": {
    "execution": {
     "iopub.execute_input": "2024-09-30T05:46:53.080387Z",
     "iopub.status.busy": "2024-09-30T05:46:53.079940Z",
     "iopub.status.idle": "2024-09-30T05:46:56.609469Z",
     "shell.execute_reply": "2024-09-30T05:46:56.607957Z"
    },
    "papermill": {
     "duration": 3.544194,
     "end_time": "2024-09-30T05:46:56.612257",
     "exception": false,
     "start_time": "2024-09-30T05:46:53.068063",
     "status": "completed"
    },
    "tags": []
   },
   "outputs": [
    {
     "name": "stdout",
     "output_type": "stream",
     "text": [
      "CPU times: user 1.01 s, sys: 278 ms, total: 1.29 s\n",
      "Wall time: 3.52 s\n"
     ]
    }
   ],
   "source": [
    "%%time\n",
    "tmp = {os.path.basename(x): x for x in glob('/kaggle/input/*/PC/images-224/images-224/*')}    \n",
    "    \n",
    "df['path'] = df['ImageID'].map(tmp)"
   ]
  },
  {
   "cell_type": "code",
   "execution_count": 18,
   "id": "9aeac2da",
   "metadata": {
    "execution": {
     "iopub.execute_input": "2024-09-30T05:46:56.631970Z",
     "iopub.status.busy": "2024-09-30T05:46:56.631521Z",
     "iopub.status.idle": "2024-09-30T05:46:56.698530Z",
     "shell.execute_reply": "2024-09-30T05:46:56.697217Z"
    },
    "papermill": {
     "duration": 0.080357,
     "end_time": "2024-09-30T05:46:56.701372",
     "exception": false,
     "start_time": "2024-09-30T05:46:56.621015",
     "status": "completed"
    },
    "tags": []
   },
   "outputs": [],
   "source": [
    "df = df[~df['Labels'].apply(lambda x: '|No Finding' in x)]\n",
    "df = df[~df['Labels'].apply(lambda x: 'No Finding|' in x)]"
   ]
  },
  {
   "cell_type": "code",
   "execution_count": 19,
   "id": "53c4c113",
   "metadata": {
    "execution": {
     "iopub.execute_input": "2024-09-30T05:46:56.721279Z",
     "iopub.status.busy": "2024-09-30T05:46:56.720278Z",
     "iopub.status.idle": "2024-09-30T05:46:56.936118Z",
     "shell.execute_reply": "2024-09-30T05:46:56.934867Z"
    },
    "papermill": {
     "duration": 0.228784,
     "end_time": "2024-09-30T05:46:56.939033",
     "exception": false,
     "start_time": "2024-09-30T05:46:56.710249",
     "status": "completed"
    },
    "tags": []
   },
   "outputs": [],
   "source": [
    "tmp = df.groupby('PatientID')['Labels'].nunique()\n",
    "tmp = tmp.reset_index().rename(columns={'Labels':'label_nunique'})\n",
    "\n",
    "df = df.merge(tmp, on='PatientID', how='left')\n",
    "\n",
    "tmp1 = df.loc[df['label_nunique'] > 1][df['Labels'] != 'No Finding']\n",
    "tmp2 = df.loc[df['label_nunique'] == 1]\n",
    "\n",
    "df = pd.concat([tmp1, tmp2], axis=0).reset_index(drop=True)"
   ]
  },
  {
   "cell_type": "code",
   "execution_count": 20,
   "id": "a101d225",
   "metadata": {
    "execution": {
     "iopub.execute_input": "2024-09-30T05:46:56.959644Z",
     "iopub.status.busy": "2024-09-30T05:46:56.959170Z",
     "iopub.status.idle": "2024-09-30T05:46:57.018373Z",
     "shell.execute_reply": "2024-09-30T05:46:57.017163Z"
    },
    "papermill": {
     "duration": 0.073156,
     "end_time": "2024-09-30T05:46:57.021358",
     "exception": false,
     "start_time": "2024-09-30T05:46:56.948202",
     "status": "completed"
    },
    "tags": []
   },
   "outputs": [],
   "source": [
    "tmp1 = df[df['Labels'] == 'No Finding'].sample(10_000, random_state=42)\n",
    "tmp2 = df[df['Labels'] != 'No Finding']\n",
    "\n",
    "df = pd.concat([tmp1,tmp2])\n",
    "df = df.reset_index(drop=True)"
   ]
  },
  {
   "cell_type": "code",
   "execution_count": 21,
   "id": "5cf79096",
   "metadata": {
    "execution": {
     "iopub.execute_input": "2024-09-30T05:46:57.041579Z",
     "iopub.status.busy": "2024-09-30T05:46:57.040941Z",
     "iopub.status.idle": "2024-09-30T05:46:57.093555Z",
     "shell.execute_reply": "2024-09-30T05:46:57.092505Z"
    },
    "papermill": {
     "duration": 0.065752,
     "end_time": "2024-09-30T05:46:57.096102",
     "exception": false,
     "start_time": "2024-09-30T05:46:57.030350",
     "status": "completed"
    },
    "tags": []
   },
   "outputs": [
    {
     "data": {
      "text/plain": [
       "Labels\n",
       "No Finding       10000\n",
       "Cardiomegaly      8721\n",
       "Atelectasis       4420\n",
       "Effusion          4164\n",
       "Pneumonia         3625\n",
       "Consolidation     1032\n",
       "Emphysema          961\n",
       "Fibrosis           682\n",
       "Edema              458\n",
       "Pneumothorax       249\n",
       "Name: count, dtype: int64"
      ]
     },
     "execution_count": 21,
     "metadata": {},
     "output_type": "execute_result"
    }
   ],
   "source": [
    "df['Labels'].str.split('|').explode().value_counts()"
   ]
  },
  {
   "cell_type": "code",
   "execution_count": 22,
   "id": "3441a305",
   "metadata": {
    "execution": {
     "iopub.execute_input": "2024-09-30T05:46:57.115548Z",
     "iopub.status.busy": "2024-09-30T05:46:57.115094Z",
     "iopub.status.idle": "2024-09-30T05:46:57.534098Z",
     "shell.execute_reply": "2024-09-30T05:46:57.532958Z"
    },
    "papermill": {
     "duration": 0.432021,
     "end_time": "2024-09-30T05:46:57.537077",
     "exception": false,
     "start_time": "2024-09-30T05:46:57.105056",
     "status": "completed"
    },
    "tags": []
   },
   "outputs": [],
   "source": [
    "df.to_csv('metadata.csv', index=False)"
   ]
  },
  {
   "cell_type": "code",
   "execution_count": 23,
   "id": "b715def4",
   "metadata": {
    "execution": {
     "iopub.execute_input": "2024-09-30T05:46:57.556666Z",
     "iopub.status.busy": "2024-09-30T05:46:57.556198Z",
     "iopub.status.idle": "2024-09-30T05:56:05.895077Z",
     "shell.execute_reply": "2024-09-30T05:56:05.893342Z"
    },
    "papermill": {
     "duration": 548.352008,
     "end_time": "2024-09-30T05:56:05.897975",
     "exception": false,
     "start_time": "2024-09-30T05:46:57.545967",
     "status": "completed"
    },
    "tags": []
   },
   "outputs": [
    {
     "name": "stderr",
     "output_type": "stream",
     "text": [
      "100%|██████████| 29907/29907 [09:08<00:00, 54.54it/s]\n"
     ]
    }
   ],
   "source": [
    "PATH = '/kaggle/working/lung_diseases/'\n",
    "\n",
    "os.makedirs(os.path.join(PATH), exist_ok=True)\n",
    "    \n",
    "sub_count = 0\n",
    "    \n",
    "for i, file in enumerate(tqdm(df['path'].unique())):\n",
    "    index = df[df['path'] == file]['ImageID'].values[0]\n",
    "    \n",
    "    if (i == 0) or (i % 5000 == 0):\n",
    "        sub_count += 1\n",
    "        sub_path = os.path.join(PATH, f'image_00{sub_count}')\n",
    "        os.makedirs(sub_path, exist_ok=True)\n",
    "    \n",
    "    shutil.copy(file, os.path.join(sub_path, index))"
   ]
  }
 ],
 "metadata": {
  "kaggle": {
   "accelerator": "none",
   "dataSources": [
    {
     "datasetId": 5730215,
     "sourceId": 9431723,
     "sourceType": "datasetVersion"
    }
   ],
   "dockerImageVersionId": 30761,
   "isGpuEnabled": false,
   "isInternetEnabled": true,
   "language": "python",
   "sourceType": "notebook"
  },
  "kernelspec": {
   "display_name": "Python 3",
   "language": "python",
   "name": "python3"
  },
  "language_info": {
   "codemirror_mode": {
    "name": "ipython",
    "version": 3
   },
   "file_extension": ".py",
   "mimetype": "text/x-python",
   "name": "python",
   "nbconvert_exporter": "python",
   "pygments_lexer": "ipython3",
   "version": "3.10.14"
  },
  "papermill": {
   "default_parameters": {},
   "duration": 601.930814,
   "end_time": "2024-09-30T05:56:09.195837",
   "environment_variables": {},
   "exception": null,
   "input_path": "__notebook__.ipynb",
   "output_path": "__notebook__.ipynb",
   "parameters": {},
   "start_time": "2024-09-30T05:46:07.265023",
   "version": "2.6.0"
  }
 },
 "nbformat": 4,
 "nbformat_minor": 5
}
