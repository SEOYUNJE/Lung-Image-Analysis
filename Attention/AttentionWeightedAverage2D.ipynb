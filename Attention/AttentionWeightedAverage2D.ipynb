{
 "cells": [
  {
   "cell_type": "code",
   "execution_count": 1,
   "id": "b263a65a",
   "metadata": {
    "execution": {
     "iopub.execute_input": "2024-09-06T05:04:54.920352Z",
     "iopub.status.busy": "2024-09-06T05:04:54.919742Z",
     "iopub.status.idle": "2024-09-06T05:05:13.454874Z",
     "shell.execute_reply": "2024-09-06T05:05:13.453566Z"
    },
    "papermill": {
     "duration": 18.54247,
     "end_time": "2024-09-06T05:05:13.457801",
     "exception": false,
     "start_time": "2024-09-06T05:04:54.915331",
     "status": "completed"
    },
    "tags": []
   },
   "outputs": [],
   "source": [
    "import tensorflow as tf\n",
    "from tensorflow.keras import *\n",
    "\n",
    "class AttentionWeightedAverage2D(tf.keras.layers.Layer):\n",
    "    def __init__(self, **kwargs):\n",
    "        self.init = keras.initializers.get('uniform')\n",
    "        super(AttentionWeightedAverage2D, self).__init__(**kwargs)\n",
    "\n",
    "    def build(self, input_shape):\n",
    "        self.input_spec = [layers.InputSpec(ndim=4)]\n",
    "        assert len(input_shape) == 4\n",
    "        self.W = self.add_weight(shape=(input_shape[3], 1),\n",
    "                                 name='{}_W'.format(self.name),\n",
    "                                 initializer=self.init)\n",
    "        self._trainable_weights = [self.W]\n",
    "        super(AttentionWeightedAverage2D, self).build(input_shape)\n",
    "\n",
    "    def call(self, x):\n",
    "        # computes a probability distribution over the timesteps\n",
    "        # uses 'max trick' for numerical stability\n",
    "        # reshape is done to avoid issue with Tensorflow\n",
    "        # and 2-dimensional weights\n",
    "        logits  = K.dot(x, self.W)\n",
    "        x_shape = K.shape(x)\n",
    "        logits  = K.reshape(logits, (x_shape[0], x_shape[1], x_shape[2]))\n",
    "        ai      = K.exp(logits - K.max(logits, axis=[1,2], keepdims=True))\n",
    "        \n",
    "        att_weights    = ai / (K.sum(ai, axis=[1,2], keepdims=True) + K.epsilon())\n",
    "        weighted_input = x * K.expand_dims(att_weights)\n",
    "        result         = K.sum(weighted_input, axis=[1,2])\n",
    "        return result\n",
    "\n",
    "    def get_output_shape_for(self, input_shape):\n",
    "        return self.compute_output_shape(input_shape)\n",
    "\n",
    "    def compute_output_shape(self, input_shape):\n",
    "        output_len = input_shape[3]\n",
    "        return (input_shape[0], output_len)"
   ]
  },
  {
   "cell_type": "code",
   "execution_count": null,
   "id": "b41aae3f",
   "metadata": {
    "papermill": {
     "duration": 0.002031,
     "end_time": "2024-09-06T05:05:13.462145",
     "exception": false,
     "start_time": "2024-09-06T05:05:13.460114",
     "status": "completed"
    },
    "tags": []
   },
   "outputs": [],
   "source": []
  }
 ],
 "metadata": {
  "kaggle": {
   "accelerator": "none",
   "dataSources": [],
   "dockerImageVersionId": 30761,
   "isGpuEnabled": false,
   "isInternetEnabled": true,
   "language": "python",
   "sourceType": "notebook"
  },
  "kernelspec": {
   "display_name": "Python 3",
   "language": "python",
   "name": "python3"
  },
  "language_info": {
   "codemirror_mode": {
    "name": "ipython",
    "version": 3
   },
   "file_extension": ".py",
   "mimetype": "text/x-python",
   "name": "python",
   "nbconvert_exporter": "python",
   "pygments_lexer": "ipython3",
   "version": "3.10.14"
  },
  "papermill": {
   "default_parameters": {},
   "duration": 23.479101,
   "end_time": "2024-09-06T05:05:14.991292",
   "environment_variables": {},
   "exception": null,
   "input_path": "__notebook__.ipynb",
   "output_path": "__notebook__.ipynb",
   "parameters": {},
   "start_time": "2024-09-06T05:04:51.512191",
   "version": "2.6.0"
  }
 },
 "nbformat": 4,
 "nbformat_minor": 5
}
