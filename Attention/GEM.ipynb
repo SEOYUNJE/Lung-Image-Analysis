{
 "cells": [
  {
   "cell_type": "code",
   "execution_count": 1,
   "id": "8e0f7b8b",
   "metadata": {
    "execution": {
     "iopub.execute_input": "2024-09-06T05:00:45.041026Z",
     "iopub.status.busy": "2024-09-06T05:00:45.040023Z",
     "iopub.status.idle": "2024-09-06T05:01:00.938943Z",
     "shell.execute_reply": "2024-09-06T05:01:00.937599Z"
    },
    "papermill": {
     "duration": 15.906937,
     "end_time": "2024-09-06T05:01:00.942048",
     "exception": false,
     "start_time": "2024-09-06T05:00:45.035111",
     "status": "completed"
    },
    "tags": []
   },
   "outputs": [],
   "source": [
    "import tensorflow\n",
    "from tensorflow.keras import *\n",
    "\n",
    "class GeneralizedMeanPooling2D(layers.Layer):\n",
    "    def __init__(self, init_norm=3.0, normalize=False, epsilon=1e-6, **kwargs):\n",
    "        self.init_norm = init_norm\n",
    "        self.normalize = normalize\n",
    "        self.epsilon   = epsilon\n",
    "        super(GeneralizedMeanPooling2D, self).__init__(**kwargs)\n",
    "\n",
    "    def build(self, input_shape):\n",
    "        self.p = self.add_weight(name=\"norms\", \n",
    "                                 shape=(input_shape[-1],),\n",
    "                                 initializer=tf.keras.initializers.constant(self.init_norm),\n",
    "                                 trainable=True)\n",
    "        super(GeneralizedMeanPooling2D, self).build(input_shape)\n",
    "\n",
    "    def call(self, inputs):\n",
    "        x = tf.abs(tf.maximum(self.epsilon, inputs))\n",
    "        x = tf.pow(x, self.p)\n",
    "        x = tf.reduce_mean(x, axis=[1,2], keepdims=False) \n",
    "        x = tf.pow(x, (1.0 / self.p))\n",
    "        if self.normalize:\n",
    "            x = tf.nn.l2_normalize(x, 1)\n",
    "        return x\n",
    "\n",
    "    def get_config(self):\n",
    "        config = {\n",
    "            'init_norm' : self.init_norm,\n",
    "            'normalize' : self.normalize,\n",
    "            'epsilon'   : self.epsilon\n",
    "        }\n",
    "        base_config = super(GeneralizedMeanPooling2D, self).get_config()\n",
    "        return dict(list(base_config.items()) + list(config.items()))"
   ]
  }
 ],
 "metadata": {
  "kaggle": {
   "accelerator": "none",
   "dataSources": [],
   "dockerImageVersionId": 30761,
   "isGpuEnabled": false,
   "isInternetEnabled": true,
   "language": "python",
   "sourceType": "notebook"
  },
  "kernelspec": {
   "display_name": "Python 3",
   "language": "python",
   "name": "python3"
  },
  "language_info": {
   "codemirror_mode": {
    "name": "ipython",
    "version": 3
   },
   "file_extension": ".py",
   "mimetype": "text/x-python",
   "name": "python",
   "nbconvert_exporter": "python",
   "pygments_lexer": "ipython3",
   "version": "3.10.14"
  },
  "papermill": {
   "default_parameters": {},
   "duration": 20.514982,
   "end_time": "2024-09-06T05:01:02.469562",
   "environment_variables": {},
   "exception": null,
   "input_path": "__notebook__.ipynb",
   "output_path": "__notebook__.ipynb",
   "parameters": {},
   "start_time": "2024-09-06T05:00:41.954580",
   "version": "2.6.0"
  }
 },
 "nbformat": 4,
 "nbformat_minor": 5
}
