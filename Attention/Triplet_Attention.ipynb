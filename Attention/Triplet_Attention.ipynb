{
 "cells": [
  {
   "cell_type": "code",
   "execution_count": 1,
   "id": "b46ea407",
   "metadata": {
    "execution": {
     "iopub.execute_input": "2024-09-07T01:27:53.626901Z",
     "iopub.status.busy": "2024-09-07T01:27:53.626349Z",
     "iopub.status.idle": "2024-09-07T01:28:08.760866Z",
     "shell.execute_reply": "2024-09-07T01:28:08.759580Z"
    },
    "papermill": {
     "duration": 15.141452,
     "end_time": "2024-09-07T01:28:08.763916",
     "exception": false,
     "start_time": "2024-09-07T01:27:53.622464",
     "status": "completed"
    },
    "tags": []
   },
   "outputs": [],
   "source": [
    "import tensorflow as tf\n",
    "\n",
    "from tensorflow.keras import *\n",
    "\n",
    "class BasicConv(layers.Layer):\n",
    "    def __init__(self, out_planes, kernel_size):\n",
    "        super(BasicConv, self).__init__()\n",
    "        self.conv = tf.keras.layers.Conv2D(\n",
    "            out_planes,\n",
    "            kernel_size=[kernel_size, kernel_size],\n",
    "            strides = 1,\n",
    "            padding=(kernel_size - 1) // 2,\n",
    "            use_bias=False,)\n",
    "        self.bn = tf.keras.layers.BatchNormalization(\n",
    "                momentum=0.999,\n",
    "                epsilon=1e-5)\n",
    "\n",
    "    def call(self, x):\n",
    "        x = self.conv(x)\n",
    "        x = self.bn(x)\n",
    "        x = tf.nn.relu(x)\n",
    "        return x\n",
    "\n",
    "class ChannelPool(layers.Layer):\n",
    "    def call(self, x):\n",
    "        return tf.concat([tf.expand_dims(tf.reduce_max(x, axis=3), axis=3),\n",
    "                          tf.expand_dims(tf.reduce_mean(x, axis=3), axis=3)], axis=3)\n",
    "\n",
    "class SpatialGate(layers.Layer):\n",
    "    def __init__(self):\n",
    "        super(SpatialGate, self).__init__()\n",
    "        kernel_size = 3\n",
    "        self.compress = ChannelPool()\n",
    "        self.spatial = BasicConv(1, kernel_size)\n",
    "\n",
    "    def call(self, x):\n",
    "        x_compress = self.compress(x)\n",
    "        x_out = self.spatial(x_compress)\n",
    "        scale = tf.nn.sigmoid(x_out)\n",
    "        return x * scale\n",
    "\n",
    "class TripletAttention(layers.Layer):\n",
    "    def __init__(self, no_spatial=False):\n",
    "        super(TripletAttention, self).__init__()\n",
    "        self.ChannelGateH = SpatialGate()\n",
    "        self.ChannelGateW = SpatialGate()\n",
    "        self.no_spatial = no_spatial\n",
    "        if not no_spatial:\n",
    "            self.SpatialGate = SpatialGate()\n",
    "\n",
    "    def call(self, x):\n",
    "        x_perm1 = tf.transpose(x, perm=[0, 3, 2, 1])\n",
    "        x_out1 = self.ChannelGateH(x_perm1)  \n",
    "        x_out11 = tf.transpose(x_out1, perm=[0, 3, 2, 1])\n",
    "        x_perm2 = tf.transpose(x, perm=[0, 1, 3, 2])\n",
    "        x_out2 = self.ChannelGateW(x_perm2)  \n",
    "        x_out21 = tf.transpose(x_out2, perm=[0, 1, 3, 2])\n",
    "        if not self.no_spatial:\n",
    "            x_out = self.SpatialGate(x)  \n",
    "            x_out = (1/3) * (x_out + x_out11 + x_out21)\n",
    "        else:\n",
    "            x_out = (1/2) * (x_out11 + x_out21)\n",
    "        return x_out"
   ]
  }
 ],
 "metadata": {
  "kaggle": {
   "accelerator": "none",
   "dataSources": [],
   "isGpuEnabled": false,
   "isInternetEnabled": true,
   "language": "python",
   "sourceType": "notebook"
  },
  "kernelspec": {
   "display_name": "Python 3",
   "language": "python",
   "name": "python3"
  },
  "language_info": {
   "codemirror_mode": {
    "name": "ipython",
    "version": 3
   },
   "file_extension": ".py",
   "mimetype": "text/x-python",
   "name": "python",
   "nbconvert_exporter": "python",
   "pygments_lexer": "ipython3",
   "version": "3.10.14"
  },
  "papermill": {
   "default_parameters": {},
   "duration": 19.489477,
   "end_time": "2024-09-07T01:28:10.291991",
   "environment_variables": {},
   "exception": null,
   "input_path": "__notebook__.ipynb",
   "output_path": "__notebook__.ipynb",
   "parameters": {},
   "start_time": "2024-09-07T01:27:50.802514",
   "version": "2.6.0"
  }
 },
 "nbformat": 4,
 "nbformat_minor": 5
}
