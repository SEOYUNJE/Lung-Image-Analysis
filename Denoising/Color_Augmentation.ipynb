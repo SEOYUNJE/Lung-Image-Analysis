{
  "nbformat": 4,
  "nbformat_minor": 0,
  "metadata": {
    "colab": {
      "provenance": [],
      "authorship_tag": "ABX9TyNfWAVPJNjQv5s1IymOypgf",
      "include_colab_link": true
    },
    "kernelspec": {
      "name": "python3",
      "display_name": "Python 3"
    },
    "language_info": {
      "name": "python"
    }
  },
  "cells": [
    {
      "cell_type": "markdown",
      "metadata": {
        "id": "view-in-github",
        "colab_type": "text"
      },
      "source": [
        "<a href=\"https://colab.research.google.com/github/SEOYUNJE/Lung-Image-Analysis/blob/main/Denosing/Color_Augmentation.ipynb\" target=\"_parent\"><img src=\"https://colab.research.google.com/assets/colab-badge.svg\" alt=\"Open In Colab\"/></a>"
      ]
    },
    {
      "cell_type": "markdown",
      "source": [
        "## Color Augmentation"
      ],
      "metadata": {
        "id": "L-796e2il3Oj"
      }
    },
    {
      "cell_type": "markdown",
      "source": [
        "- **Ben Graham: Greyscale + Gaussian Blur**:\n",
        "This augmentation converts the image to grayscale and applies a Gaussian blur to smooth out any noise or details in the image."
      ],
      "metadata": {
        "id": "q8ayMUCpl9Ir"
      }
    },
    {
      "cell_type": "code",
      "source": [
        "def ben_graham(image):\n",
        "    image = cv2.cvtColor(image, cv2.COLOR_RGB2HSV)\n",
        "    image = cv2.GaussianBlur(image, (5, 5), 0)\n",
        "    return image"
      ],
      "metadata": {
        "id": "MvGGMq4VmAvW"
      },
      "execution_count": null,
      "outputs": []
    },
    {
      "cell_type": "markdown",
      "source": [
        "- **Hue, Saturation, Brightness**:\n",
        "This augmentation converts the image to the HLS color space, which separates the image into its hue, saturation, and brightness channels"
      ],
      "metadata": {
        "id": "Dt6lPXAEmCS7"
      }
    },
    {
      "cell_type": "code",
      "source": [
        "def hsb(image):\n",
        "    return cv2.cvtColor(image, cv2.COLOR_RGB2HLS)"
      ],
      "metadata": {
        "id": "qUxajBVWmGwd"
      },
      "execution_count": null,
      "outputs": []
    },
    {
      "cell_type": "markdown",
      "source": [
        "- **LUV Color Space**:\n",
        "This augmentation converts the image to the LUV color space, which is designed to be perceptually uniform and enables more accurate color comparison."
      ],
      "metadata": {
        "id": "ms6Ro_zFmJQ-"
      }
    },
    {
      "cell_type": "code",
      "source": [
        "def luv(image):\n",
        "    return cv2.cvtColor(image, cv2.COLOR_RGB2LUV)"
      ],
      "metadata": {
        "id": "Vg2H12o6mIZU"
      },
      "execution_count": null,
      "outputs": []
    },
    {
      "cell_type": "markdown",
      "source": [
        "- **YZ Color Space**:\n",
        "This augmentation converts the image to the XYZ color space, which is a device-independent color space that allows for more accurate color representation."
      ],
      "metadata": {
        "id": "y7RtrWnvmSUk"
      }
    },
    {
      "cell_type": "code",
      "source": [
        "def xyz(image):\n",
        "    return cv2.cvtColor(image, cv2.COLOR_RGB2XYZ)"
      ],
      "metadata": {
        "id": "N3sjdHYkmVob"
      },
      "execution_count": null,
      "outputs": []
    },
    {
      "cell_type": "markdown",
      "source": [
        "- **Luma Chroma**:\n",
        "This augmentation converts the image to the YCrCb color space, which separates the image into its luma (brightness) and chroma (color) channels."
      ],
      "metadata": {
        "id": "ZyQk2VAYmWth"
      }
    },
    {
      "cell_type": "code",
      "source": [
        "def luma_chroma(image):\n",
        "    return cv2.cvtColor(image, cv2.COLOR_RGB2YCrCb)"
      ],
      "metadata": {
        "id": "oZ5iHnEkmYmn"
      },
      "execution_count": null,
      "outputs": []
    },
    {
      "cell_type": "markdown",
      "source": [
        "- **CIE Lab**:\n",
        "This augmentation converts the image to the CIE Lab color space, which is designed to be perceptually uniform and enables more accurate color comparison."
      ],
      "metadata": {
        "id": "eJ-O0q-UmZaa"
      }
    },
    {
      "cell_type": "code",
      "source": [
        "def cie_lab(image):\n",
        "    return cv2.cvtColor(image, cv2.COLOR_RGB2Lab)"
      ],
      "metadata": {
        "id": "H2yZBpGhmc2x"
      },
      "execution_count": null,
      "outputs": []
    },
    {
      "cell_type": "markdown",
      "source": [
        "- **YUV Color Space**:\n",
        "This augmentation converts the image to the YUV color space, which separates the image into its luminance (brightness) and chrominance (color) channels."
      ],
      "metadata": {
        "id": "Is5xyuL1mewk"
      }
    },
    {
      "cell_type": "code",
      "source": [
        "def yuv(image):\n",
        "    return cv2.cvtColor(image, cv2.COLOR_RGB2YUV)"
      ],
      "metadata": {
        "id": "sZ2Ormczmh9s"
      },
      "execution_count": null,
      "outputs": []
    }
  ]
}
