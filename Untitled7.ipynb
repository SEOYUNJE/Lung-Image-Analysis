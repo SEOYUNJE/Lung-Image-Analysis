{
  "nbformat": 4,
  "nbformat_minor": 0,
  "metadata": {
    "colab": {
      "provenance": [],
      "authorship_tag": "ABX9TyOln+QOEbMZXDxcj8nDLon+",
      "include_colab_link": true
    },
    "kernelspec": {
      "name": "python3",
      "display_name": "Python 3"
    },
    "language_info": {
      "name": "python"
    }
  },
  "cells": [
    {
      "cell_type": "markdown",
      "metadata": {
        "id": "view-in-github",
        "colab_type": "text"
      },
      "source": [
        "<a href=\"https://colab.research.google.com/github/SEOYUNJE/Lung-Image-Analysis/blob/main/Untitled7.ipynb\" target=\"_parent\"><img src=\"https://colab.research.google.com/assets/colab-badge.svg\" alt=\"Open In Colab\"/></a>"
      ]
    },
    {
      "cell_type": "markdown",
      "source": [
        "## Display Grad Cam\n",
        "\n",
        "GradCAM doesn't always point to the right location even when the prediction is correct. So, we need to use this method very carefully. Usually, high confidence means grad-cam is more likely to point to the correct location."
      ],
      "metadata": {
        "id": "5qaFZr7EdjtP"
      }
    },
    {
      "cell_type": "code",
      "source": [
        "def build_cam_model():\n",
        "    inp = tf.keras.layers.Input(shape=(256,256,3))\n",
        "\n",
        "    res_model = seresnet18(include_top=False, weights='imagenet', input_shape=(256,256,3))\n",
        "\n",
        "    ## Freezing Layers\n",
        "    for layer in res_model.layers[:len(res_model.layers)//10]:\n",
        "        layer.trainable = False\n",
        "\n",
        "    # Output\n",
        "    x0 = res_model(inp)\n",
        "    x1 = CAM()(x0)\n",
        "    x1= layers.Multiply()([x0,x1])\n",
        "    x = tf.keras.layers.GlobalAveragePooling2D()(x1)\n",
        "    x = tf.keras.layers.Dropout(0.2)(x)\n",
        "    x = tf.keras.layers.Dense(len(TARGET), activation='softmax', dtype='float32')(x)\n",
        "\n",
        "    # Compile\n",
        "    model = tf.keras.Model(inputs=inp, outputs=[x1,x])\n",
        "    return model\n",
        "\n",
        "cam_model = build_cam_model()\n",
        "\n",
        "label_weights = []\n",
        "for i in range(len(TARGET)):\n",
        "    label_weights.append(cam_model.layers[-1].get_weights()[0][:,i])"
      ],
      "metadata": {
        "id": "0K8DvC62dq0a"
      },
      "execution_count": null,
      "outputs": []
    },
    {
      "cell_type": "code",
      "source": [
        "def mask2contour(mask, width=3):\n",
        "    h = mask.shape[0]\n",
        "    w = mask.shape[1]\n",
        "\n",
        "    mask2 = np.concatenate([mask[:,width:], np.zeros((h,width))], axis=1)\n",
        "    mask2 = np.logical_xor(mask, mask2)\n",
        "    mask3 = np.concatenate([mask[width:,:], np.zeros((width,w))], axis=0)\n",
        "    mask3 = np.logical_xor(mask,mask3)\n",
        "\n",
        "    return np.logical_or(mask2,mask3)"
      ],
      "metadata": {
        "id": "JdcD2qrid4Xt"
      },
      "execution_count": null,
      "outputs": []
    },
    {
      "cell_type": "code",
      "source": [
        "for i in range(len(TARGET)):\n",
        "    print('#'*25)\n",
        "    print(f'### Label: {TARGET[i]}')\n",
        "    print('#'*25)\n",
        "\n",
        "    tmp = df_train[df_train['Finding Labels'] == TARGET[i]]\n",
        "    gen = DataGenerator(tmp, shuffle=False, batch_size=64, preprocess=preprocess_input)\n",
        "\n",
        "    x1,x = cam_model.predict(gen, verbose=1)\n",
        "\n",
        "    plt.figure(figsize=(12,6))\n",
        "    for j in range(16):\n",
        "        plt.subplot(2,8,j+1)\n",
        "        plt.title(f'p: {x[j,i]*100:.2f}%', size=8)\n",
        "        img = gen[0][0][j].astype('uint8')\n",
        "\n",
        "        img2 = np.sum(x1[j,] * label_weights[i], axis=-1)\n",
        "        img2 = cv2.resize(img2, (256,256))\n",
        "        img3 = img2.copy()\n",
        "        cut = np.percentile(img2.flatten(),[95])[0]\n",
        "        cntr = img2.copy()\n",
        "        cntr[cntr>=cut] = 100\n",
        "        cntr[cntr<cut] = 0\n",
        "        cntr = mask2contour(cntr)\n",
        "\n",
        "        img[cntr>0] = [255,0,0]\n",
        "\n",
        "        plt.imshow(img)\n",
        "        plt.axis('off')\n",
        "\n",
        "\n",
        "    plt.tight_layout()\n",
        "    plt.show()"
      ],
      "metadata": {
        "id": "Z2PA7Cnfd6U-"
      },
      "execution_count": null,
      "outputs": []
    }
  ]
}