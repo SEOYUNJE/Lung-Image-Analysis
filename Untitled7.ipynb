{
  "nbformat": 4,
  "nbformat_minor": 0,
  "metadata": {
    "colab": {
      "provenance": [],
      "authorship_tag": "ABX9TyMYVxc82SR830a8OJIroX3e",
      "include_colab_link": true
    },
    "kernelspec": {
      "name": "python3",
      "display_name": "Python 3"
    },
    "language_info": {
      "name": "python"
    }
  },
  "cells": [
    {
      "cell_type": "markdown",
      "metadata": {
        "id": "view-in-github",
        "colab_type": "text"
      },
      "source": [
        "<a href=\"https://colab.research.google.com/github/SEOYUNJE/Lung-Image-Analysis/blob/main/Untitled7.ipynb\" target=\"_parent\"><img src=\"https://colab.research.google.com/assets/colab-badge.svg\" alt=\"Open In Colab\"/></a>"
      ]
    },
    {
      "cell_type": "markdown",
      "source": [
        "## Extract Image Embedding from Feature Map"
      ],
      "metadata": {
        "id": "rBFHAyqtfbKD"
      }
    },
    {
      "cell_type": "markdown",
      "source": [
        "**Train Image Embedding**"
      ],
      "metadata": {
        "id": "xroy3C0lfhwn"
      }
    },
    {
      "cell_type": "code",
      "source": [
        "preds = []\n",
        "\n",
        "## No TTA\n",
        "train_gen = DataGenerator(df_train, shuffle=False, batch_size=64, preprocess=preprocess_input)\n",
        "\n",
        "for i in range(1):\n",
        "    print(f'Fold {i+1}')\n",
        "    K.clear_session()\n",
        "    model = build_model()\n",
        "    if LOAD_MODELS_FROM:\n",
        "        model.load_weights(f'{LOAD_MODELS_FROM}ResNet_f{i}.weights.h5')\n",
        "    else:\n",
        "        model.load_weights(f'ResNet_f{i}.weights.h5')\n",
        "    embedding_model = Model(inputs=model.input, outputs=model.get_layer('global_average_pooling2d').output)\n",
        "\n",
        "    pred = embedding_model.predict(train_gen, verbose=1)\n",
        "\n",
        "    preds.append(pred)\n",
        "pred = np.mean(preds,axis=0)\n",
        "train_embedding = pred\n",
        "\n",
        "df_train = df_train.drop(columns=TARGET)\n",
        "\n",
        "train_embedding = pd.DataFrame(train_embedding)\n",
        "train_embedding.columns = [f'embedding_{i}' for i in range(len(train_embedding.columns))]\n",
        "\n",
        "df_train = pd.concat([df_train, train_embedding], axis=1)\n",
        "df_train.to_csv('resnet_train.csv', index=False)"
      ],
      "metadata": {
        "id": "bPX6zmeSfgAG"
      },
      "execution_count": null,
      "outputs": []
    },
    {
      "cell_type": "markdown",
      "source": [
        "**Test Image Embedding**"
      ],
      "metadata": {
        "id": "Tiz_c_Q7fmuB"
      }
    },
    {
      "cell_type": "code",
      "source": [
        "preds = []\n",
        "\n",
        "## No TTA\n",
        "test_gen = DataGenerator(df_test, shuffle=False, batch_size=64, preprocess=preprocess_input)\n",
        "\n",
        "for i in range(1):\n",
        "    print(f'Fold {i+1}')\n",
        "    K.clear_session()\n",
        "    model = build_model()\n",
        "    if LOAD_MODELS_FROM:\n",
        "        model.load_weights(f'{LOAD_MODELS_FROM}ResNet_f{i}.weights.h5')\n",
        "    else:\n",
        "        model.load_weights(f'ResNet_f{i}.weights.h5')\n",
        "    embedding_model = Model(inputs=model.input, outputs=model.get_layer('global_average_pooling2d').output)\n",
        "\n",
        "    pred = embedding_model.predict(test_gen, verbose=1)\n",
        "\n",
        "    preds.append(pred)\n",
        "\n",
        "pred = np.mean(preds,axis=0)\n",
        "test_embedding = pred\n",
        "\n",
        "\n",
        "df_test = df_test.drop(columns=TARGET)\n",
        "\n",
        "test_embedding = pd.DataFrame(test_embedding)\n",
        "test_embedding.columns = [f'embedding_{i}' for i in range(len(test_embedding.columns))]\n",
        "\n",
        "df_test = pd.concat([df_test, test_embedding], axis=1)\n",
        "df_test.to_csv('resnet_test.csv', index=False)"
      ],
      "metadata": {
        "id": "PzdfIkw_fpTH"
      },
      "execution_count": null,
      "outputs": []
    }
  ]
}