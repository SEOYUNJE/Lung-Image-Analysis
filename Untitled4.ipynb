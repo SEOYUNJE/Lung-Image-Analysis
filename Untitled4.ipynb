{
  "nbformat": 4,
  "nbformat_minor": 0,
  "metadata": {
    "colab": {
      "provenance": [],
      "authorship_tag": "ABX9TyPlXnovrzvXG6r0MuNv7JD8",
      "include_colab_link": true
    },
    "kernelspec": {
      "name": "python3",
      "display_name": "Python 3"
    },
    "language_info": {
      "name": "python"
    }
  },
  "cells": [
    {
      "cell_type": "markdown",
      "metadata": {
        "id": "view-in-github",
        "colab_type": "text"
      },
      "source": [
        "<a href=\"https://colab.research.google.com/github/SEOYUNJE/Lung-Image-Analysis/blob/main/Untitled4.ipynb\" target=\"_parent\"><img src=\"https://colab.research.google.com/assets/colab-badge.svg\" alt=\"Open In Colab\"/></a>"
      ]
    },
    {
      "cell_type": "markdown",
      "source": [
        "## Model1: ResNet18\n",
        "___\n",
        "\n",
        "1) Backbone: `TFKeras ResNet18`\n",
        "\n",
        "2) Input Size: `(None,256,256,3)`\n",
        "\n",
        "3) Model Weights: `ImageNet`\n",
        "\n",
        "4) Freezing Layers: `10% Freezing`\n",
        "\n",
        "5) Pooling: `GlobalAveragePooling2D`\n",
        "\n",
        "6) Loss: `CategoricalCrossEntropy(label_smoothing=1e-3)`\n",
        "\n",
        "7) Metric: `Accuracy` & `Macro F1 Score`\n",
        "\n",
        "8) Optimizer: `Adam`\n",
        "\n",
        "9) Learning Rate: `1e-3`"
      ],
      "metadata": {
        "id": "cdTRABZ8UH_0"
      }
    },
    {
      "cell_type": "markdown",
      "source": [
        "**Install ResNet**"
      ],
      "metadata": {
        "id": "XLdiH5T8TW4u"
      }
    },
    {
      "cell_type": "code",
      "execution_count": null,
      "metadata": {
        "id": "ujYKr0yOTQjb"
      },
      "outputs": [],
      "source": [
        "!pip install -q git+https://github.com/qubvel/classification_models.git"
      ]
    },
    {
      "cell_type": "code",
      "source": [
        "## Preprocess_Input: Rescaling=(0,255)\n",
        "\n",
        "from classification_models.tfkeras import Classifiers\n",
        "\n",
        "ResNet18, preprocess_input = Classifiers.get('resnet18')"
      ],
      "metadata": {
        "id": "NOmgbdgKTfiJ"
      },
      "execution_count": null,
      "outputs": []
    },
    {
      "cell_type": "code",
      "source": [
        "def build_model():\n",
        "    inp = tf.keras.layers.Input(shape=(256,256,3))\n",
        "    res_model = ResNet18(include_top=False, weights='imagenet', input_shape=(256,256,3))\n",
        "\n",
        "    ## Freezing Layers\n",
        "    for layer in res_model.layers[:len(res_model.layers)//10]:\n",
        "        layer.trainable = False\n",
        "\n",
        "    # Output\n",
        "    x = res_model(inp)\n",
        "    x = tf.keras.layers.GlobalAveragePooling2D()(x)\n",
        "\n",
        "    x = tf.keras.layers.Dense(len(TARGET), activation='softmax', dtype='float32')(x)\n",
        "\n",
        "    # Compile\n",
        "    model = tf.keras.Model(inputs=inp, outputs=x)\n",
        "\n",
        "    loss = tf.keras.losses.CategoricalCrossentropy(label_smoothing=0.1)\n",
        "    opt = tf.keras.optimizers.Adam(learning_rate=1e-3)\n",
        "\n",
        "    model.compile(loss=loss, optimizer=opt, metrics=['accuracy', f1_score])\n",
        "\n",
        "    return model"
      ],
      "metadata": {
        "id": "1H3A4X32TodW"
      },
      "execution_count": null,
      "outputs": []
    },
    {
      "cell_type": "code",
      "source": [
        "# from tensorflow.keras.utils import plot_model\n",
        "\n",
        "model = build_model()\n",
        "model.summary()"
      ],
      "metadata": {
        "id": "XOPJ63uvUFuU"
      },
      "execution_count": null,
      "outputs": []
    },
    {
      "cell_type": "markdown",
      "source": [
        "## Model2. EfficientNetB0\n",
        "___\n",
        "\n",
        "1) Backbone: `TFKeras EfficientNetB0`\n",
        "\n",
        "2) Input Size: `(None,256,256,3)`\n",
        "\n",
        "3) Model Weights: `NoisyStudent`\n",
        "\n",
        "4) Freezing Layers: `10% Freezing`\n",
        "\n",
        "5) Pooling: `GlobalAveragePooling2D`\n",
        "\n",
        "6) Loss: `CategoricalCrossEntropy(label_smoothing=1e-3)`\n",
        "\n",
        "7) Metric: `Accuracy` & `Macro F1 Score`\n",
        "\n",
        "8) Optimizer: `Adam`\n",
        "\n",
        "9) Learning Rate: `1e-3`"
      ],
      "metadata": {
        "id": "66-OixPgV3PT"
      }
    },
    {
      "cell_type": "markdown",
      "source": [
        "**install efficientent**"
      ],
      "metadata": {
        "id": "1eyqkfPjWFxs"
      }
    },
    {
      "cell_type": "code",
      "source": [
        "!pip install -q -U git+https://github.com/qubvel/efficientnet\n",
        "\n",
        "import efficientnet.tfkeras as efn\n",
        "import efn.preprocess_input ## Rescaling(0~1) & Normalization"
      ],
      "metadata": {
        "id": "X_m6I2AyV7QE"
      },
      "execution_count": null,
      "outputs": []
    },
    {
      "cell_type": "code",
      "source": [
        "def build_model():\n",
        "    inp = layers.Input(shape=(256,256,3))\n",
        "    base_model = efn.EfficientNetB0(include_top=False, weights='noisy-student', input_shape=(256,256,3))\n",
        "\n",
        "    # Freezing Layers\n",
        "    for layer in base_model.layers[:len(base_model.layers)//10]:\n",
        "        layer.trainable = False\n",
        "\n",
        "    # Output\n",
        "    x = base_model(inp)\n",
        "    x = layers.GlobalAveragePooling2D()(x)\n",
        "    x = layers.Dense(len(TARGET), activation='softmax', dtype='float32')(x)\n",
        "\n",
        "    # Compile\n",
        "    model = Model(inputs=inp, outputs=x, name='efficientnet')\n",
        "    loss = losses.CategoricalCrossentropy(label_smoothing=0.1)\n",
        "    opt = optimizers.Adam(learning_rate=1e-3)\n",
        "\n",
        "    model.compile(loss=loss, optimizer=opt, metrics=['accuracy',f1_score])\n",
        "\n",
        "    return model"
      ],
      "metadata": {
        "id": "tnouOyCnWFNO"
      },
      "execution_count": null,
      "outputs": []
    },
    {
      "cell_type": "code",
      "source": [
        "model = build_model()\n",
        "model.summary()"
      ],
      "metadata": {
        "id": "SJ5e1nONWirf"
      },
      "execution_count": null,
      "outputs": []
    },
    {
      "cell_type": "markdown",
      "source": [
        "## Model3. Vision Transformer Model\n",
        "___\n",
        "\n",
        "1) Backbone: `TFKeras Vit`\n",
        "\n",
        "2) Input Size: `(None,224,224,3)`\n",
        "\n",
        "3) Model Weights: `ImageNet`\n",
        "\n",
        "4) Freezing Layers: `10% Freezing`\n",
        "\n",
        "5) Pooling: `None`\n",
        "\n",
        "6) Loss: `CategoricalCrossEntropy(label_smoothing=1e-3)`\n",
        "\n",
        "7) Metric: `Accuracy` & `Macro F1 Score`\n",
        "\n",
        "8) Optimizer: `Adam`\n",
        "\n",
        "9) Learning Rate: `1e-3`"
      ],
      "metadata": {
        "id": "t2WML5rHW2EU"
      }
    },
    {
      "cell_type": "markdown",
      "source": [
        "**install Vision Transformer**"
      ],
      "metadata": {
        "id": "-9IkgPXYXNcd"
      }
    },
    {
      "cell_type": "code",
      "source": [
        "!pip -q install vit_keras"
      ],
      "metadata": {
        "id": "eP9D8Fy8XS0Y"
      },
      "execution_count": null,
      "outputs": []
    },
    {
      "cell_type": "code",
      "source": [
        "## TF Keras Vit_keras model need keras version<3.0.0\n",
        "## I did downgrade keras version from 3 to 2.15.0\n",
        "\n",
        "!pip install -q keras==2.15.0\n",
        "!pip install -q tfa-nightly\n",
        "import tensorflow_addons"
      ],
      "metadata": {
        "id": "pEkUmXEiW8-x"
      },
      "execution_count": null,
      "outputs": []
    },
    {
      "cell_type": "code",
      "source": [
        "from vit_keras import vit\n",
        "\n",
        "def build_model():\n",
        "    base_model =  vit.vit_b16(\n",
        "        image_size = 224,\n",
        "        pretrained = True,\n",
        "        include_top = False,\n",
        "        pretrained_top = False,\n",
        "        )\n",
        "\n",
        "\n",
        "    # Freezing Layers\n",
        "    for layer in base_model.layers[:len(base_model.layers)//10]:\n",
        "        layer.trainable = False\n",
        "\n",
        "    # Output\n",
        "    x = base_model.output\n",
        "    x = layers.Dense(len(TARGET), activation='softmax', dtype='float32')(x)\n",
        "\n",
        "    # Compile\n",
        "    model = Model(inputs=base_model.input, outputs=x)\n",
        "    loss = losses.CategoricalCrossentropy(label_smoothing=0.1)\n",
        "    opt = optimizers.Adam(learning_rate=1e-3)\n",
        "\n",
        "    model.compile(loss=loss, optimizer=opt, metrics=[f1_score,'accuracy'])\n",
        "\n",
        "    return model"
      ],
      "metadata": {
        "id": "lOsn-BAxXgFa"
      },
      "execution_count": null,
      "outputs": []
    },
    {
      "cell_type": "code",
      "source": [
        "model = build_model()\n",
        "model.summary()"
      ],
      "metadata": {
        "id": "KGSb4r0xXqSp"
      },
      "execution_count": null,
      "outputs": []
    }
  ]
}