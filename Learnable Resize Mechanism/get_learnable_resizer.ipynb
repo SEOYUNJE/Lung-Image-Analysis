{
  "nbformat": 4,
  "nbformat_minor": 0,
  "metadata": {
    "colab": {
      "provenance": [],
      "authorship_tag": "ABX9TyN+IL07rE9eUXsdH7ygRcwD",
      "include_colab_link": true
    },
    "kernelspec": {
      "name": "python3",
      "display_name": "Python 3"
    },
    "language_info": {
      "name": "python"
    }
  },
  "cells": [
    {
      "cell_type": "markdown",
      "metadata": {
        "id": "view-in-github",
        "colab_type": "text"
      },
      "source": [
        "<a href=\"https://colab.research.google.com/github/SEOYUNJE/Lung-Image-Analysis/blob/main/Untitled2.ipynb\" target=\"_parent\"><img src=\"https://colab.research.google.com/assets/colab-badge.svg\" alt=\"Open In Colab\"/></a>"
      ]
    },
    {
      "cell_type": "markdown",
      "source": [],
      "metadata": {
        "id": "T4u3f8Jofijr"
      }
    },
    {
      "cell_type": "markdown",
      "source": [
        "## Factors Influencing Learnable Mechanisms\n",
        "\n",
        "1. TARGET_SIZE: `224,224` or `384,384`\n",
        "2. INTERPOLATION: `bilinear`, `nearest`, `bicubic`, `lanczos3`, `lanczos5`.\n",
        "3. Filters: `16`, `32`, `64`\n",
        "4. num_res_blocks: `5`, `10`, `15`"
      ],
      "metadata": {
        "id": "r2YR58HMfgk8"
      }
    },
    {
      "cell_type": "code",
      "execution_count": null,
      "metadata": {
        "id": "FQoXCzEZfdDn"
      },
      "outputs": [],
      "source": [
        "INP_SIZE      = (512, 512) # Input size of the Image Resizer Module (IRM)\n",
        "TARGET_SIZE   = (224, 224) # Output size of IRM and Input size of the Vision Transformer\n",
        "INTERPOLATION = \"bilinear\"\n",
        "\n",
        "def residual_block(x):\n",
        "    shortcut = x\n",
        "    def conv_bn_leaky(inputs, filters, kernel_size, strides):\n",
        "        x = layers.Conv2D(filters,\n",
        "                          kernel_size,\n",
        "                          strides=strides,\n",
        "                          use_bias=False,\n",
        "                          padding='same')(inputs)\n",
        "        x = layers.BatchNormalization()(x)\n",
        "        x = layers.LeakyReLU()(x)\n",
        "        return x\n",
        "\n",
        "    def conv_bn(inputs, filters, kernel_size, strides):\n",
        "        x = layers.Conv2D(filters,\n",
        "                          kernel_size,\n",
        "                          strides,\n",
        "                          padding='same')(inputs)\n",
        "        x = layers.BatchNormalization()(x)\n",
        "        return x\n",
        "\n",
        "    x = conv_bn_leaky(x, 16, 3, 1)\n",
        "    x = conv_bn(x, 16, 3, 1)\n",
        "    x = layers.add([shortcut, x])\n",
        "    return x\n",
        "\n",
        "\n",
        "def get_learnable_resizer(filters=16,\n",
        "                          num_res_blocks=1,\n",
        "                          interpolation=INTERPOLATION,\n",
        "                          name=None):\n",
        "\n",
        "    inputs = layers.Input(shape=[None, None, 3])\n",
        "\n",
        "    # First, perform naive resizing.\n",
        "    naive_resize = layers.Resizing(\n",
        "        *TARGET_SIZE, interpolation=interpolation\n",
        "    )(inputs)\n",
        "\n",
        "    # First convolution block without batch normalization.\n",
        "    x = layers.Conv2D(filters=filters, kernel_size=7, strides=1, padding='same')(inputs)\n",
        "    x = layers.LeakyReLU(0.2)(x)\n",
        "\n",
        "    # Second convolution block with batch normalization.\n",
        "    x = layers.Conv2D(filters=filters, kernel_size=1, strides=1, padding='same')(x)\n",
        "    x = layers.LeakyReLU(0.2)(x)\n",
        "    x = layers.BatchNormalization()(x)\n",
        "\n",
        "    # Intermediate resizing as a bottleneck.\n",
        "    bottleneck = layers.Resizing(\n",
        "        *TARGET_SIZE, interpolation=interpolation\n",
        "    )(x)\n",
        "\n",
        "    # Residual passes.\n",
        "    x = residual_block(bottleneck)\n",
        "    for i in range(1, num_res_blocks):\n",
        "        x = residual_block(x)\n",
        "\n",
        "    # Projection.\n",
        "    x = layers.Conv2D(\n",
        "        filters=filters, kernel_size=3, strides=1, padding=\"same\", use_bias=False\n",
        "    )(x)\n",
        "    x = layers.BatchNormalization()(x)\n",
        "\n",
        "    # Skip connection.\n",
        "    x = layers.Add()([bottleneck, x])\n",
        "\n",
        "    # Final resized image.\n",
        "    x = layers.Conv2D(filters=3, kernel_size=7, strides=1, padding=\"same\")(x)\n",
        "    final_resize = layers.Add()([naive_resize, x])\n",
        "    return Model(inputs, final_resize, name=name)"
      ]
    }
  ]
}
