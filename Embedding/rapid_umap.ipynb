{
 "cells": [
  {
   "cell_type": "markdown",
   "id": "ff5e2c1b",
   "metadata": {
    "papermill": {
     "duration": 0.006102,
     "end_time": "2024-08-07T10:51:43.050382",
     "exception": false,
     "start_time": "2024-08-07T10:51:43.044280",
     "status": "completed"
    },
    "tags": []
   },
   "source": [
    "## 1. Import Library\n",
    "___"
   ]
  },
  {
   "cell_type": "code",
   "execution_count": 1,
   "id": "d0d026b0",
   "metadata": {
    "execution": {
     "iopub.execute_input": "2024-08-07T10:51:43.063219Z",
     "iopub.status.busy": "2024-08-07T10:51:43.062913Z",
     "iopub.status.idle": "2024-08-07T10:52:01.051119Z",
     "shell.execute_reply": "2024-08-07T10:52:01.049859Z"
    },
    "papermill": {
     "duration": 17.997512,
     "end_time": "2024-08-07T10:52:01.053710",
     "exception": false,
     "start_time": "2024-08-07T10:51:43.056198",
     "status": "completed"
    },
    "tags": []
   },
   "outputs": [
    {
     "name": "stderr",
     "output_type": "stream",
     "text": [
      "2024-08-07 10:51:45.429189: E external/local_xla/xla/stream_executor/cuda/cuda_dnn.cc:9261] Unable to register cuDNN factory: Attempting to register factory for plugin cuDNN when one has already been registered\n",
      "2024-08-07 10:51:45.429301: E external/local_xla/xla/stream_executor/cuda/cuda_fft.cc:607] Unable to register cuFFT factory: Attempting to register factory for plugin cuFFT when one has already been registered\n",
      "2024-08-07 10:51:45.612449: E external/local_xla/xla/stream_executor/cuda/cuda_blas.cc:1515] Unable to register cuBLAS factory: Attempting to register factory for plugin cuBLAS when one has already been registered\n"
     ]
    },
    {
     "name": "stdout",
     "output_type": "stream",
     "text": [
      "tensorflow version:  2.15.0\n",
      "Using 2 GPUs\n"
     ]
    }
   ],
   "source": [
    "import gc \n",
    "import ctypes\n",
    "import random\n",
    "from tqdm import tqdm\n",
    "from collections import defaultdict\n",
    "\n",
    "import os\n",
    "import sys\n",
    "import pickle\n",
    "\n",
    "import tensorflow as tf\n",
    "from tensorflow.keras import *\n",
    "import tensorflow.keras.backend as K, gc\n",
    "\n",
    "os.environ['CUDA_IS_VISIBLE'] = '0,1'\n",
    "print('tensorflow version: ', tf.__version__)\n",
    "\n",
    "import numpy as np, pandas as pd\n",
    "import matplotlib.pyplot as plt\n",
    "import seaborn as sns\n",
    "\n",
    "from glob import glob\n",
    "import cv2\n",
    "from PIL import Image\n",
    "\n",
    "from sklearn.metrics import confusion_matrix, ConfusionMatrixDisplay\n",
    "from sklearn.model_selection import KFold, StratifiedKFold,GroupKFold\n",
    "from sklearn.model_selection import train_test_split\n",
    "from sklearn.metrics import accuracy_score, f1_score  \n",
    "\n",
    "\n",
    "import warnings \n",
    "import albumentations as albu\n",
    "warnings.filterwarnings('ignore')\n",
    "\n",
    "gpus = tf.config.list_physical_devices('GPU')\n",
    "if len(gpus) <=1:\n",
    "    strategy = tf.distribute.OneDeviceStrategy(device='/gpu:0')\n",
    "    print(f'Using {len(gpus)} GPUs')\n",
    "else: \n",
    "    strategy = tf.distribute.MirroredStrategy()\n",
    "    print(f'Using {len(gpus)} GPUs')\n",
    "    \n",
    "LOAD_EMBEDDINGS_FROM = '/kaggle/input/chest-x-ray-image-embedding/'"
   ]
  },
  {
   "cell_type": "code",
   "execution_count": 2,
   "id": "05cbeb11",
   "metadata": {
    "execution": {
     "iopub.execute_input": "2024-08-07T10:52:01.071910Z",
     "iopub.status.busy": "2024-08-07T10:52:01.071324Z",
     "iopub.status.idle": "2024-08-07T10:52:01.256376Z",
     "shell.execute_reply": "2024-08-07T10:52:01.255563Z"
    },
    "papermill": {
     "duration": 0.194053,
     "end_time": "2024-08-07T10:52:01.258382",
     "exception": false,
     "start_time": "2024-08-07T10:52:01.064329",
     "status": "completed"
    },
    "tags": []
   },
   "outputs": [],
   "source": [
    "def clean_memory():\n",
    "    # malloc_trim: 현재 사용되지 않는 메모리를 시스템에서 다시 반환함0\n",
    "    ctypes.CDLL('libc.so.6').malloc_trim(0)\n",
    "    gc.collect()\n",
    "clean_memory()"
   ]
  },
  {
   "cell_type": "code",
   "execution_count": 3,
   "id": "1c2ecd27",
   "metadata": {
    "execution": {
     "iopub.execute_input": "2024-08-07T10:52:01.271485Z",
     "iopub.status.busy": "2024-08-07T10:52:01.271227Z",
     "iopub.status.idle": "2024-08-07T10:52:01.276280Z",
     "shell.execute_reply": "2024-08-07T10:52:01.275437Z"
    },
    "papermill": {
     "duration": 0.013642,
     "end_time": "2024-08-07T10:52:01.278156",
     "exception": false,
     "start_time": "2024-08-07T10:52:01.264514",
     "status": "completed"
    },
    "tags": []
   },
   "outputs": [],
   "source": [
    "def seed_everything(seed):\n",
    "    np.random.seed(seed)\n",
    "    os.environ['PYTHONHASHSEED'] = str(seed)\n",
    "    tf.random.set_seed(seed)\n",
    "    os.environ['TF_DETERMINISTIC_OPS'] = '1'\n",
    "seed_everything(42)"
   ]
  },
  {
   "cell_type": "code",
   "execution_count": 4,
   "id": "9513d073",
   "metadata": {
    "execution": {
     "iopub.execute_input": "2024-08-07T10:52:01.291149Z",
     "iopub.status.busy": "2024-08-07T10:52:01.290495Z",
     "iopub.status.idle": "2024-08-07T10:52:01.295268Z",
     "shell.execute_reply": "2024-08-07T10:52:01.294464Z"
    },
    "papermill": {
     "duration": 0.013213,
     "end_time": "2024-08-07T10:52:01.297215",
     "exception": false,
     "start_time": "2024-08-07T10:52:01.284002",
     "status": "completed"
    },
    "tags": []
   },
   "outputs": [
    {
     "name": "stdout",
     "output_type": "stream",
     "text": [
      "Mixed Precision enabled\n"
     ]
    }
   ],
   "source": [
    "MIX = True\n",
    "if MIX: \n",
    "    tf.config.optimizer.set_experimental_options({'auto_mixed_precision':True})\n",
    "    print('Mixed Precision enabled')\n",
    "else: \n",
    "    print('Using full precision')"
   ]
  },
  {
   "cell_type": "markdown",
   "id": "0a46d98c",
   "metadata": {
    "papermill": {
     "duration": 0.005507,
     "end_time": "2024-08-07T10:52:01.308448",
     "exception": false,
     "start_time": "2024-08-07T10:52:01.302941",
     "status": "completed"
    },
    "tags": []
   },
   "source": [
    "## 2. RAPIDS UMAP, KMeans\n",
    "___\n",
    "We will use `UMAP` to reduce these embeddings to two dimensions. Lastly we will use `KMeans`"
   ]
  },
  {
   "cell_type": "markdown",
   "id": "24b1075d",
   "metadata": {
    "papermill": {
     "duration": 0.005516,
     "end_time": "2024-08-07T10:52:01.319724",
     "exception": false,
     "start_time": "2024-08-07T10:52:01.314208",
     "status": "completed"
    },
    "tags": []
   },
   "source": [
    "### Load RAPIDS"
   ]
  },
  {
   "cell_type": "code",
   "execution_count": 5,
   "id": "afae6b71",
   "metadata": {
    "execution": {
     "iopub.execute_input": "2024-08-07T10:52:01.332163Z",
     "iopub.status.busy": "2024-08-07T10:52:01.331927Z",
     "iopub.status.idle": "2024-08-07T10:52:07.852889Z",
     "shell.execute_reply": "2024-08-07T10:52:07.851836Z"
    },
    "papermill": {
     "duration": 6.529469,
     "end_time": "2024-08-07T10:52:07.854878",
     "exception": false,
     "start_time": "2024-08-07T10:52:01.325409",
     "status": "completed"
    },
    "tags": []
   },
   "outputs": [
    {
     "name": "stdout",
     "output_type": "stream",
     "text": [
      "RAPIDS 24.06.01\n"
     ]
    }
   ],
   "source": [
    "import cudf, cuml, cupy\n",
    "print('RAPIDS', cudf.__version__)"
   ]
  },
  {
   "cell_type": "markdown",
   "id": "4bdd0957",
   "metadata": {
    "papermill": {
     "duration": 0.005753,
     "end_time": "2024-08-07T10:52:07.866697",
     "exception": false,
     "start_time": "2024-08-07T10:52:07.860944",
     "status": "completed"
    },
    "tags": []
   },
   "source": [
    "### RAPIDS cudf\n",
    "we will read train embedding into a RAPIDS cudf"
   ]
  },
  {
   "cell_type": "markdown",
   "id": "5db3b870",
   "metadata": {
    "papermill": {
     "duration": 0.005584,
     "end_time": "2024-08-07T10:52:07.878135",
     "exception": false,
     "start_time": "2024-08-07T10:52:07.872551",
     "status": "completed"
    },
    "tags": []
   },
   "source": [
    "**Train Dataset**"
   ]
  },
  {
   "cell_type": "code",
   "execution_count": 6,
   "id": "88fb4f61",
   "metadata": {
    "execution": {
     "iopub.execute_input": "2024-08-07T10:52:07.892286Z",
     "iopub.status.busy": "2024-08-07T10:52:07.891702Z",
     "iopub.status.idle": "2024-08-07T10:52:08.774347Z",
     "shell.execute_reply": "2024-08-07T10:52:08.773509Z"
    },
    "papermill": {
     "duration": 0.892526,
     "end_time": "2024-08-07T10:52:08.776539",
     "exception": false,
     "start_time": "2024-08-07T10:52:07.884013",
     "status": "completed"
    },
    "tags": []
   },
   "outputs": [],
   "source": [
    "train_embedding = cudf.read_csv(f'{LOAD_EMBEDDINGS_FROM}resnet_train.csv')"
   ]
  },
  {
   "cell_type": "markdown",
   "id": "76e880e0",
   "metadata": {
    "papermill": {
     "duration": 0.005759,
     "end_time": "2024-08-07T10:52:08.788654",
     "exception": false,
     "start_time": "2024-08-07T10:52:08.782895",
     "status": "completed"
    },
    "tags": []
   },
   "source": [
    "**Test Dataset**"
   ]
  },
  {
   "cell_type": "code",
   "execution_count": 7,
   "id": "829a3bd8",
   "metadata": {
    "execution": {
     "iopub.execute_input": "2024-08-07T10:52:08.801700Z",
     "iopub.status.busy": "2024-08-07T10:52:08.801411Z",
     "iopub.status.idle": "2024-08-07T10:52:09.084900Z",
     "shell.execute_reply": "2024-08-07T10:52:09.083579Z"
    },
    "papermill": {
     "duration": 0.29395,
     "end_time": "2024-08-07T10:52:09.088476",
     "exception": false,
     "start_time": "2024-08-07T10:52:08.794526",
     "status": "completed"
    },
    "tags": []
   },
   "outputs": [],
   "source": [
    "test_embedding = cudf.read_csv(f'{LOAD_EMBEDDINGS_FROM}resnet_test.csv')"
   ]
  },
  {
   "cell_type": "code",
   "execution_count": 8,
   "id": "420d3d3e",
   "metadata": {
    "execution": {
     "iopub.execute_input": "2024-08-07T10:52:09.102370Z",
     "iopub.status.busy": "2024-08-07T10:52:09.102045Z",
     "iopub.status.idle": "2024-08-07T10:52:09.456558Z",
     "shell.execute_reply": "2024-08-07T10:52:09.455764Z"
    },
    "papermill": {
     "duration": 0.363957,
     "end_time": "2024-08-07T10:52:09.458861",
     "exception": false,
     "start_time": "2024-08-07T10:52:09.094904",
     "status": "completed"
    },
    "tags": []
   },
   "outputs": [],
   "source": [
    "embedding = cudf.concat([train_embedding, test_embedding])\n",
    "embedding = embedding.drop(columns=['Fold'])"
   ]
  },
  {
   "cell_type": "markdown",
   "id": "cded35fd",
   "metadata": {
    "papermill": {
     "duration": 0.005974,
     "end_time": "2024-08-07T10:52:09.471309",
     "exception": false,
     "start_time": "2024-08-07T10:52:09.465335",
     "status": "completed"
    },
    "tags": []
   },
   "source": [
    "### RAPIDS UMAP\n",
    "We will use UMAP to reduce embedding vetctors to two dimensions"
   ]
  },
  {
   "cell_type": "code",
   "execution_count": 9,
   "id": "7b3d42ae",
   "metadata": {
    "execution": {
     "iopub.execute_input": "2024-08-07T10:52:09.485423Z",
     "iopub.status.busy": "2024-08-07T10:52:09.485102Z",
     "iopub.status.idle": "2024-08-07T10:53:33.833346Z",
     "shell.execute_reply": "2024-08-07T10:53:33.832415Z"
    },
    "papermill": {
     "duration": 84.364065,
     "end_time": "2024-08-07T10:53:33.841499",
     "exception": false,
     "start_time": "2024-08-07T10:52:09.477434",
     "status": "completed"
    },
    "tags": []
   },
   "outputs": [
    {
     "name": "stdout",
     "output_type": "stream",
     "text": [
      "CPU times: user 1min 21s, sys: 3.07 s, total: 1min 24s\n",
      "Wall time: 1min 24s\n"
     ]
    }
   ],
   "source": [
    "%%time\n",
    "\n",
    "from cuml import UMAP\n",
    "umap = UMAP()\n",
    "embed_2d = umap.fit_transform(embedding.drop(columns=['Image Index','Finding Labels','path']))\n",
    "embed_2d = embed_2d.to_numpy()"
   ]
  },
  {
   "cell_type": "markdown",
   "id": "983e6eb0",
   "metadata": {
    "papermill": {
     "duration": 0.005753,
     "end_time": "2024-08-07T10:53:33.853277",
     "exception": false,
     "start_time": "2024-08-07T10:53:33.847524",
     "status": "completed"
    },
    "tags": []
   },
   "source": [
    "### RAPIDS KMeans\n",
    "We will use KMeans to find clusters of Lung Diseases."
   ]
  },
  {
   "cell_type": "code",
   "execution_count": 10,
   "id": "14aed540",
   "metadata": {
    "execution": {
     "iopub.execute_input": "2024-08-07T10:53:33.866790Z",
     "iopub.status.busy": "2024-08-07T10:53:33.866222Z",
     "iopub.status.idle": "2024-08-07T10:53:34.265806Z",
     "shell.execute_reply": "2024-08-07T10:53:34.264815Z"
    },
    "papermill": {
     "duration": 0.409002,
     "end_time": "2024-08-07T10:53:34.268190",
     "exception": false,
     "start_time": "2024-08-07T10:53:33.859188",
     "status": "completed"
    },
    "tags": []
   },
   "outputs": [],
   "source": [
    "from cuml import KMeans\n",
    "kmeans = cuml.KMeans(n_clusters=9)\n",
    "kmeans.fit(embed_2d)\n",
    "embedding['cluster'] = kmeans.labels_"
   ]
  },
  {
   "cell_type": "markdown",
   "id": "097a23fd",
   "metadata": {
    "papermill": {
     "duration": 0.005992,
     "end_time": "2024-08-07T10:53:34.280678",
     "exception": false,
     "start_time": "2024-08-07T10:53:34.274686",
     "status": "completed"
    },
    "tags": []
   },
   "source": [
    "## 3. Display UMAP\n",
    "We will display the result of UMAP which reduced text to two dimension."
   ]
  },
  {
   "cell_type": "code",
   "execution_count": 11,
   "id": "9a55f267",
   "metadata": {
    "execution": {
     "iopub.execute_input": "2024-08-07T10:53:34.294699Z",
     "iopub.status.busy": "2024-08-07T10:53:34.294357Z",
     "iopub.status.idle": "2024-08-07T10:53:34.536635Z",
     "shell.execute_reply": "2024-08-07T10:53:34.535803Z"
    },
    "papermill": {
     "duration": 0.251847,
     "end_time": "2024-08-07T10:53:34.538879",
     "exception": false,
     "start_time": "2024-08-07T10:53:34.287032",
     "status": "completed"
    },
    "tags": []
   },
   "outputs": [],
   "source": [
    "from cuml.preprocessing import LabelEncoder\n",
    "import cudf\n",
    "\n",
    "labelencoder = LabelEncoder()\n",
    "embedding['Finding Labels'] = labelencoder.fit_transform(embedding['Finding Labels'])"
   ]
  },
  {
   "cell_type": "code",
   "execution_count": 12,
   "id": "067fa559",
   "metadata": {
    "execution": {
     "iopub.execute_input": "2024-08-07T10:53:34.553349Z",
     "iopub.status.busy": "2024-08-07T10:53:34.552811Z",
     "iopub.status.idle": "2024-08-07T10:53:34.881307Z",
     "shell.execute_reply": "2024-08-07T10:53:34.880417Z"
    },
    "papermill": {
     "duration": 0.337885,
     "end_time": "2024-08-07T10:53:34.883533",
     "exception": false,
     "start_time": "2024-08-07T10:53:34.545648",
     "status": "completed"
    },
    "tags": []
   },
   "outputs": [
    {
     "data": {
      "image/png": "[encoded data removed]",
      "text/plain": [
       "<Figure size 1200x600 with 1 Axes>"
      ]
     },
     "metadata": {},
     "output_type": "display_data"
    }
   ],
   "source": [
    "plt.figure(figsize=(12,6))\n",
    "\n",
    "plt.scatter(embed_2d[:,0], embed_2d[:,1], s=1, c=embedding['Finding Labels'].to_numpy())\n",
    "plt.legend()\n",
    "plt.show()"
   ]
  },
  {
   "cell_type": "code",
   "execution_count": null,
   "id": "72daed11",
   "metadata": {
    "papermill": {
     "duration": 0.007384,
     "end_time": "2024-08-07T10:53:34.898721",
     "exception": false,
     "start_time": "2024-08-07T10:53:34.891337",
     "status": "completed"
    },
    "tags": []
   },
   "outputs": [],
   "source": []
  }
 ],
 "metadata": {
  "kaggle": {
   "accelerator": "nvidiaTeslaT4",
   "dataSources": [
    {
     "datasetId": 5462096,
     "isSourceIdPinned": true,
     "sourceId": 9123378,
     "sourceType": "datasetVersion"
    }
   ],
   "isGpuEnabled": true,
   "isInternetEnabled": true,
   "language": "python",
   "sourceType": "notebook"
  },
  "kernelspec": {
   "display_name": "Python 3",
   "language": "python",
   "name": "python3"
  },
  "language_info": {
   "codemirror_mode": {
    "name": "ipython",
    "version": 3
   },
   "file_extension": ".py",
   "mimetype": "text/x-python",
   "name": "python",
   "nbconvert_exporter": "python",
   "pygments_lexer": "ipython3",
   "version": "3.10.13"
  },
  "papermill": {
   "default_parameters": {},
   "duration": 118.404952,
   "end_time": "2024-08-07T10:53:38.385640",
   "environment_variables": {},
   "exception": null,
   "input_path": "__notebook__.ipynb",
   "output_path": "__notebook__.ipynb",
   "parameters": {},
   "start_time": "2024-08-07T10:51:39.980688",
   "version": "2.5.0"
  }
 },
 "nbformat": 4,
 "nbformat_minor": 5
}
