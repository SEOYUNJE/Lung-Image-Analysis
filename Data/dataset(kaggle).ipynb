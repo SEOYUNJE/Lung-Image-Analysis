## In Google Colab, it takes 30minutes for loading kaggle datasets, But in Kaggle Notebook, it just takes under 1minute for loading

{
 "cells": [
  {
   "cell_type": "code",
   "execution_count": 1,
   "id": "2527ebaf",
   "metadata": {
    "_cell_guid": "b1076dfc-b9ad-4769-8c92-a6c4dae69d19",
    "_uuid": "8f2839f25d086af736a60e9eeb907d3b93b6e0e5",
    "execution": {
     "iopub.execute_input": "2024-08-05T04:35:19.948422Z",
     "iopub.status.busy": "2024-08-05T04:35:19.947932Z",
     "iopub.status.idle": "2024-08-05T04:35:22.514584Z",
     "shell.execute_reply": "2024-08-05T04:35:22.513640Z"
    },
    "papermill": {
     "duration": 2.577702,
     "end_time": "2024-08-05T04:35:22.517308",
     "exception": false,
     "start_time": "2024-08-05T04:35:19.939606",
     "status": "completed"
    },
    "tags": []
   },
   "outputs": [],
   "source": [
    "import os\n",
    "import pandas as pd, numpy as np\n",
    "from glob import glob \n",
    "\n",
    "import matplotlib.pyplot as plt\n",
    "import seaborn as sns \n",
    "from sklearn.model_selection import train_test_split"
   ]
  },
  {
   "cell_type": "code",
   "execution_count": 2,
   "id": "4321d106",
   "metadata": {
    "execution": {
     "iopub.execute_input": "2024-08-05T04:35:22.530100Z",
     "iopub.status.busy": "2024-08-05T04:35:22.529547Z",
     "iopub.status.idle": "2024-08-05T04:35:22.931818Z",
     "shell.execute_reply": "2024-08-05T04:35:22.930581Z"
    },
    "papermill": {
     "duration": 0.411248,
     "end_time": "2024-08-05T04:35:22.934283",
     "exception": false,
     "start_time": "2024-08-05T04:35:22.523035",
     "status": "completed"
    },
    "tags": []
   },
   "outputs": [
    {
     "name": "stdout",
     "output_type": "stream",
     "text": [
      "Shape of DataFrame: (112120, 11)\n"
     ]
    },
    {
     "data": {
      "text/html": [
       "<div>\n",
       "<style scoped>\n",
       "    .dataframe tbody tr th:only-of-type {\n",
       "        vertical-align: middle;\n",
       "    }\n",
       "\n",
       "    .dataframe tbody tr th {\n",
       "        vertical-align: top;\n",
       "    }\n",
       "\n",
       "    .dataframe thead th {\n",
       "        text-align: right;\n",
       "    }\n",
       "</style>\n",
       "<table border=\"1\" class=\"dataframe\">\n",
       "  <thead>\n",
       "    <tr style=\"text-align: right;\">\n",
       "      <th></th>\n",
       "      <th>Image Index</th>\n",
       "      <th>Finding Labels</th>\n",
       "      <th>Follow-up #</th>\n",
       "      <th>Patient ID</th>\n",
       "      <th>Patient Age</th>\n",
       "      <th>Patient Gender</th>\n",
       "      <th>View Position</th>\n",
       "      <th>OriginalImage[Width</th>\n",
       "      <th>Height]</th>\n",
       "      <th>OriginalImagePixelSpacing[x</th>\n",
       "      <th>y]</th>\n",
       "    </tr>\n",
       "  </thead>\n",
       "  <tbody>\n",
       "    <tr>\n",
       "      <th>0</th>\n",
       "      <td>00000001_000.png</td>\n",
       "      <td>Cardiomegaly</td>\n",
       "      <td>0</td>\n",
       "      <td>1</td>\n",
       "      <td>58</td>\n",
       "      <td>M</td>\n",
       "      <td>PA</td>\n",
       "      <td>2682</td>\n",
       "      <td>2749</td>\n",
       "      <td>0.143</td>\n",
       "      <td>0.143</td>\n",
       "    </tr>\n",
       "    <tr>\n",
       "      <th>1</th>\n",
       "      <td>00000001_001.png</td>\n",
       "      <td>Cardiomegaly|Emphysema</td>\n",
       "      <td>1</td>\n",
       "      <td>1</td>\n",
       "      <td>58</td>\n",
       "      <td>M</td>\n",
       "      <td>PA</td>\n",
       "      <td>2894</td>\n",
       "      <td>2729</td>\n",
       "      <td>0.143</td>\n",
       "      <td>0.143</td>\n",
       "    </tr>\n",
       "    <tr>\n",
       "      <th>2</th>\n",
       "      <td>00000001_002.png</td>\n",
       "      <td>Cardiomegaly|Effusion</td>\n",
       "      <td>2</td>\n",
       "      <td>1</td>\n",
       "      <td>58</td>\n",
       "      <td>M</td>\n",
       "      <td>PA</td>\n",
       "      <td>2500</td>\n",
       "      <td>2048</td>\n",
       "      <td>0.168</td>\n",
       "      <td>0.168</td>\n",
       "    </tr>\n",
       "    <tr>\n",
       "      <th>3</th>\n",
       "      <td>00000002_000.png</td>\n",
       "      <td>No Finding</td>\n",
       "      <td>0</td>\n",
       "      <td>2</td>\n",
       "      <td>81</td>\n",
       "      <td>M</td>\n",
       "      <td>PA</td>\n",
       "      <td>2500</td>\n",
       "      <td>2048</td>\n",
       "      <td>0.171</td>\n",
       "      <td>0.171</td>\n",
       "    </tr>\n",
       "    <tr>\n",
       "      <th>4</th>\n",
       "      <td>00000003_000.png</td>\n",
       "      <td>Hernia</td>\n",
       "      <td>0</td>\n",
       "      <td>3</td>\n",
       "      <td>81</td>\n",
       "      <td>F</td>\n",
       "      <td>PA</td>\n",
       "      <td>2582</td>\n",
       "      <td>2991</td>\n",
       "      <td>0.143</td>\n",
       "      <td>0.143</td>\n",
       "    </tr>\n",
       "  </tbody>\n",
       "</table>\n",
       "</div>"
      ],
      "text/plain": [
       "        Image Index          Finding Labels  Follow-up #  Patient ID  \\\n",
       "0  00000001_000.png            Cardiomegaly            0           1   \n",
       "1  00000001_001.png  Cardiomegaly|Emphysema            1           1   \n",
       "2  00000001_002.png   Cardiomegaly|Effusion            2           1   \n",
       "3  00000002_000.png              No Finding            0           2   \n",
       "4  00000003_000.png                  Hernia            0           3   \n",
       "\n",
       "   Patient Age Patient Gender View Position  OriginalImage[Width  Height]  \\\n",
       "0           58              M            PA                 2682     2749   \n",
       "1           58              M            PA                 2894     2729   \n",
       "2           58              M            PA                 2500     2048   \n",
       "3           81              M            PA                 2500     2048   \n",
       "4           81              F            PA                 2582     2991   \n",
       "\n",
       "   OriginalImagePixelSpacing[x     y]  \n",
       "0                        0.143  0.143  \n",
       "1                        0.143  0.143  \n",
       "2                        0.168  0.168  \n",
       "3                        0.171  0.171  \n",
       "4                        0.143  0.143  "
      ]
     },
     "execution_count": 2,
     "metadata": {},
     "output_type": "execute_result"
    }
   ],
   "source": [
    "df = pd.read_csv('/kaggle/input/data/Data_Entry_2017.csv')\n",
    "df = df.drop(columns='Unnamed: 11')\n",
    "print(f'Shape of DataFrame: {df.shape}')\n",
    "df.head()"
   ]
  },
  {
   "cell_type": "code",
   "execution_count": 3,
   "id": "eb83c60e",
   "metadata": {
    "execution": {
     "iopub.execute_input": "2024-08-05T04:35:22.947998Z",
     "iopub.status.busy": "2024-08-05T04:35:22.947071Z",
     "iopub.status.idle": "2024-08-05T04:35:29.426059Z",
     "shell.execute_reply": "2024-08-05T04:35:29.425026Z"
    },
    "papermill": {
     "duration": 6.488709,
     "end_time": "2024-08-05T04:35:29.428796",
     "exception": false,
     "start_time": "2024-08-05T04:35:22.940087",
     "status": "completed"
    },
    "tags": []
   },
   "outputs": [],
   "source": [
    "## Make Image Path \n",
    "\n",
    "tmp = {os.path.basename(x): x for x in glob(os.path.join('/kaggle/input', '*','*','images', '*.png'))}    \n",
    "    \n",
    "df['path'] = df['Image Index'].map(tmp)"
   ]
  },
  {
   "cell_type": "code",
   "execution_count": 4,
   "id": "69fc4908",
   "metadata": {
    "execution": {
     "iopub.execute_input": "2024-08-05T04:35:29.442114Z",
     "iopub.status.busy": "2024-08-05T04:35:29.441757Z",
     "iopub.status.idle": "2024-08-05T04:35:29.522329Z",
     "shell.execute_reply": "2024-08-05T04:35:29.521400Z"
    },
    "papermill": {
     "duration": 0.09139,
     "end_time": "2024-08-05T04:35:29.526108",
     "exception": false,
     "start_time": "2024-08-05T04:35:29.434718",
     "status": "completed"
    },
    "tags": []
   },
   "outputs": [],
   "source": [
    "## There are Multi Class in datasets \n",
    "## But I decide to use only Distinct Diseases, So I don't use include '|'\n",
    "\n",
    "df = df[~df['Finding Labels'].str.contains('\\|')]"
   ]
  },
  {
   "cell_type": "code",
   "execution_count": 5,
   "id": "19bc90b4",
   "metadata": {
    "execution": {
     "iopub.execute_input": "2024-08-05T04:35:29.539671Z",
     "iopub.status.busy": "2024-08-05T04:35:29.539300Z",
     "iopub.status.idle": "2024-08-05T04:35:29.960741Z",
     "shell.execute_reply": "2024-08-05T04:35:29.959793Z"
    },
    "papermill": {
     "duration": 0.431204,
     "end_time": "2024-08-05T04:35:29.963504",
     "exception": false,
     "start_time": "2024-08-05T04:35:29.532300",
     "status": "completed"
    },
    "tags": []
   },
   "outputs": [],
   "source": [
    "df_pneumonia = pd.DataFrame()\n",
    "df_pneumonia['Image Index'] = os.listdir('/kaggle/input/chest-xray-pneumonia/chest_xray/train/PNEUMONIA/')\n",
    "df_pneumonia['Finding Labels'] = 'Pneumonia'\n",
    "\n",
    "tmp = {os.path.basename(x): x for x in glob(os.path.join('/kaggle/input', '*','*','train','*','*.jpeg'))}        \n",
    "df_pneumonia['path'] = df_pneumonia['Image Index'].map(tmp)\n",
    "\n",
    "df = pd.concat([df, df_pneumonia])\n",
    "df = df.reset_index(drop=True)"
   ]
  },
  {
   "cell_type": "code",
   "execution_count": 6,
   "id": "321db9d0",
   "metadata": {
    "execution": {
     "iopub.execute_input": "2024-08-05T04:35:29.977022Z",
     "iopub.status.busy": "2024-08-05T04:35:29.976614Z",
     "iopub.status.idle": "2024-08-05T04:35:33.160052Z",
     "shell.execute_reply": "2024-08-05T04:35:33.159027Z"
    },
    "papermill": {
     "duration": 3.19365,
     "end_time": "2024-08-05T04:35:33.162961",
     "exception": false,
     "start_time": "2024-08-05T04:35:29.969311",
     "status": "completed"
    },
    "tags": []
   },
   "outputs": [],
   "source": [
    "df_tuberculosis = pd.DataFrame()\n",
    "df_tuberculosis['Image Index'] = os.listdir('/kaggle/input/tuberculosis-tb-chest-xray-dataset/TB_Chest_Radiography_Database/Tuberculosis/')\n",
    "df_tuberculosis['Finding Labels'] = 'Tuberculosis'\n",
    "\n",
    "tmp = {os.path.basename(x): x for x in glob(os.path.join('/kaggle/input', '*','*','*','*.png'))}        \n",
    "df_tuberculosis['path'] = df_tuberculosis['Image Index'].map(tmp)\n",
    "\n",
    "df = pd.concat([df, df_tuberculosis])\n",
    "df = df.reset_index(drop=True)"
   ]
  },
  {
   "cell_type": "code",
   "execution_count": 7,
   "id": "09021663",
   "metadata": {
    "execution": {
     "iopub.execute_input": "2024-08-05T04:35:33.176121Z",
     "iopub.status.busy": "2024-08-05T04:35:33.175748Z",
     "iopub.status.idle": "2024-08-05T04:35:33.476667Z",
     "shell.execute_reply": "2024-08-05T04:35:33.475543Z"
    },
    "papermill": {
     "duration": 0.310565,
     "end_time": "2024-08-05T04:35:33.479428",
     "exception": false,
     "start_time": "2024-08-05T04:35:33.168863",
     "status": "completed"
    },
    "tags": []
   },
   "outputs": [],
   "source": [
    "train_covid = pd.DataFrame()\n",
    "train_covid['Image Index'] = os.listdir('/kaggle/input/chest-xray-pneumoniacovid19tuberculosis/train/COVID19/')\n",
    "test_covid = pd.DataFrame()\n",
    "test_covid['Image Index'] = os.listdir('/kaggle/input/chest-xray-pneumoniacovid19tuberculosis/test/COVID19/')\n",
    "df_covid = pd.concat([train_covid, test_covid])\n",
    "df_covid['Finding Labels'] = 'Covid'\n",
    "\n",
    "tmp = {os.path.basename(x): x for x in glob(os.path.join('/kaggle', 'input', '*','*','*','*.jpg'))}        \n",
    "df_covid['path'] = df_covid['Image Index'].map(tmp)\n",
    "\n",
    "df = pd.concat([df, df_covid])\n",
    "df = df.reset_index(drop=True)\n",
    "df['Label'] = df['Finding Labels'].copy()\n",
    "df = df[['Image Index','Finding Labels', 'path', 'Label']]"
   ]
  },
  {
   "cell_type": "code",
   "execution_count": 8,
   "id": "5d7a3906",
   "metadata": {
    "execution": {
     "iopub.execute_input": "2024-08-05T04:35:33.492973Z",
     "iopub.status.busy": "2024-08-05T04:35:33.492537Z",
     "iopub.status.idle": "2024-08-05T04:35:33.497100Z",
     "shell.execute_reply": "2024-08-05T04:35:33.496081Z"
    },
    "papermill": {
     "duration": 0.014105,
     "end_time": "2024-08-05T04:35:33.499560",
     "exception": false,
     "start_time": "2024-08-05T04:35:33.485455",
     "status": "completed"
    },
    "tags": []
   },
   "outputs": [],
   "source": [
    "## In this time, I did use StratifiedKFold\n",
    "## But, We can use GroupKFold with making new columns 'patient id'"
   ]
  },
  {
   "cell_type": "code",
   "execution_count": 9,
   "id": "909b6d71",
   "metadata": {
    "execution": {
     "iopub.execute_input": "2024-08-05T04:35:33.512813Z",
     "iopub.status.busy": "2024-08-05T04:35:33.512428Z",
     "iopub.status.idle": "2024-08-05T04:35:33.722494Z",
     "shell.execute_reply": "2024-08-05T04:35:33.721252Z"
    },
    "papermill": {
     "duration": 0.219611,
     "end_time": "2024-08-05T04:35:33.725029",
     "exception": false,
     "start_time": "2024-08-05T04:35:33.505418",
     "status": "completed"
    },
    "tags": []
   },
   "outputs": [],
   "source": [
    "## For avoding Class Imbalance, For Speeding up\n",
    "## I just select 500images for each label \n",
    "\n",
    "df_1 = pd.concat([df[df['Label'] == 'Edema'].sample(500, random_state=42)])\n",
    "df_2 = pd.concat([df[df['Label'] == 'No Finding'].sample(500, random_state=42)])\n",
    "df_3 = pd.concat([df[df['Label'] == 'Pneumonia'].sample(500, random_state=42)])\n",
    "df_4 = pd.concat([df[df['Label'] == 'Tuberculosis'].sample(500, random_state=42)])\n",
    "df_5 = pd.concat([df[df['Label'] == 'Cardiomegaly'].sample(500, random_state=42)])\n",
    "df_6 = pd.concat([df[df['Label'] == 'Emphysema'].sample(500, random_state=42)])\n",
    "df_7 = pd.concat([df[df['Label'] == 'Covid'].sample(500, random_state=42)])\n",
    "df_8 = pd.concat([df[df['Label'] == 'Effusion'].sample(500, random_state=42)])\n",
    "df_9 = pd.concat([df[df['Label'] == 'Atelectasis'].sample(500, random_state=42)])\n",
    "\n",
    "\n",
    "df = pd.concat([df_1,df_2,df_3,df_4,df_5,df_6,df_7,df_8,df_9])\n",
    "df = df.reset_index(drop=True)"
   ]
  },
  {
   "cell_type": "code",
   "execution_count": 10,
   "id": "67999c3d",
   "metadata": {
    "execution": {
     "iopub.execute_input": "2024-08-05T04:35:33.738416Z",
     "iopub.status.busy": "2024-08-05T04:35:33.737636Z",
     "iopub.status.idle": "2024-08-05T04:35:34.210595Z",
     "shell.execute_reply": "2024-08-05T04:35:34.209561Z"
    },
    "papermill": {
     "duration": 0.482509,
     "end_time": "2024-08-05T04:35:34.213340",
     "exception": false,
     "start_time": "2024-08-05T04:35:33.730831",
     "status": "completed"
    },
    "tags": []
   },
   "outputs": [
    {
     "data": {
      "image/png": "[encoded data removed]",
      "text/plain": [
       "<Figure size 1200x600 with 2 Axes>"
      ]
     },
     "metadata": {},
     "output_type": "display_data"
    }
   ],
   "source": [
    "label_counts = df['Finding Labels'].value_counts()\n",
    "\n",
    "plt.style.use('Solarize_Light2')\n",
    "\n",
    "plt.figure(figsize=(12,6))\n",
    "plt.subplot(1,2,1)\n",
    "plt.pie(df['Finding Labels'].value_counts(), labels=label_counts.index, autopct='%.1f%%')\n",
    "# plt.legend()\n",
    "plt.subplot(1,2,2)\n",
    "sns.countplot(x=df['Finding Labels'], order= label_counts.index)\n",
    "plt.xticks(rotation=90)\n",
    "\n",
    "plt.tight_layout()\n",
    "plt.show()"
   ]
  },
  {
   "cell_type": "code",
   "execution_count": 11,
   "id": "9176813b",
   "metadata": {
    "execution": {
     "iopub.execute_input": "2024-08-05T04:35:34.229018Z",
     "iopub.status.busy": "2024-08-05T04:35:34.228092Z",
     "iopub.status.idle": "2024-08-05T04:35:34.237036Z",
     "shell.execute_reply": "2024-08-05T04:35:34.236002Z"
    },
    "papermill": {
     "duration": 0.019393,
     "end_time": "2024-08-05T04:35:34.239513",
     "exception": false,
     "start_time": "2024-08-05T04:35:34.220120",
     "status": "completed"
    },
    "tags": []
   },
   "outputs": [],
   "source": [
    "df_train, df_test = train_test_split(df, test_size=0.2, shuffle=True, random_state=42)\n",
    "df_train = df_train.reset_index(drop=True)\n",
    "df_test = df_test.reset_index(drop=True)"
   ]
  },
  {
   "cell_type": "code",
   "execution_count": 12,
   "id": "ae1fc48a",
   "metadata": {
    "execution": {
     "iopub.execute_input": "2024-08-05T04:35:34.254805Z",
     "iopub.status.busy": "2024-08-05T04:35:34.254386Z",
     "iopub.status.idle": "2024-08-05T04:35:34.295075Z",
     "shell.execute_reply": "2024-08-05T04:35:34.293963Z"
    },
    "papermill": {
     "duration": 0.051673,
     "end_time": "2024-08-05T04:35:34.298015",
     "exception": false,
     "start_time": "2024-08-05T04:35:34.246342",
     "status": "completed"
    },
    "tags": []
   },
   "outputs": [],
   "source": [
    "for col in df['Finding Labels'].unique():\n",
    "    df_test[col] = np.where(df_test['Finding Labels'].str.contains(col), 0.9,0.1/8).astype('float32')\n",
    "    df_train[col] = np.where(df_train['Finding Labels'].str.contains(col), 0.9,0.1/8).astype('float32')\n",
    "TARGET = df_train.columns[-9:].tolist()"
   ]
  },
  {
   "cell_type": "code",
   "execution_count": 13,
   "id": "f0c74c76",
   "metadata": {
    "execution": {
     "iopub.execute_input": "2024-08-05T04:35:34.313612Z",
     "iopub.status.busy": "2024-08-05T04:35:34.313191Z",
     "iopub.status.idle": "2024-08-05T04:35:34.320076Z",
     "shell.execute_reply": "2024-08-05T04:35:34.319029Z"
    },
    "papermill": {
     "duration": 0.017565,
     "end_time": "2024-08-05T04:35:34.322552",
     "exception": false,
     "start_time": "2024-08-05T04:35:34.304987",
     "status": "completed"
    },
    "tags": []
   },
   "outputs": [
    {
     "data": {
      "text/plain": [
       "['Edema',\n",
       " 'No Finding',\n",
       " 'Pneumonia',\n",
       " 'Tuberculosis',\n",
       " 'Cardiomegaly',\n",
       " 'Emphysema',\n",
       " 'Covid',\n",
       " 'Effusion',\n",
       " 'Atelectasis']"
      ]
     },
     "execution_count": 13,
     "metadata": {},
     "output_type": "execute_result"
    }
   ],
   "source": [
    "TARGET"
   ]
  }
 ],
 "metadata": {
  "kaggle": {
   "accelerator": "none",
   "dataSources": [
    {
     "datasetId": 5839,
     "sourceId": 18613,
     "sourceType": "datasetVersion"
    },
    {
     "datasetId": 891819,
     "sourceId": 2332307,
     "sourceType": "datasetVersion"
    },
    {
     "datasetId": 17810,
     "sourceId": 23812,
     "sourceType": "datasetVersion"
    },
    {
     "datasetId": 1592399,
     "sourceId": 2619910,
     "sourceType": "datasetVersion"
    }
   ],
   "dockerImageVersionId": 30746,
   "isGpuEnabled": false,
   "isInternetEnabled": true,
   "language": "python",
   "sourceType": "notebook"
  },
  "kernelspec": {
   "display_name": "Python 3",
   "language": "python",
   "name": "python3"
  },
  "language_info": {
   "codemirror_mode": {
    "name": "ipython",
    "version": 3
   },
   "file_extension": ".py",
   "mimetype": "text/x-python",
   "name": "python",
   "nbconvert_exporter": "python",
   "pygments_lexer": "ipython3",
   "version": "3.10.13"
  },
  "papermill": {
   "default_parameters": {},
   "duration": 17.999557,
   "end_time": "2024-08-05T04:35:34.950624",
   "environment_variables": {},
   "exception": null,
   "input_path": "__notebook__.ipynb",
   "output_path": "__notebook__.ipynb",
   "parameters": {},
   "start_time": "2024-08-05T04:35:16.951067",
   "version": "2.5.0"
  }
 },
 "nbformat": 4,
 "nbformat_minor": 5
}
