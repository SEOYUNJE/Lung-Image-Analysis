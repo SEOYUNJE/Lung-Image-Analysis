{
  "cells": [
    {
      "cell_type": "code",
      "execution_count": 1,
      "metadata": {},
      "outputs": [],
      "source": [
        "#importing some useful packages\n",
        "import matplotlib.pyplot as plt\n",
        "import matplotlib.gridspec as gridspec\n",
        "import cv2\n",
        "import cv2\n",
        "import matplotlib.pyplot as plt\n",
        "import albumentations as A\n",
        "import numpy as np\n",
        "import matplotlib.image as mpimg"
      ]
    },
    {
      "cell_type": "code",
      "execution_count": 2,
      "metadata": {},
      "outputs": [],
      "source": [
        "# 여러 이미지 파일 경로를 포함한 리스트\n",
        "image_paths = [\n",
        "r\"C:\\Users\\Sese\\machinelearning\\Lung_Image_AI\\data\\rapid-cxr-dataset\\lung_diseases\\Emphysema\\00001248_021.png\",\n",
        "r\"C:\\Users\\Sese\\machinelearning\\Lung_Image_AI\\PREPROCESSING\\sample\\00001754_000.png\",\n",
        "r\"C:\\Users\\Sese\\machinelearning\\Lung_Image_AI\\PREPROCESSING\\sample\\00028774_025.png\",\n",
        "r\"C:\\Users\\Sese\\machinelearning\\Lung_Image_AI\\PREPROCESSING\\sample\\CHNCXR_0001_0.png\",\n",
        "r\"C:\\Users\\Sese\\machinelearning\\Lung_Image_AI\\PREPROCESSING\\sample\\CHNCXR_0171_0.png\",\n",
        "\n",
        "r\"C:\\Users\\Sese\\machinelearning\\Lung_Image_AI\\data\\rapid-cxr-dataset\\lung_diseases\\Tuberculosis\\Tuberculosis-12.png\",\n",
        "r\"C:\\Users\\Sese\\machinelearning\\Lung_Image_AI\\data\\rapid-cxr-dataset\\lung_diseases\\Tuberculosis\\Tuberculosis-13.png\",\n",
        "r\"C:\\Users\\Sese\\machinelearning\\Lung_Image_AI\\data\\rapid-cxr-dataset\\lung_diseases\\Tuberculosis\\Tuberculosis-14.png\",\n",
        "r\"C:\\Users\\Sese\\machinelearning\\Lung_Image_AI\\data\\rapid-cxr-dataset\\lung_diseases\\Tuberculosis\\Tuberculosis-15.png\",\n",
        "r\"C:\\Users\\Sese\\machinelearning\\Lung_Image_AI\\data\\rapid-cxr-dataset\\lung_diseases\\Tuberculosis\\Tuberculosis-16.png\",\n",
        "r\"C:\\Users\\Sese\\machinelearning\\Lung_Image_AI\\data\\rapid-cxr-dataset\\lung_diseases\\Tuberculosis\\Tuberculosis-18.png\",\n",
        "r\"C:\\Users\\Sese\\machinelearning\\Lung_Image_AI\\data\\rapid-cxr-dataset\\lung_diseases\\Tuberculosis\\Tuberculosis-19.png\",\n",
        "r\"C:\\Users\\Sese\\machinelearning\\Lung_Image_AI\\data\\rapid-cxr-dataset\\lung_diseases\\Tuberculosis\\Tuberculosis-20.png\",\n",
        "r\"C:\\Users\\Sese\\machinelearning\\Lung_Image_AI\\data\\rapid-cxr-dataset\\lung_diseases\\Tuberculosis\\Tuberculosis-21.png\",\n",
        "r\"C:\\Users\\Sese\\machinelearning\\Lung_Image_AI\\data\\rapid-cxr-dataset\\lung_diseases\\Tuberculosis\\Tuberculosis-22.png\",\n",
        "r\"C:\\Users\\Sese\\machinelearning\\Lung_Image_AI\\data\\rapid-cxr-dataset\\lung_diseases\\Tuberculosis\\Tuberculosis-23.png\",\n",
        "r\"C:\\Users\\Sese\\machinelearning\\Lung_Image_AI\\data\\rapid-cxr-dataset\\lung_diseases\\Tuberculosis\\Tuberculosis-24.png\",\n",
        "r\"C:\\Users\\Sese\\machinelearning\\Lung_Image_AI\\data\\rapid-cxr-dataset\\lung_diseases\\Tuberculosis\\Tuberculosis-25.png\",\n",
        "r\"C:\\Users\\Sese\\machinelearning\\Lung_Image_AI\\data\\rapid-cxr-dataset\\lung_diseases\\Tuberculosis\\Tuberculosis-26.png\",\n",
        "r\"C:\\Users\\Sese\\machinelearning\\Lung_Image_AI\\data\\rapid-cxr-dataset\\lung_diseases\\Tuberculosis\\Tuberculosis-27.png\",\n",
        "\n",
        "r\"C:\\Users\\Sese\\machinelearning\\Lung_Image_AI\\data\\rapid-cxr-dataset\\lung_diseases\\Pneumonia\\00000583_045.png\",\n",
        "r\"C:\\Users\\Sese\\machinelearning\\Lung_Image_AI\\data\\rapid-cxr-dataset\\lung_diseases\\Pneumonia\\00001247_011.png\",\n",
        "r\"C:\\Users\\Sese\\machinelearning\\Lung_Image_AI\\data\\rapid-cxr-dataset\\lung_diseases\\Pneumonia\\00001529_002.png\",\n",
        "r\"C:\\Users\\Sese\\machinelearning\\Lung_Image_AI\\data\\rapid-cxr-dataset\\lung_diseases\\Pneumonia\\00001749_003.png\",\n",
        "r\"C:\\Users\\Sese\\machinelearning\\Lung_Image_AI\\data\\rapid-cxr-dataset\\lung_diseases\\Pneumonia\\00002288_004.png\",\n",
        "r\"C:\\Users\\Sese\\machinelearning\\Lung_Image_AI\\data\\rapid-cxr-dataset\\lung_diseases\\Pneumonia\\00002360_002.png\",\n",
        "r\"C:\\Users\\Sese\\machinelearning\\Lung_Image_AI\\data\\rapid-cxr-dataset\\lung_diseases\\Pneumonia\\00003510_010.png\",\n",
        "r\"C:\\Users\\Sese\\machinelearning\\Lung_Image_AI\\data\\rapid-cxr-dataset\\lung_diseases\\Pneumonia\\00003528_043.png\",\n",
        "r\"C:\\Users\\Sese\\machinelearning\\Lung_Image_AI\\data\\rapid-cxr-dataset\\lung_diseases\\Pneumonia\\00004893_027.png\",\n",
        "r\"C:\\Users\\Sese\\machinelearning\\Lung_Image_AI\\data\\rapid-cxr-dataset\\lung_diseases\\Pneumonia\\00006759_001.png\",\n",
        "r\"C:\\Users\\Sese\\machinelearning\\Lung_Image_AI\\data\\rapid-cxr-dataset\\lung_diseases\\Pneumonia\\00006832_001.png\",\n",
        "r\"C:\\Users\\Sese\\machinelearning\\Lung_Image_AI\\data\\rapid-cxr-dataset\\lung_diseases\\Pneumonia\\00008727_009.png\",\n",
        "r\"C:\\Users\\Sese\\machinelearning\\Lung_Image_AI\\data\\rapid-cxr-dataset\\lung_diseases\\Pneumonia\\00009863_059.png\",\n",
        "r\"C:\\Users\\Sese\\machinelearning\\Lung_Image_AI\\data\\rapid-cxr-dataset\\lung_diseases\\Pneumonia\\00010334_010.png\",\n",
        "r\"C:\\Users\\Sese\\machinelearning\\Lung_Image_AI\\data\\rapid-cxr-dataset\\lung_diseases\\Pneumonia\\00010375_000.png\",\n",
        "\n",
        "r\"C:\\Users\\Sese\\machinelearning\\Lung_Image_AI\\data\\rapid-cxr-dataset\\lung_diseases\\Atelectasis\\00000030_001.png\",\n",
        "r\"C:\\Users\\Sese\\machinelearning\\Lung_Image_AI\\data\\rapid-cxr-dataset\\lung_diseases\\Atelectasis\\00000091_008.png\",\n",
        "r\"C:\\Users\\Sese\\machinelearning\\Lung_Image_AI\\data\\rapid-cxr-dataset\\lung_diseases\\Atelectasis\\00000143_009.png\",\n",
        "r\"C:\\Users\\Sese\\machinelearning\\Lung_Image_AI\\data\\rapid-cxr-dataset\\lung_diseases\\Atelectasis\\00000149_002.png\",\n",
        "r\"C:\\Users\\Sese\\machinelearning\\Lung_Image_AI\\data\\rapid-cxr-dataset\\lung_diseases\\Atelectasis\\00000175_002.png\",\n",
        "r\"C:\\Users\\Sese\\machinelearning\\Lung_Image_AI\\data\\rapid-cxr-dataset\\lung_diseases\\Atelectasis\\00000248_009.png\",\n",
        "r\"C:\\Users\\Sese\\machinelearning\\Lung_Image_AI\\data\\rapid-cxr-dataset\\lung_diseases\\Atelectasis\\00000248_010.png\",\n",
        "r\"C:\\Users\\Sese\\machinelearning\\Lung_Image_AI\\data\\rapid-cxr-dataset\\lung_diseases\\Atelectasis\\00000307_000.png\",\n",
        "r\"C:\\Users\\Sese\\machinelearning\\Lung_Image_AI\\data\\rapid-cxr-dataset\\lung_diseases\\Atelectasis\\00000314_000.png\",\n",
        "r\"C:\\Users\\Sese\\machinelearning\\Lung_Image_AI\\data\\rapid-cxr-dataset\\lung_diseases\\Atelectasis\\00000348_007.png\",\n",
        "r\"C:\\Users\\Sese\\machinelearning\\Lung_Image_AI\\data\\rapid-cxr-dataset\\lung_diseases\\Atelectasis\\00000368_002.png\",\n",
        "r\"C:\\Users\\Sese\\machinelearning\\Lung_Image_AI\\data\\rapid-cxr-dataset\\lung_diseases\\Atelectasis\\00000381_003.png\",\n",
        "r\"C:\\Users\\Sese\\machinelearning\\Lung_Image_AI\\data\\rapid-cxr-dataset\\lung_diseases\\Atelectasis\\00000468_033.png\",\n",
        "r\"C:\\Users\\Sese\\machinelearning\\Lung_Image_AI\\data\\rapid-cxr-dataset\\lung_diseases\\Atelectasis\\00000583_033.png\",\n",
        "r\"C:\\Users\\Sese\\machinelearning\\Lung_Image_AI\\data\\rapid-cxr-dataset\\lung_diseases\\Atelectasis\\00000583_035.png\"\n",
        "\n",
        "]"
      ]
    },
    {
      "cell_type": "code",
      "execution_count": 15,
      "metadata": {},
      "outputs": [
        {
          "data": {
            "application/vnd.jupyter.widget-view+json": {
              "model_id": "18a7fa71a2b4459ebf3bb39fc5718d8a",
              "version_major": 2,
              "version_minor": 0
            },
            "text/plain": [
              "VBox(children=(Canvas(height=400, width=400), HBox(children=(ToggleButton(value=False, description='Eraser Mod…"
            ]
          },
          "metadata": {},
          "output_type": "display_data"
        }
      ],
      "source": [
        "import ipywidgets as widgets\n",
        "from ipycanvas import Canvas, hold_canvas\n",
        "from IPython.display import display\n",
        "from PIL import Image\n",
        "import numpy as np\n",
        "import cv2\n",
        "\n",
        "def create_interactive_mask(image_path):\n",
        "    # 이미지 로드 및 크기 조정\n",
        "    img = Image.open(image_path)\n",
        "    max_size = (400, 400)\n",
        "    img.thumbnail(max_size)\n",
        "    img_array = np.array(img)\n",
        "    \n",
        "    # 캔버스 크기 설정 (이미지 크기에 맞춤)\n",
        "    canvas_size = img.size\n",
        "    \n",
        "    # 캔버스 생성\n",
        "    canvas = Canvas(width=canvas_size[0], height=canvas_size[1])\n",
        "    canvas.put_image_data(img_array, 0, 0)\n",
        "    \n",
        "    # 마스크 배열 초기화 (2D, 흑백)\n",
        "    mask_array = np.zeros((canvas_size[1], canvas_size[0]), dtype=np.uint8)\n",
        "    \n",
        "    # 그리기 상태 변수\n",
        "    drawing = False\n",
        "    last_x = last_y = None\n",
        "    is_eraser_mode = False\n",
        "    \n",
        "    def start_drawing(x, y):\n",
        "        nonlocal drawing, last_x, last_y\n",
        "        drawing = True\n",
        "        last_x, last_y = int(x), int(y)\n",
        "    \n",
        "    def stop_drawing(x, y):\n",
        "        nonlocal drawing, last_x, last_y\n",
        "        drawing = False\n",
        "        last_x = last_y = None\n",
        "    \n",
        "    def draw(x, y):\n",
        "        nonlocal last_x, last_y, mask_array\n",
        "        if drawing:\n",
        "            x, y = int(x), int(y)\n",
        "            if last_x is not None and last_y is not None:\n",
        "                # 선 그리기 또는 지우기\n",
        "                color = 0 if is_eraser_mode else 255\n",
        "                cv2.line(mask_array, (last_x, last_y), (x, y), color, 2)\n",
        "                \n",
        "                # 캔버스에 마스크 표시\n",
        "                with hold_canvas(canvas):\n",
        "                    canvas.clear()\n",
        "                    canvas.put_image_data(img_array, 0, 0)\n",
        "                    # 마스크를 반투명한 흰색으로 표시\n",
        "                    color_mask = np.zeros((canvas_size[1], canvas_size[0], 4), dtype=np.uint8)\n",
        "                    color_mask[mask_array > 0] = [255, 255, 255, 128]\n",
        "                    canvas.put_image_data(color_mask, 0, 0)\n",
        "            \n",
        "            last_x, last_y = x, y\n",
        "    \n",
        "    # 이벤트 핸들러 등록\n",
        "    canvas.on_mouse_down(start_drawing)\n",
        "    canvas.on_mouse_up(stop_drawing)\n",
        "    canvas.on_mouse_move(draw)\n",
        "    \n",
        "    # 모드 전환 버튼\n",
        "    mode_button = widgets.ToggleButton(description=\"Eraser Mode\", layout=widgets.Layout(width='auto'))\n",
        "    \n",
        "    def toggle_mode(change):\n",
        "        nonlocal is_eraser_mode\n",
        "        is_eraser_mode = change['new']\n",
        "        if is_eraser_mode:\n",
        "            canvas.cursor = \"crosshair\"\n",
        "        else:\n",
        "            canvas.cursor = \"default\"\n",
        "    \n",
        "    mode_button.observe(toggle_mode, names='value')\n",
        "    \n",
        "    # 저장 버튼\n",
        "    save_button = widgets.Button(description=\"Save\", layout=widgets.Layout(width='auto'))\n",
        "    output = widgets.Output()\n",
        "    \n",
        "    def save_mask(b):\n",
        "        with output:\n",
        "            print(\"Mask saved.\")\n",
        "            print(\"Mask shape:\", mask_array.shape)\n",
        "            print(\"Mask data type:\", mask_array.dtype)\n",
        "            print(\"Mask min value:\", mask_array.min())\n",
        "            print(\"Mask max value:\", mask_array.max())\n",
        "        return mask_array\n",
        "    \n",
        "    save_button.on_click(save_mask)\n",
        "    \n",
        "    # UI 레이아웃 조정\n",
        "    controls = widgets.HBox([mode_button, save_button], \n",
        "                            layout=widgets.Layout(width='auto', justify_content='space-between'))\n",
        "    \n",
        "    # UI 표시\n",
        "    display(widgets.VBox([canvas, controls, output], \n",
        "                         layout=widgets.Layout(width=f'{canvas_size[0]}px', align_items='center')))\n",
        "    \n",
        "    return save_mask\n",
        "\n",
        "# 사용 예:\n",
        "mask_creator = create_interactive_mask(image_paths[0])\n"
      ]
    },
    {
      "cell_type": "code",
      "execution_count": 16,
      "metadata": {},
      "outputs": [],
      "source": [
        "mask1 = mask_creator(None)"
      ]
    },
    {
      "cell_type": "code",
      "execution_count": 17,
      "metadata": {},
      "outputs": [
        {
          "name": "stdout",
          "output_type": "stream",
          "text": [
            "(400, 400)\n"
          ]
        },
        {
          "data": {
            "text/plain": [
              "<matplotlib.image.AxesImage at 0x26d8f334320>"
            ]
          },
          "execution_count": 17,
          "metadata": {},
          "output_type": "execute_result"
        },
        {
          "data": {
            "image/png": "[encoded data removed]",
            "text/plain": [
              "<Figure size 640x480 with 1 Axes>"
            ]
          },
          "metadata": {},
          "output_type": "display_data"
        }
      ],
      "source": [
        "print(mask1.shape)\n",
        "plt.imshow(mask1)"
      ]
    }
  ],
  "metadata": {
    "accelerator": "GPU",
    "colab": {
      "gpuType": "T4",
      "machine_shape": "hm",
      "provenance": []
    },
    "kaggle": {
      "accelerator": "nvidiaTeslaT4",
      "dataSources": [
        {
          "datasetId": 5839,
          "sourceId": 18613,
          "sourceType": "datasetVersion"
        },
        {
          "datasetId": 17810,
          "sourceId": 23812,
          "sourceType": "datasetVersion"
        },
        {
          "datasetId": 891819,
          "sourceId": 2332307,
          "sourceType": "datasetVersion"
        },
        {
          "datasetId": 1592399,
          "sourceId": 2619910,
          "sourceType": "datasetVersion"
        },
        {
          "datasetId": 5418947,
          "isSourceIdPinned": true,
          "sourceId": 9122641,
          "sourceType": "datasetVersion"
        }
      ],
      "dockerImageVersionId": 30747,
      "isGpuEnabled": true,
      "isInternetEnabled": true,
      "language": "python",
      "sourceType": "notebook"
    },
    "kernelspec": {
      "display_name": "Python 3",
      "name": "python3"
    },
    "language_info": {
      "codemirror_mode": {
        "name": "ipython",
        "version": 3
      },
      "file_extension": ".py",
      "mimetype": "text/x-python",
      "name": "python",
      "nbconvert_exporter": "python",
      "pygments_lexer": "ipython3",
      "version": "3.12.3"
    },
    "papermill": {
      "default_parameters": {},
      "duration": 1136.940299,
      "end_time": "2024-08-15T12:06:57.760361",
      "environment_variables": {},
      "exception": null,
      "input_path": "__notebook__.ipynb",
      "output_path": "__notebook__.ipynb",
      "parameters": {},
      "start_time": "2024-08-15T11:48:00.820062",
      "version": "2.5.0"
    }
  },
  "nbformat": 4,
  "nbformat_minor": 0
}
