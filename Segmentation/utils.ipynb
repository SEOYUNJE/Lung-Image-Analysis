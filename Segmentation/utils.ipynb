{
  "nbformat": 4,
  "nbformat_minor": 0,
  "metadata": {
    "colab": {
      "provenance": [],
      "authorship_tag": "ABX9TyNdbDTiG4RNDD85EwIIYPfu",
      "include_colab_link": true
    },
    "kernelspec": {
      "name": "python3",
      "display_name": "Python 3"
    },
    "language_info": {
      "name": "python"
    }
  },
  "cells": [
    {
      "cell_type": "markdown",
      "metadata": {
        "id": "view-in-github",
        "colab_type": "text"
      },
      "source": [
        "<a href=\"https://colab.research.google.com/github/SEOYUNJE/Lung-Image-Analysis/blob/main/Segmentation/utils.ipynb\" target=\"_parent\"><img src=\"https://colab.research.google.com/assets/colab-badge.svg\" alt=\"Open In Colab\"/></a>"
      ]
    },
    {
      "cell_type": "code",
      "execution_count": null,
      "metadata": {
        "id": "n8WKRo9x7rIF"
      },
      "outputs": [],
      "source": [
        "import torch\n",
        "from torch.utils.data import Dataset, DataLoader\n",
        "\n",
        "\n",
        "class MaskGenerator(Dataset):\n",
        "    def __init__(self, data, preprocess=None):\n",
        "        self.data = data\n",
        "        self.preprocess = preprocess\n",
        "        self.clahe = cv2.createCLAHE(clipLimit=2.0, tileGridSize=(8,8))\n",
        "\n",
        "    def __len__(self):\n",
        "        return len(self.data)\n",
        "\n",
        "    def __getitem__(self, index):\n",
        "        path = self.data.iloc[index]['path']\n",
        "        img = Image.open(path).convert('L')\n",
        "        img = img.resize((256,256), Image.Resampling.LANCZOS)\n",
        "        img = np.array(img)\n",
        "        img = self.clahe.apply(img)\n",
        "        img = np.expand_dims(img, axis=-1)\n",
        "        img = cv2.cvtColor(img, cv2.COLOR_GRAY2RGB)  # Convert grayscale to RGB\n",
        "\n",
        "        img = torch.from_numpy(img).permute(2,0,1).to('torch.float32')\n",
        "\n",
        "        return img\n",
        ""
      ]
    },
    {
      "cell_type": "code",
      "source": [
        "dataset = MaskGenerator(df_train)\n",
        "dataloader = DataLoader(dataset, batch_size=16, shuffle=False, num_workers=2, drop_last=False, )"
      ],
      "metadata": {
        "id": "1C-px0Na8m1J"
      },
      "execution_count": null,
      "outputs": []
    },
    {
      "cell_type": "code",
      "source": [
        "device = torch.device(\"cuda\" if torch.cuda.is_available() else \"cpu\")\n",
        "print('device is ',device)"
      ],
      "metadata": {
        "id": "YcwIUM3M8xd0"
      },
      "execution_count": null,
      "outputs": []
    },
    {
      "cell_type": "code",
      "source": [
        "%%time\n",
        "seg_model = loadModel(device)\n",
        "\n",
        "# seg_model.to(device).eval()\n",
        "# 이미 loadModel에 eval, device 다 있음\n",
        "\n",
        "all_mask = []\n",
        "with torch.no_grad(): # 추론 모드\n",
        "    for batch in tqdm(dataloader):\n",
        "\n",
        "        batch = batch.to(device) # cpu -> gpu로 이동\n",
        "        oof = seg_model(batch).cpu().numpy() # torch -> numpy\n",
        "\n",
        "        all_mask.append(oof)\n",
        "\n",
        "del seg_model\n",
        "gc.collect()\n",
        "\n",
        "all_mask = np.concatenate(all_mask)"
      ],
      "metadata": {
        "id": "008HbQV38z5h"
      },
      "execution_count": null,
      "outputs": []
    }
  ]
}