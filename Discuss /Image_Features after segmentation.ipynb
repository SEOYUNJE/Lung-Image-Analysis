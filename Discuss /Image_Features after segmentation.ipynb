{
 "cells": [
  {
   "cell_type": "code",
   "execution_count": 1,
   "id": "7c426010",
   "metadata": {
    "execution": {
     "iopub.execute_input": "2024-08-27T01:30:58.160420Z",
     "iopub.status.busy": "2024-08-27T01:30:58.160068Z",
     "iopub.status.idle": "2024-08-27T01:31:16.326558Z",
     "shell.execute_reply": "2024-08-27T01:31:16.325635Z"
    },
    "papermill": {
     "duration": 18.178466,
     "end_time": "2024-08-27T01:31:16.328761",
     "exception": false,
     "start_time": "2024-08-27T01:30:58.150295",
     "status": "completed"
    },
    "tags": []
   },
   "outputs": [
    {
     "name": "stdout",
     "output_type": "stream",
     "text": [
      "tensorflow version:  2.16.1\n",
      "Using 2 GPUs\n"
     ]
    }
   ],
   "source": [
    "import gc \n",
    "import ctypes\n",
    "import random\n",
    "from tqdm import tqdm\n",
    "from collections import defaultdict\n",
    "\n",
    "import os\n",
    "import sys\n",
    "from tqdm import tqdm\n",
    "\n",
    "## tensorflow version\n",
    "import tensorflow as tf\n",
    "from tensorflow.keras import *\n",
    "\n",
    "os.environ['CUDA_IS_VISIBLE'] = '0,1'\n",
    "print('tensorflow version: ', tf.__version__)\n",
    "\n",
    "import numpy as np, pandas as pd\n",
    "import matplotlib.pyplot as plt\n",
    "import seaborn as sns\n",
    "\n",
    "from glob import glob\n",
    "import cv2\n",
    "from PIL import Image\n",
    "\n",
    "\n",
    "import tensorflow.keras.backend as K, gc\n",
    "\n",
    "\n",
    "import warnings \n",
    "import albumentations as albu\n",
    "warnings.filterwarnings('ignore')\n",
    "\n",
    "gpus = tf.config.list_physical_devices('GPU')\n",
    "if len(gpus) <=1:\n",
    "    strategy = tf.distribute.OneDeviceStrategy(device='/gpu:0')\n",
    "    print(f'Using {len(gpus)} GPUs')\n",
    "else: \n",
    "    strategy = tf.distribute.MirroredStrategy()\n",
    "    print(f'Using {len(gpus)} GPUs')\n",
    "    \n",
    "LOAD_MODELS_FROM = None\n",
    "LOAD_SEGMENTATION_FROM = '/kaggle/input/cxr-unet/'\n"
   ]
  },
  {
   "cell_type": "code",
   "execution_count": 2,
   "id": "4cb5572c",
   "metadata": {
    "execution": {
     "iopub.execute_input": "2024-08-27T01:31:16.346882Z",
     "iopub.status.busy": "2024-08-27T01:31:16.346308Z",
     "iopub.status.idle": "2024-08-27T01:31:18.370411Z",
     "shell.execute_reply": "2024-08-27T01:31:18.369431Z"
    },
    "papermill": {
     "duration": 2.035392,
     "end_time": "2024-08-27T01:31:18.372714",
     "exception": false,
     "start_time": "2024-08-27T01:31:16.337322",
     "status": "completed"
    },
    "tags": []
   },
   "outputs": [],
   "source": [
    "df = pd.read_csv('/kaggle/input/rapid-cxr-dataset/metadata.csv')\n",
    "tmp = {os.path.basename(x): x for x in glob(os.path.join('/kaggle', 'input', '*','*','*', '*'))}    \n",
    "    \n",
    "df['path'] = df['Image Index'].map(tmp)"
   ]
  },
  {
   "cell_type": "code",
   "execution_count": 3,
   "id": "d5844515",
   "metadata": {
    "execution": {
     "iopub.execute_input": "2024-08-27T01:31:18.390642Z",
     "iopub.status.busy": "2024-08-27T01:31:18.390243Z",
     "iopub.status.idle": "2024-08-27T01:31:33.106192Z",
     "shell.execute_reply": "2024-08-27T01:31:33.105162Z"
    },
    "papermill": {
     "duration": 14.727318,
     "end_time": "2024-08-27T01:31:33.108405",
     "exception": false,
     "start_time": "2024-08-27T01:31:18.381087",
     "status": "completed"
    },
    "tags": []
   },
   "outputs": [],
   "source": [
    "!pip install -q -U segmentation_models"
   ]
  },
  {
   "cell_type": "code",
   "execution_count": 4,
   "id": "b80abfc4",
   "metadata": {
    "execution": {
     "iopub.execute_input": "2024-08-27T01:31:33.126717Z",
     "iopub.status.busy": "2024-08-27T01:31:33.126388Z",
     "iopub.status.idle": "2024-08-27T01:31:33.171362Z",
     "shell.execute_reply": "2024-08-27T01:31:33.170505Z"
    },
    "papermill": {
     "duration": 0.056463,
     "end_time": "2024-08-27T01:31:33.173345",
     "exception": false,
     "start_time": "2024-08-27T01:31:33.116882",
     "status": "completed"
    },
    "tags": []
   },
   "outputs": [
    {
     "name": "stdout",
     "output_type": "stream",
     "text": [
      "Segmentation Models: using `tf.keras` framework.\n"
     ]
    }
   ],
   "source": [
    "os.environ[\"SM_FRAMEWORK\"] = 'tf.keras'\n",
    "import segmentation_models"
   ]
  },
  {
   "cell_type": "code",
   "execution_count": 5,
   "id": "76026ffd",
   "metadata": {
    "execution": {
     "iopub.execute_input": "2024-08-27T01:31:33.191721Z",
     "iopub.status.busy": "2024-08-27T01:31:33.190791Z",
     "iopub.status.idle": "2024-08-27T01:31:33.197942Z",
     "shell.execute_reply": "2024-08-27T01:31:33.197078Z"
    },
    "papermill": {
     "duration": 0.018151,
     "end_time": "2024-08-27T01:31:33.199895",
     "exception": false,
     "start_time": "2024-08-27T01:31:33.181744",
     "status": "completed"
    },
    "tags": []
   },
   "outputs": [],
   "source": [
    "from segmentation_models import Unet\n",
    "preprocess = segmentation_models.get_preprocessing('resnet18')\n",
    "\n",
    "def build_unet():\n",
    "    \n",
    "    unet_model = Unet('resnet18', input_shape=(512,512,3), classes=1, activation='sigmoid')\n",
    "    \n",
    "    ## Freezing Layers(10%)\n",
    "    for layer in unet_model.layers[:len(unet_model.layers)//10]:\n",
    "        layer.trainable=False\n",
    "\n",
    "    dice_loss = segmentation_models.losses.DiceLoss()\n",
    "    dice_metric = segmentation_models.metrics.FScore(threshold=0.5)\n",
    "\n",
    "    opt = optimizers.Adam(learning_rate=1e-4)\n",
    "    \n",
    "    unet_model.compile(optimizer=opt, loss=dice_loss, metrics=[dice_metric])\n",
    "    \n",
    "    return unet_model"
   ]
  },
  {
   "cell_type": "code",
   "execution_count": 6,
   "id": "37034c46",
   "metadata": {
    "execution": {
     "iopub.execute_input": "2024-08-27T01:31:33.217930Z",
     "iopub.status.busy": "2024-08-27T01:31:33.217144Z",
     "iopub.status.idle": "2024-08-27T01:31:33.228529Z",
     "shell.execute_reply": "2024-08-27T01:31:33.227858Z"
    },
    "papermill": {
     "duration": 0.022212,
     "end_time": "2024-08-27T01:31:33.230341",
     "exception": false,
     "start_time": "2024-08-27T01:31:33.208129",
     "status": "completed"
    },
    "tags": []
   },
   "outputs": [],
   "source": [
    "import albumentations as albu\n",
    "\n",
    "class MaskGenerator(tf.keras.utils.Sequence):\n",
    "    def __init__(self, data, batch_size=16, shuffle=False, preprocess=None):\n",
    "        self.data = data\n",
    "        self.batch_size = batch_size\n",
    "        self.shuffle = shuffle\n",
    "        self.preprocess = preprocess\n",
    "        self.on_epoch_end()\n",
    "        self.clahe = cv2.createCLAHE(clipLimit=2.0, tileGridSize=(8,8))\n",
    "        \n",
    "    def __len__(self):\n",
    "        # Drop_Last = False\n",
    "        return int(np.ceil(len(self.data) / self.batch_size))\n",
    "    \n",
    "    def on_epoch_end(self):\n",
    "        self.indexes = np.arange(len(self.data))\n",
    "        if self.shuffle: np.random.shuffle(self.indexes)\n",
    "            \n",
    "    def __getitem__(self, index):\n",
    "        indexes = self.indexes[index*self.batch_size:(index+1)*self.batch_size]\n",
    "        X = self.__data_generation(indexes)\n",
    "        return X\n",
    "    \n",
    "    def __data_generation(self, indexes):    \n",
    "        X = np.zeros((len(indexes),512,512,3), dtype='float32')\n",
    "        \n",
    "        for j,i in enumerate(indexes):\n",
    "            ## Image\n",
    "            row = self.data.iloc[i]\n",
    "            path = row['path']\n",
    "            img = Image.open(path).convert('L')\n",
    "            img = img.resize((512,512), Image.Resampling.LANCZOS) # DownSampling\n",
    "            img = np.array(img) # PIL Object -> np.array(uint8)\n",
    "            img = self.clahe.apply(img)\n",
    "            img = np.expand_dims(img, axis=-1)\n",
    "            img = cv2.cvtColor(img, cv2.COLOR_GRAY2RGB) \n",
    "            \n",
    "            X[j,] = img\n",
    "            if self.preprocess != None: X = self.preprocess(X)\n",
    "                \n",
    "                \n",
    "        return X"
   ]
  },
  {
   "cell_type": "code",
   "execution_count": 7,
   "id": "3ac49981",
   "metadata": {
    "execution": {
     "iopub.execute_input": "2024-08-27T01:31:33.247622Z",
     "iopub.status.busy": "2024-08-27T01:31:33.247357Z",
     "iopub.status.idle": "2024-08-27T01:34:49.124132Z",
     "shell.execute_reply": "2024-08-27T01:34:49.123288Z"
    },
    "papermill": {
     "duration": 195.888167,
     "end_time": "2024-08-27T01:34:49.126581",
     "exception": false,
     "start_time": "2024-08-27T01:31:33.238414",
     "status": "completed"
    },
    "tags": []
   },
   "outputs": [
    {
     "name": "stdout",
     "output_type": "stream",
     "text": [
      "Downloading data from https://github.com/qubvel/classification_models/releases/download/0.0.1/resnet18_imagenet_1000_no_top.h5\n",
      "\u001b[1m44920640/44920640\u001b[0m \u001b[32m━━━━━━━━━━━━━━━━━━━━\u001b[0m\u001b[37m\u001b[0m \u001b[1m1s\u001b[0m 0us/step\n",
      "\u001b[1m141/141\u001b[0m \u001b[32m━━━━━━━━━━━━━━━━━━━━\u001b[0m\u001b[37m\u001b[0m \u001b[1m184s\u001b[0m 1s/step\n"
     ]
    }
   ],
   "source": [
    "gen = MaskGenerator(df, batch_size=32, shuffle=False, preprocess=preprocess)\n",
    "\n",
    "K.clear_session()\n",
    "with strategy.scope(): unet = build_unet()\n",
    "    \n",
    "unet.load_weights(f'{LOAD_SEGMENTATION_FROM}UNet_f0.weights.h5')\n",
    "    \n",
    "all_mask = unet.predict(gen, verbose=1)"
   ]
  },
  {
   "cell_type": "code",
   "execution_count": 8,
   "id": "f811fd1c",
   "metadata": {
    "execution": {
     "iopub.execute_input": "2024-08-27T01:34:49.167576Z",
     "iopub.status.busy": "2024-08-27T01:34:49.167231Z",
     "iopub.status.idle": "2024-08-27T01:34:56.493428Z",
     "shell.execute_reply": "2024-08-27T01:34:56.492594Z"
    },
    "papermill": {
     "duration": 7.348933,
     "end_time": "2024-08-27T01:34:56.495676",
     "exception": false,
     "start_time": "2024-08-27T01:34:49.146743",
     "status": "completed"
    },
    "tags": []
   },
   "outputs": [],
   "source": [
    "all_mask = np.where(all_mask >= 0.5, 1, 0)\n",
    "all_mask = (all_mask * 255).astype('uint8').squeeze()\n",
    "\n",
    "#all_mask = cv2.dilate(all_mask, None, iterations=2)\n",
    "#all_mask = cv2.erode(all_mask, None, iterations=1)"
   ]
  },
  {
   "cell_type": "code",
   "execution_count": 9,
   "id": "367134f0",
   "metadata": {
    "execution": {
     "iopub.execute_input": "2024-08-27T01:34:56.536613Z",
     "iopub.status.busy": "2024-08-27T01:34:56.536250Z",
     "iopub.status.idle": "2024-08-27T01:34:56.551160Z",
     "shell.execute_reply": "2024-08-27T01:34:56.550336Z"
    },
    "papermill": {
     "duration": 0.037362,
     "end_time": "2024-08-27T01:34:56.553092",
     "exception": false,
     "start_time": "2024-08-27T01:34:56.515730",
     "status": "completed"
    },
    "tags": []
   },
   "outputs": [],
   "source": [
    "def crop_imgs(path, mask):\n",
    "    \n",
    "    ### First Step: Get the original Image\n",
    "    clahe = cv2.createCLAHE(clipLimit=2.0, tileGridSize=(8,8))\n",
    "    \n",
    "    img = Image.open(path).convert('L')\n",
    "    img = img.resize((512,512), Image.Resampling.LANCZOS) # DownSampling\n",
    "    img = np.array(img) # PIL Object -> np.array(uint8)\n",
    "    img = clahe.apply(img)\n",
    "    img = np.expand_dims(img, axis=-1)\n",
    "    img = cv2.cvtColor(img, cv2.COLOR_GRAY2RGB) \n",
    "    \n",
    "    ### Second Step: Find First, Second Biggest Contours\n",
    "    cnts, _ = cv2.findContours(mask.copy(), cv2.RETR_LIST, cv2.CHAIN_APPROX_SIMPLE)\n",
    "    cnts = sorted(cnts, key=cv2.contourArea, reverse=True)\n",
    "    \n",
    "    ### Thrid Step: Find the Extreme Points\n",
    "    if len(cnts) == 1:\n",
    "        c0 = cnts[0]\n",
    "        combined_contour = c0\n",
    "        img_cnt = cv2.drawContours(img.copy(), [c0], -1, (0,255,255), 5)\n",
    "        \n",
    "        extLeft = tuple(combined_contour[combined_contour[:,:,0].argmin()][0])  # x좌표 최소\n",
    "        extRight = tuple(combined_contour[combined_contour[:,:,0].argmax()][0])  # x좌표 최대\n",
    "        extTop = tuple(combined_contour[combined_contour[:,:,1].argmin()][0])  # y좌표 최소\n",
    "        extBot = tuple(combined_contour[combined_contour[:,:,1].argmax()][0])  # y좌표 최대\n",
    "    \n",
    "        new_img = img[extTop[1]:extBot[1],\n",
    "                 extLeft[0]:extRight[0]].copy()\n",
    "    elif len(cnts) >= 2:\n",
    "        c0 = cnts[0]\n",
    "        c1 = cnts[1]\n",
    "        combined_contour = np.vstack((c0, c1))\n",
    "        img_cnt = cv2.drawContours(img.copy(), [c0], -1, (0,255,255), 5)\n",
    "        img_cnt = cv2.drawContours(img_cnt, [c1], -1, (0,255,255), 5)\n",
    "\n",
    "        extLeft = tuple(combined_contour[combined_contour[:,:,0].argmin()][0])  # x좌표 최소\n",
    "        extRight = tuple(combined_contour[combined_contour[:,:,0].argmax()][0])  # x좌표 최대\n",
    "        extTop = tuple(combined_contour[combined_contour[:,:,1].argmin()][0])  # y좌표 최소\n",
    "        extBot = tuple(combined_contour[combined_contour[:,:,1].argmax()][0])  # y좌표 최대\n",
    "    \n",
    "        new_img = img[extTop[1]:extBot[1],\n",
    "                 extLeft[0]:extRight[0]].copy()\n",
    "    else:\n",
    "        new_img = img\n",
    "\n",
    "\n",
    "    return new_img"
   ]
  },
  {
   "cell_type": "markdown",
   "id": "4b9cced8",
   "metadata": {
    "papermill": {
     "duration": 0.019551,
     "end_time": "2024-08-27T01:34:56.591975",
     "exception": false,
     "start_time": "2024-08-27T01:34:56.572424",
     "status": "completed"
    },
    "tags": []
   },
   "source": [
    "### Feature 1: Dullness"
   ]
  },
  {
   "cell_type": "code",
   "execution_count": 10,
   "id": "f2122561",
   "metadata": {
    "execution": {
     "iopub.execute_input": "2024-08-27T01:34:56.632325Z",
     "iopub.status.busy": "2024-08-27T01:34:56.632003Z",
     "iopub.status.idle": "2024-08-27T01:34:56.639586Z",
     "shell.execute_reply": "2024-08-27T01:34:56.638776Z"
    },
    "papermill": {
     "duration": 0.029632,
     "end_time": "2024-08-27T01:34:56.641413",
     "exception": false,
     "start_time": "2024-08-27T01:34:56.611781",
     "status": "completed"
    },
    "tags": []
   },
   "outputs": [],
   "source": [
    "def color_analysis(img):\n",
    "    \n",
    "    palatte = defaultdict(int)\n",
    "    for pixel in img.getdata():\n",
    "        palatte[pixel] += 1\n",
    "        \n",
    "    sorted_x = sorted(palatte.items(), key=operator.itemgetter(1), reverse=True)\n",
    "    \n",
    "    light_shade, dark_shade, shade_count, pixel_limit = 0, 0, 0, 25\n",
    "    \n",
    "    for i, x in enumerate(sorted_x[:pixel_limit]):\n",
    "        if all(xx <= 20 for xx in x[0][:3]):\n",
    "            dark_shade += x[1]\n",
    "        if all(xx >= 240 for xx in x[0][:3]):\n",
    "            light_shade += x[1]\n",
    "        \n",
    "        shade_count += x[1]\n",
    "        \n",
    "        light_percent = round((float(light_shade)/shade_count)*100,2)\n",
    "        \n",
    "        dark_percent = round((float(dark_shade)/shade_count)*100, 2)\n",
    "    \n",
    "    return light_percent, dark_percent"
   ]
  },
  {
   "cell_type": "code",
   "execution_count": 11,
   "id": "6ada586f",
   "metadata": {
    "execution": {
     "iopub.execute_input": "2024-08-27T01:34:56.681295Z",
     "iopub.status.busy": "2024-08-27T01:34:56.680994Z",
     "iopub.status.idle": "2024-08-27T01:34:56.689296Z",
     "shell.execute_reply": "2024-08-27T01:34:56.688431Z"
    },
    "papermill": {
     "duration": 0.03062,
     "end_time": "2024-08-27T01:34:56.691287",
     "exception": false,
     "start_time": "2024-08-27T01:34:56.660667",
     "status": "completed"
    },
    "tags": []
   },
   "outputs": [],
   "source": [
    "def perform_color_analysis(path, flag):\n",
    "    img = Image.open(path).convert('RGB')\n",
    "    img = np.array(img)\n",
    "    cropped_img = crop_imgs(path, all_mask[df[df['path'] == path].index[0]])\n",
    "    cropped_img = cv2.resize(cropped_img, (512, 512), interpolation=cv2.INTER_LANCZOS4)\n",
    "    img = Image.fromarray(cropped_img)\n",
    "    \n",
    "    size = img.size # Width, Height Channel \n",
    "    halves = (size[0]/2, size[1]/2)\n",
    "    # left, upper, right, lower\n",
    "    img1 = img.crop((0,0, size[0], halves[1]))\n",
    "    img2 = img.crop((0,halves[1],size[0],size[1]))\n",
    "    \n",
    "    try:\n",
    "        light_percent1, dark_percent1 = color_analysis(img1)\n",
    "        light_percent2, dark_percent2 = color_analysis(img2)\n",
    "    except Exception as e:\n",
    "        return None\n",
    "    \n",
    "    light_percent = (light_percent1 + light_percent2) / 2\n",
    "    dark_percent = (dark_percent1 + dark_percent2) / 2\n",
    "    \n",
    "    if flag == 'black':\n",
    "        return dark_percent\n",
    "    elif flag == 'white':\n",
    "        return light_percent\n",
    "    else: \n",
    "        return None"
   ]
  },
  {
   "cell_type": "code",
   "execution_count": 12,
   "id": "5ebb9fde",
   "metadata": {
    "execution": {
     "iopub.execute_input": "2024-08-27T01:34:56.732392Z",
     "iopub.status.busy": "2024-08-27T01:34:56.732078Z",
     "iopub.status.idle": "2024-08-27T01:41:15.373356Z",
     "shell.execute_reply": "2024-08-27T01:41:15.372383Z"
    },
    "papermill": {
     "duration": 378.682507,
     "end_time": "2024-08-27T01:41:15.394336",
     "exception": false,
     "start_time": "2024-08-27T01:34:56.711829",
     "status": "completed"
    },
    "tags": []
   },
   "outputs": [
    {
     "name": "stdout",
     "output_type": "stream",
     "text": [
      "CPU times: user 7min 15s, sys: 32.2 s, total: 7min 47s\n",
      "Wall time: 6min 18s\n"
     ]
    }
   ],
   "source": [
    "%%time\n",
    "df['dullness'] = df['path'].apply(lambda x: perform_color_analysis(x, 'black'))"
   ]
  },
  {
   "cell_type": "code",
   "execution_count": 13,
   "id": "d5740d10",
   "metadata": {
    "execution": {
     "iopub.execute_input": "2024-08-27T01:41:15.434711Z",
     "iopub.status.busy": "2024-08-27T01:41:15.434384Z",
     "iopub.status.idle": "2024-08-27T01:41:15.701146Z",
     "shell.execute_reply": "2024-08-27T01:41:15.700286Z"
    },
    "papermill": {
     "duration": 0.289307,
     "end_time": "2024-08-27T01:41:15.703219",
     "exception": false,
     "start_time": "2024-08-27T01:41:15.413912",
     "status": "completed"
    },
    "tags": []
   },
   "outputs": [
    {
     "data": {
      "image/png": "[encoded data removed]",
      "text/plain": [
       "<Figure size 1200x600 with 1 Axes>"
      ]
     },
     "metadata": {},
     "output_type": "display_data"
    }
   ],
   "source": [
    "plt.figure(figsize=(12,6))\n",
    "sns.boxplot(x=df['Finding Labels'], y=df['dullness'])\n",
    "plt.show()"
   ]
  },
  {
   "cell_type": "markdown",
   "id": "12a14d10",
   "metadata": {
    "papermill": {
     "duration": 0.019657,
     "end_time": "2024-08-27T01:41:15.743060",
     "exception": false,
     "start_time": "2024-08-27T01:41:15.723403",
     "status": "completed"
    },
    "tags": []
   },
   "source": [
    "### Feature 2: Whiteness\n",
    "\n",
    "=> Image Whiteness Score"
   ]
  },
  {
   "cell_type": "code",
   "execution_count": 14,
   "id": "c1bd1884",
   "metadata": {
    "execution": {
     "iopub.execute_input": "2024-08-27T01:41:15.784002Z",
     "iopub.status.busy": "2024-08-27T01:41:15.783699Z",
     "iopub.status.idle": "2024-08-27T01:47:32.269890Z",
     "shell.execute_reply": "2024-08-27T01:47:32.268991Z"
    },
    "papermill": {
     "duration": 376.52948,
     "end_time": "2024-08-27T01:47:32.292365",
     "exception": false,
     "start_time": "2024-08-27T01:41:15.762885",
     "status": "completed"
    },
    "tags": []
   },
   "outputs": [
    {
     "name": "stdout",
     "output_type": "stream",
     "text": [
      "CPU times: user 7min 12s, sys: 32.4 s, total: 7min 45s\n",
      "Wall time: 6min 16s\n"
     ]
    }
   ],
   "source": [
    "%%time\n",
    "df['whiteness'] = df['path'].apply(lambda x: perform_color_analysis(x, 'white'))"
   ]
  },
  {
   "cell_type": "code",
   "execution_count": 15,
   "id": "e6f1b999",
   "metadata": {
    "execution": {
     "iopub.execute_input": "2024-08-27T01:47:32.334104Z",
     "iopub.status.busy": "2024-08-27T01:47:32.333660Z",
     "iopub.status.idle": "2024-08-27T01:47:32.576985Z",
     "shell.execute_reply": "2024-08-27T01:47:32.576074Z"
    },
    "papermill": {
     "duration": 0.26648,
     "end_time": "2024-08-27T01:47:32.578998",
     "exception": false,
     "start_time": "2024-08-27T01:47:32.312518",
     "status": "completed"
    },
    "tags": []
   },
   "outputs": [
    {
     "data": {
      "image/png": "[encoded data removed]",
      "text/plain": [
       "<Figure size 1200x600 with 1 Axes>"
      ]
     },
     "metadata": {},
     "output_type": "display_data"
    }
   ],
   "source": [
    "plt.figure(figsize=(12,6))\n",
    "sns.boxplot(x=df['Finding Labels'], y=df['whiteness'])\n",
    "plt.show()"
   ]
  },
  {
   "cell_type": "markdown",
   "id": "6d349e13",
   "metadata": {
    "papermill": {
     "duration": 0.020675,
     "end_time": "2024-08-27T01:47:32.620463",
     "exception": false,
     "start_time": "2024-08-27T01:47:32.599788",
     "status": "completed"
    },
    "tags": []
   },
   "source": [
    "### Feature 3: Uniformity\n",
    "\n",
    "=> Average Pixel Width"
   ]
  },
  {
   "cell_type": "code",
   "execution_count": 16,
   "id": "56129367",
   "metadata": {
    "execution": {
     "iopub.execute_input": "2024-08-27T01:47:32.663033Z",
     "iopub.status.busy": "2024-08-27T01:47:32.662472Z",
     "iopub.status.idle": "2024-08-27T01:47:32.670145Z",
     "shell.execute_reply": "2024-08-27T01:47:32.669311Z"
    },
    "papermill": {
     "duration": 0.031105,
     "end_time": "2024-08-27T01:47:32.671994",
     "exception": false,
     "start_time": "2024-08-27T01:47:32.640889",
     "status": "completed"
    },
    "tags": []
   },
   "outputs": [],
   "source": [
    "from skimage import feature"
   ]
  },
  {
   "cell_type": "code",
   "execution_count": 17,
   "id": "5c57c020",
   "metadata": {
    "execution": {
     "iopub.execute_input": "2024-08-27T01:47:32.713929Z",
     "iopub.status.busy": "2024-08-27T01:47:32.713456Z",
     "iopub.status.idle": "2024-08-27T01:47:32.719389Z",
     "shell.execute_reply": "2024-08-27T01:47:32.718601Z"
    },
    "papermill": {
     "duration": 0.028984,
     "end_time": "2024-08-27T01:47:32.721147",
     "exception": false,
     "start_time": "2024-08-27T01:47:32.692163",
     "status": "completed"
    },
    "tags": []
   },
   "outputs": [],
   "source": [
    "def average_pixel_width(path):\n",
    "    cropped_img = crop_imgs(path, all_mask[df[df['path'] == path].index[0]])\n",
    "    cropped_img = cv2.resize(cropped_img, (512, 512), interpolation=cv2.INTER_LANCZOS4)\n",
    "    im = Image.fromarray(cropped_img)\n",
    "    im_array = np.asarray(im.convert(mode='L'))\n",
    "    edges_sigma1 = feature.canny(im_array, sigma=3)\n",
    "    \n",
    "    apw = (float(np.sum(edges_sigma1)) / (im.size[0]*im.size[1]))\n",
    "    return apw*100"
   ]
  },
  {
   "cell_type": "code",
   "execution_count": 18,
   "id": "5566001b",
   "metadata": {
    "execution": {
     "iopub.execute_input": "2024-08-27T01:47:32.763023Z",
     "iopub.status.busy": "2024-08-27T01:47:32.762763Z",
     "iopub.status.idle": "2024-08-27T01:52:00.165580Z",
     "shell.execute_reply": "2024-08-27T01:52:00.164604Z"
    },
    "papermill": {
     "duration": 267.447256,
     "end_time": "2024-08-27T01:52:00.189132",
     "exception": false,
     "start_time": "2024-08-27T01:47:32.741876",
     "status": "completed"
    },
    "tags": []
   },
   "outputs": [
    {
     "name": "stdout",
     "output_type": "stream",
     "text": [
      "CPU times: user 5min 29s, sys: 29 s, total: 5min 58s\n",
      "Wall time: 4min 27s\n"
     ]
    }
   ],
   "source": [
    "%%time\n",
    "df['apw'] = df['path'].apply(lambda x: average_pixel_width(x))"
   ]
  },
  {
   "cell_type": "code",
   "execution_count": 19,
   "id": "bd2eb5f1",
   "metadata": {
    "execution": {
     "iopub.execute_input": "2024-08-27T01:52:00.231626Z",
     "iopub.status.busy": "2024-08-27T01:52:00.230987Z",
     "iopub.status.idle": "2024-08-27T01:52:00.502326Z",
     "shell.execute_reply": "2024-08-27T01:52:00.501390Z"
    },
    "papermill": {
     "duration": 0.294864,
     "end_time": "2024-08-27T01:52:00.504478",
     "exception": false,
     "start_time": "2024-08-27T01:52:00.209614",
     "status": "completed"
    },
    "tags": []
   },
   "outputs": [
    {
     "data": {
      "image/png": "[encoded data removed]",
      "text/plain": [
       "<Figure size 1200x600 with 1 Axes>"
      ]
     },
     "metadata": {},
     "output_type": "display_data"
    }
   ],
   "source": [
    "plt.figure(figsize=(12,6))\n",
    "sns.boxplot(x=df['Finding Labels'], y=df['apw'])\n",
    "plt.show()"
   ]
  },
  {
   "cell_type": "markdown",
   "id": "aa5aea96",
   "metadata": {
    "papermill": {
     "duration": 0.020895,
     "end_time": "2024-08-27T01:52:00.546631",
     "exception": false,
     "start_time": "2024-08-27T01:52:00.525736",
     "status": "completed"
    },
    "tags": []
   },
   "source": [
    "### Feature 4: Colors\n",
    "\n",
    "=> Average Color of the Image "
   ]
  },
  {
   "cell_type": "code",
   "execution_count": 20,
   "id": "536cb10c",
   "metadata": {
    "execution": {
     "iopub.execute_input": "2024-08-27T01:52:00.589863Z",
     "iopub.status.busy": "2024-08-27T01:52:00.589501Z",
     "iopub.status.idle": "2024-08-27T01:52:00.595534Z",
     "shell.execute_reply": "2024-08-27T01:52:00.594659Z"
    },
    "papermill": {
     "duration": 0.029906,
     "end_time": "2024-08-27T01:52:00.597438",
     "exception": false,
     "start_time": "2024-08-27T01:52:00.567532",
     "status": "completed"
    },
    "tags": []
   },
   "outputs": [],
   "source": [
    "def get_average_color(path):\n",
    "    cropped_img = crop_imgs(path, all_mask[df[df['path'] == path].index[0]])\n",
    "    cropped_img = cv2.resize(cropped_img, (512, 512), interpolation=cv2.INTER_LANCZOS4)\n",
    "    img = cropped_img\n",
    "    average_red = img[:,:,0].mean()\n",
    "    average_green = img[:,:,1].mean()\n",
    "    average_blue = img[:,:,2].mean()\n",
    "    \n",
    "    average = [average_red,  average_green,  average_blue]\n",
    "    return average"
   ]
  },
  {
   "cell_type": "code",
   "execution_count": 21,
   "id": "8258c1fc",
   "metadata": {
    "execution": {
     "iopub.execute_input": "2024-08-27T01:52:00.640294Z",
     "iopub.status.busy": "2024-08-27T01:52:00.639963Z",
     "iopub.status.idle": "2024-08-27T01:58:59.565329Z",
     "shell.execute_reply": "2024-08-27T01:58:59.564326Z"
    },
    "papermill": {
     "duration": 418.970806,
     "end_time": "2024-08-27T01:58:59.589046",
     "exception": false,
     "start_time": "2024-08-27T01:52:00.618240",
     "status": "completed"
    },
    "tags": []
   },
   "outputs": [
    {
     "name": "stdout",
     "output_type": "stream",
     "text": [
      "CPU times: user 10min 3s, sys: 1min 25s, total: 11min 29s\n",
      "Wall time: 6min 58s\n"
     ]
    }
   ],
   "source": [
    "%%time\n",
    "df['average_red'] = df['path'].apply(lambda x: get_average_color(x)[0])\n",
    "df['average_green'] = df['path'].apply(lambda x: get_average_color(x)[1])\n",
    "df['average_blue'] = df['path'].apply(lambda x: get_average_color(x)[2])\n"
   ]
  },
  {
   "cell_type": "code",
   "execution_count": 22,
   "id": "1055f6fd",
   "metadata": {
    "execution": {
     "iopub.execute_input": "2024-08-27T01:58:59.633073Z",
     "iopub.status.busy": "2024-08-27T01:58:59.632153Z",
     "iopub.status.idle": "2024-08-27T01:59:00.429518Z",
     "shell.execute_reply": "2024-08-27T01:59:00.428547Z"
    },
    "papermill": {
     "duration": 0.821387,
     "end_time": "2024-08-27T01:59:00.431721",
     "exception": false,
     "start_time": "2024-08-27T01:58:59.610334",
     "status": "completed"
    },
    "tags": []
   },
   "outputs": [
    {
     "data": {
      "image/png": "[encoded data removed]",
      "text/plain": [
       "<Figure size 1200x600 with 3 Axes>"
      ]
     },
     "metadata": {},
     "output_type": "display_data"
    }
   ],
   "source": [
    "plt.figure(figsize=(12,6))\n",
    "\n",
    "plt.subplot(2,2,1)\n",
    "plt.title('average_red')\n",
    "sns.boxplot(x=df['Finding Labels'], y=df['average_red'])\n",
    "plt.xticks(rotation=90)\n",
    "plt.subplot(2,2,2)\n",
    "plt.title('average_green')\n",
    "sns.boxplot(x=df['Finding Labels'], y=df['average_red'])\n",
    "plt.xticks(rotation=90)\n",
    "plt.subplot(2,2,3)\n",
    "plt.title('average_blue')\n",
    "sns.boxplot(x=df['Finding Labels'], y=df['average_red'])\n",
    "plt.xticks(rotation=90)\n",
    "plt.tight_layout()\n",
    "plt.show()"
   ]
  },
  {
   "cell_type": "markdown",
   "id": "77ea30c6",
   "metadata": {
    "papermill": {
     "duration": 0.021866,
     "end_time": "2024-08-27T01:59:00.476114",
     "exception": false,
     "start_time": "2024-08-27T01:59:00.454248",
     "status": "completed"
    },
    "tags": []
   },
   "source": [
    "### Feature 5: Blurness\n",
    "\n",
    "=> Width of th Image"
   ]
  },
  {
   "cell_type": "code",
   "execution_count": 23,
   "id": "7070a193",
   "metadata": {
    "execution": {
     "iopub.execute_input": "2024-08-27T01:59:00.521326Z",
     "iopub.status.busy": "2024-08-27T01:59:00.520988Z",
     "iopub.status.idle": "2024-08-27T01:59:00.526523Z",
     "shell.execute_reply": "2024-08-27T01:59:00.525717Z"
    },
    "papermill": {
     "duration": 0.030422,
     "end_time": "2024-08-27T01:59:00.528400",
     "exception": false,
     "start_time": "2024-08-27T01:59:00.497978",
     "status": "completed"
    },
    "tags": []
   },
   "outputs": [],
   "source": [
    "def get_blurrness_score(path):\n",
    "    cropped_img = crop_imgs(path, all_mask[df[df['path'] == path].index[0]])\n",
    "    cropped_img = cv2.resize(cropped_img, (512, 512), interpolation=cv2.INTER_LANCZOS4)\n",
    "    image = cv2.cvtColor(cropped_img, cv2.COLOR_RGB2GRAY)\n",
    "    fm = cv2.Laplacian(image, cv2.CV_64F).var()\n",
    "    return fm"
   ]
  },
  {
   "cell_type": "code",
   "execution_count": 24,
   "id": "4052ec7c",
   "metadata": {
    "execution": {
     "iopub.execute_input": "2024-08-27T01:59:00.573189Z",
     "iopub.status.busy": "2024-08-27T01:59:00.572891Z",
     "iopub.status.idle": "2024-08-27T02:01:24.197168Z",
     "shell.execute_reply": "2024-08-27T02:01:24.196308Z"
    },
    "papermill": {
     "duration": 143.671503,
     "end_time": "2024-08-27T02:01:24.221644",
     "exception": false,
     "start_time": "2024-08-27T01:59:00.550141",
     "status": "completed"
    },
    "tags": []
   },
   "outputs": [
    {
     "name": "stdout",
     "output_type": "stream",
     "text": [
      "CPU times: user 3min 26s, sys: 29.8 s, total: 3min 56s\n",
      "Wall time: 2min 23s\n"
     ]
    }
   ],
   "source": [
    "%%time\n",
    "df['average_color'] = df['path'].apply(lambda x: get_blurrness_score(x))"
   ]
  },
  {
   "cell_type": "code",
   "execution_count": 25,
   "id": "9059cd8f",
   "metadata": {
    "execution": {
     "iopub.execute_input": "2024-08-27T02:01:24.267308Z",
     "iopub.status.busy": "2024-08-27T02:01:24.266993Z",
     "iopub.status.idle": "2024-08-27T02:01:24.532074Z",
     "shell.execute_reply": "2024-08-27T02:01:24.531227Z"
    },
    "papermill": {
     "duration": 0.290038,
     "end_time": "2024-08-27T02:01:24.534039",
     "exception": false,
     "start_time": "2024-08-27T02:01:24.244001",
     "status": "completed"
    },
    "tags": []
   },
   "outputs": [
    {
     "data": {
      "image/png": "[encoded data removed]",
      "text/plain": [
       "<Figure size 1200x600 with 1 Axes>"
      ]
     },
     "metadata": {},
     "output_type": "display_data"
    }
   ],
   "source": [
    "plt.figure(figsize=(12,6))\n",
    "sns.boxplot(x=df['Finding Labels'], y=df['average_color'])\n",
    "plt.show()"
   ]
  },
  {
   "cell_type": "code",
   "execution_count": null,
   "id": "7d69bd37",
   "metadata": {
    "papermill": {
     "duration": 0.022885,
     "end_time": "2024-08-27T02:01:24.579812",
     "exception": false,
     "start_time": "2024-08-27T02:01:24.556927",
     "status": "completed"
    },
    "tags": []
   },
   "outputs": [],
   "source": []
  }
 ],
 "metadata": {
  "kaggle": {
   "accelerator": "nvidiaTeslaT4",
   "dataSources": [
    {
     "datasetId": 5571851,
     "sourceId": 9214563,
     "sourceType": "datasetVersion"
    },
    {
     "datasetId": 5554483,
     "sourceId": 9254527,
     "sourceType": "datasetVersion"
    }
   ],
   "isGpuEnabled": true,
   "isInternetEnabled": true,
   "language": "python",
   "sourceType": "notebook"
  },
  "kernelspec": {
   "display_name": "Python 3",
   "language": "python",
   "name": "python3"
  },
  "language_info": {
   "codemirror_mode": {
    "name": "ipython",
    "version": 3
   },
   "file_extension": ".py",
   "mimetype": "text/x-python",
   "name": "python",
   "nbconvert_exporter": "python",
   "pygments_lexer": "ipython3",
   "version": "3.10.14"
  },
  "papermill": {
   "default_parameters": {},
   "duration": 1832.471348,
   "end_time": "2024-08-27T02:01:27.744143",
   "environment_variables": {},
   "exception": null,
   "input_path": "__notebook__.ipynb",
   "output_path": "__notebook__.ipynb",
   "parameters": {},
   "start_time": "2024-08-27T01:30:55.272795",
   "version": "2.6.0"
  }
 },
 "nbformat": 4,
 "nbformat_minor": 5
}
