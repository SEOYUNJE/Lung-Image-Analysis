{
  "nbformat": 4,
  "nbformat_minor": 0,
  "metadata": {
    "colab": {
      "provenance": [],
      "authorship_tag": "ABX9TyOqJUbB+fAHV1pB3J/KrI2t",
      "include_colab_link": true
    },
    "kernelspec": {
      "name": "python3",
      "display_name": "Python 3"
    },
    "language_info": {
      "name": "python"
    }
  },
  "cells": [
    {
      "cell_type": "markdown",
      "metadata": {
        "id": "view-in-github",
        "colab_type": "text"
      },
      "source": [
        "<a href=\"https://colab.research.google.com/github/SEOYUNJE/Lung-Image-Analysis/blob/main/Untitled3.ipynb\" target=\"_parent\"><img src=\"https://colab.research.google.com/assets/colab-badge.svg\" alt=\"Open In Colab\"/></a>"
      ]
    },
    {
      "cell_type": "markdown",
      "source": [
        "\n",
        "## Build DataGenerator"
      ],
      "metadata": {
        "id": "Aq21-hFL7fpw"
      }
    },
    {
      "cell_type": "markdown",
      "source": [
        "**Configure**\n",
        "\n",
        "- Image Size; `256x256X3`\n",
        "- Resampling: `Image.Resampling.LANCZOS`\n",
        "- Filter: `None`\n",
        "\n",
        "   => `bilateralFilter`, `GaussianFilter`, `Median Filter`\n",
        "- Batch Size: `16`\n",
        "- Drop_Last: `False`\n",
        "- Clahe: `clipLimit=2.0` & `tileGridSize=(4,4)`\n",
        "- Preprocessing:   \n",
        "=> It's different for each model\n",
        "\n",
        "  1) Method1: `0~255`  \n",
        "\n",
        "  2) Method2: `-1~1`\n",
        "\n",
        "  3) Method3: `0~1` & `Normalization`\n",
        "\n",
        "- Weak Augmentation: `HorizontalFlip(p=0.5)`\n",
        "\n",
        "- Strong Augmentation: `Mixup(p=0.1)`"
      ],
      "metadata": {
        "id": "27KE1tDV7qLt"
      }
    },
    {
      "cell_type": "code",
      "execution_count": null,
      "metadata": {
        "id": "MlsRGevd7cZN"
      },
      "outputs": [],
      "source": [
        "import albumentations as albu\n",
        "print(albu.__version__)"
      ]
    },
    {
      "cell_type": "code",
      "source": [
        "class DataGenerator(tf.keras.utils.Sequence):\n",
        "    def __init__(self, data, batch_size=16, shuffle=False, augment1=False, augment2=False, preprocess=None):\n",
        "        super().__init__()\n",
        "        self.data = data\n",
        "        self.batch_size = batch_size\n",
        "        self.shuffle = shuffle\n",
        "        self.augment1 = augment1\n",
        "        self.augment2 = augment2\n",
        "        self.on_epoch_end()\n",
        "        self.preprocess = preprocess\n",
        "        self.clahe = cv2.createCLAHE(clipLimit=2.0, tileGridSize=(4,4))\n",
        "\n",
        "    def __len__(self):\n",
        "\n",
        "        # Drop_Last = False\n",
        "        ct = int(np.ceil(len(self.data)/self.batch_size))\n",
        "        return ct\n",
        "\n",
        "    def __getitem__(self,index):\n",
        "        indexes = self.indexes[index*self.batch_size:(index+1)*self.batch_size]\n",
        "        X, y = self.__data_generation(indexes)\n",
        "        if self.preprocess != None: X = self.preprocess(X)\n",
        "        if self.augment1: X = self.__augment1(X)\n",
        "        if self.augment2: X = self.__augment2(X)\n",
        "        return X,y\n",
        "\n",
        "    def on_epoch_end(self,):\n",
        "        self.indexes = np.arange(len(self.data))\n",
        "        if self.shuffle: np.random.shuffle(self.indexes)\n",
        "\n",
        "    def __data_generation(self, indexes):\n",
        "\n",
        "        X = np.zeros((len(indexes),256,256,3), dtype='float32')\n",
        "        y = np.zeros((len(indexes),len(TARGET)), dtype='float32')\n",
        "\n",
        "        for j,i in enumerate(indexes):\n",
        "            row = self.data.iloc[i]\n",
        "            path = row['path']\n",
        "            img = Image.open(path).convert('L')\n",
        "            img = img.resize((256,256), Image.Resampling.LANCZOS) # DownSampling\n",
        "            img = np.array(img) # PIL Object -> np.array(uint8)\n",
        "            img = self.clahe.apply(img)\n",
        "            img = np.expand_dims(img, axis=-1)\n",
        "            img = cv2.cvtColor(img, cv2.COLOR_GRAY2RGB)\n",
        "            # img = cv2.bilateralFilter(img, d=5, sigmaColor=75, sigmaSpace=75)\n",
        "\n",
        "            # FillNaN\n",
        "            m = np.nanmean(img)\n",
        "            img = np.nan_to_num(img, nan=m)\n",
        "\n",
        "            X[j,:,:] = img\n",
        "            y[j,] = row[TARGET]\n",
        "\n",
        "        return X,y\n",
        "\n",
        "    def __augment1(self, img_batch):\n",
        "\n",
        "        composition = albu.Compose([\n",
        "            albu.HorizontalFlip(p=0.5),\n",
        "\n",
        "        ])\n",
        "\n",
        "        for i in range(img_batch.shape[0]):\n",
        "            img = composition(image=img_batch[i,])['image']\n",
        "            img_batch[i,] = img\n",
        "\n",
        "        return img_batch\n",
        "\n",
        "\n",
        "    def __augment2(self, img_batch, mixup_prob=0.1):\n",
        "        batch_size, height, width, channels = img_batch.shape\n",
        "\n",
        "        idx = np.random.permutation(batch_size)\n",
        "        lam = np.random.beta(2.0, 2.0)\n",
        "\n",
        "        for i in range(batch_size):\n",
        "            if np.random.rand() <= mixup_prob:\n",
        "                j = idx[i]\n",
        "\n",
        "                img_batch[i] = img_batch[i] * lam + img_batch[j] * (1-lam)\n",
        "\n",
        "        return img_batch\n"
      ],
      "metadata": {
        "id": "OKFkP0Kx7fJH"
      },
      "execution_count": null,
      "outputs": []
    }
  ]
}